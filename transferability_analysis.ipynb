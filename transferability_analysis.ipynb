{
 "cells": [
  {
   "cell_type": "code",
   "execution_count": 1,
   "metadata": {},
   "outputs": [
    {
     "name": "stdout",
     "output_type": "stream",
     "text": [
      "ModuleNotFoundError: DBus works only on linux!\n"
     ]
    },
    {
     "name": "stderr",
     "output_type": "stream",
     "text": [
      "Using TensorFlow backend.\n"
     ]
    },
    {
     "name": "stdout",
     "output_type": "stream",
     "text": [
      "ModuleNotFoundError: DBus works only on linux!\n"
     ]
    },
    {
     "data": {
      "text/html": [
       "        <script type=\"text/javascript\">\n",
       "        window.PlotlyConfig = {MathJaxConfig: 'local'};\n",
       "        if (window.MathJax) {MathJax.Hub.Config({SVG: {font: \"STIX-Web\"}});}\n",
       "        if (typeof require !== 'undefined') {\n",
       "        require.undef(\"plotly\");\n",
       "        requirejs.config({\n",
       "            paths: {\n",
       "                'plotly': ['https://cdn.plot.ly/plotly-latest.min']\n",
       "            }\n",
       "        });\n",
       "        require(['plotly'], function(Plotly) {\n",
       "            window._Plotly = Plotly;\n",
       "        });\n",
       "        }\n",
       "        </script>\n",
       "        "
      ]
     },
     "metadata": {},
     "output_type": "display_data"
    }
   ],
   "source": [
    "from pathlib import Path, PurePath\n",
    "import plotly.plotly as py\n",
    "import plotly.graph_objs as go\n",
    "from plotly.offline import init_notebook_mode\n",
    "from analysis import read_behaviors, read_moea_fitness, unpickle_moea\n",
    "from utility.util_functions import calc_str_disparity, euclidean_distance\n",
    "from utility.visualize import plot_path, plot_moea_fitness, plot_surrogate_model, plot_str_disparity, plot_moea_fitness_2d\n",
    "import pickle\n",
    "import numpy as np\n",
    "from deap import base, creator\n",
    "from evolution.simulation import Disparity\n",
    "import scipy as sp\n",
    "from scipy import stats\n",
    "import math\n",
    "init_notebook_mode(connected=True)\n"
   ]
  },
  {
   "cell_type": "code",
   "execution_count": 2,
   "metadata": {},
   "outputs": [],
   "source": [
    "# get the path for all behavioral features\n",
    "files = sorted(Path('data/results/').glob('transferability_*/behavioral_features.dat'))\n",
    "fitness_f = sorted(Path('data/results/').glob('transferability_*/fitness.dat'))"
   ]
  },
  {
   "cell_type": "code",
   "execution_count": 3,
   "metadata": {},
   "outputs": [],
   "source": [
    "columns = [\n",
    "        'avg_left', 'avg_right',\n",
    "        's1', 's2', 's3', 's4', 's5', 's6', 's7',\n",
    "        'area0_percentage',\n",
    "        'area1_percentage',\n",
    "        'area2_percentage',\n",
    "    ]"
   ]
  },
  {
   "cell_type": "code",
   "execution_count": 4,
   "metadata": {},
   "outputs": [
    {
     "data": {
      "text/plain": [
       "PosixPath('data/results/transferability_simulation_18/fitness.dat')"
      ]
     },
     "execution_count": 4,
     "metadata": {},
     "output_type": "execute_result"
    }
   ],
   "source": [
    "fitness_f[9]"
   ]
  },
  {
   "cell_type": "code",
   "execution_count": 5,
   "metadata": {},
   "outputs": [],
   "source": [
    "behaviors = read_behaviors([files[9]])[0]"
   ]
  },
  {
   "cell_type": "code",
   "execution_count": 6,
   "metadata": {},
   "outputs": [
    {
     "data": {
      "text/html": [
       "<div>\n",
       "<style scoped>\n",
       "    .dataframe tbody tr th:only-of-type {\n",
       "        vertical-align: middle;\n",
       "    }\n",
       "\n",
       "    .dataframe tbody tr th {\n",
       "        vertical-align: top;\n",
       "    }\n",
       "\n",
       "    .dataframe thead th {\n",
       "        text-align: right;\n",
       "    }\n",
       "</style>\n",
       "<table border=\"1\" class=\"dataframe\">\n",
       "  <thead>\n",
       "    <tr style=\"text-align: right;\">\n",
       "      <th></th>\n",
       "      <th>gen</th>\n",
       "      <th>genome_id</th>\n",
       "      <th>simulation</th>\n",
       "      <th>avg_left</th>\n",
       "      <th>avg_right</th>\n",
       "      <th>s1</th>\n",
       "      <th>s2</th>\n",
       "      <th>s3</th>\n",
       "      <th>s4</th>\n",
       "      <th>s5</th>\n",
       "      <th>s6</th>\n",
       "      <th>s7</th>\n",
       "      <th>area0_percentage</th>\n",
       "      <th>area1_percentage</th>\n",
       "      <th>area2_percentage</th>\n",
       "    </tr>\n",
       "  </thead>\n",
       "  <tbody>\n",
       "    <tr>\n",
       "      <th>671</th>\n",
       "      <td>24</td>\n",
       "      <td>494</td>\n",
       "      <td>VREP</td>\n",
       "      <td>0.634055</td>\n",
       "      <td>0.633922</td>\n",
       "      <td>0.806828</td>\n",
       "      <td>0.776853</td>\n",
       "      <td>0.000000</td>\n",
       "      <td>0.000000</td>\n",
       "      <td>0.000000</td>\n",
       "      <td>0.004996</td>\n",
       "      <td>0.004996</td>\n",
       "      <td>1.000000</td>\n",
       "      <td>0.0</td>\n",
       "      <td>0.000000</td>\n",
       "    </tr>\n",
       "    <tr>\n",
       "      <th>683</th>\n",
       "      <td>24</td>\n",
       "      <td>494</td>\n",
       "      <td>THYMIO</td>\n",
       "      <td>0.624684</td>\n",
       "      <td>0.915316</td>\n",
       "      <td>0.000000</td>\n",
       "      <td>0.012717</td>\n",
       "      <td>0.011561</td>\n",
       "      <td>0.745665</td>\n",
       "      <td>0.811561</td>\n",
       "      <td>0.000000</td>\n",
       "      <td>0.000000</td>\n",
       "      <td>0.567698</td>\n",
       "      <td>0.0</td>\n",
       "      <td>0.432302</td>\n",
       "    </tr>\n",
       "  </tbody>\n",
       "</table>\n",
       "</div>"
      ],
      "text/plain": [
       "     gen  genome_id simulation  avg_left  avg_right        s1        s2  \\\n",
       "671   24        494       VREP  0.634055   0.633922  0.806828  0.776853   \n",
       "683   24        494     THYMIO  0.624684   0.915316  0.000000  0.012717   \n",
       "\n",
       "           s3        s4        s5        s6        s7  area0_percentage  \\\n",
       "671  0.000000  0.000000  0.000000  0.004996  0.004996          1.000000   \n",
       "683  0.011561  0.745665  0.811561  0.000000  0.000000          0.567698   \n",
       "\n",
       "     area1_percentage  area2_percentage  \n",
       "671               0.0          0.000000  \n",
       "683               0.0          0.432302  "
      ]
     },
     "execution_count": 6,
     "metadata": {},
     "output_type": "execute_result"
    }
   ],
   "source": [
    "behaviors.loc[behaviors['genome_id'] == 494].head()"
   ]
  },
  {
   "cell_type": "code",
   "execution_count": 7,
   "metadata": {},
   "outputs": [
    {
     "data": {
      "text/html": [
       "<div>\n",
       "<style scoped>\n",
       "    .dataframe tbody tr th:only-of-type {\n",
       "        vertical-align: middle;\n",
       "    }\n",
       "\n",
       "    .dataframe tbody tr th {\n",
       "        vertical-align: top;\n",
       "    }\n",
       "\n",
       "    .dataframe thead th {\n",
       "        text-align: right;\n",
       "    }\n",
       "</style>\n",
       "<table border=\"1\" class=\"dataframe\">\n",
       "  <thead>\n",
       "    <tr style=\"text-align: right;\">\n",
       "      <th></th>\n",
       "      <th>gen</th>\n",
       "      <th>genome_id</th>\n",
       "      <th>simulation</th>\n",
       "      <th>avg_left</th>\n",
       "      <th>avg_right</th>\n",
       "      <th>s1</th>\n",
       "      <th>s2</th>\n",
       "      <th>s3</th>\n",
       "      <th>s4</th>\n",
       "      <th>s5</th>\n",
       "      <th>s6</th>\n",
       "      <th>s7</th>\n",
       "      <th>area0_percentage</th>\n",
       "      <th>area1_percentage</th>\n",
       "      <th>area2_percentage</th>\n",
       "    </tr>\n",
       "  </thead>\n",
       "  <tbody>\n",
       "    <tr>\n",
       "      <th>0</th>\n",
       "      <td>0</td>\n",
       "      <td>1</td>\n",
       "      <td>VREP</td>\n",
       "      <td>0.220288</td>\n",
       "      <td>0.040265</td>\n",
       "      <td>0.0</td>\n",
       "      <td>0.0</td>\n",
       "      <td>0.0</td>\n",
       "      <td>0.0</td>\n",
       "      <td>0.0</td>\n",
       "      <td>0.987179</td>\n",
       "      <td>0.987179</td>\n",
       "      <td>1.0</td>\n",
       "      <td>0.0</td>\n",
       "      <td>0.0</td>\n",
       "    </tr>\n",
       "    <tr>\n",
       "      <th>1</th>\n",
       "      <td>0</td>\n",
       "      <td>1</td>\n",
       "      <td>THYMIO</td>\n",
       "      <td>0.261485</td>\n",
       "      <td>0.047720</td>\n",
       "      <td>0.0</td>\n",
       "      <td>0.0</td>\n",
       "      <td>0.0</td>\n",
       "      <td>0.0</td>\n",
       "      <td>0.0</td>\n",
       "      <td>0.157895</td>\n",
       "      <td>0.289474</td>\n",
       "      <td>1.0</td>\n",
       "      <td>0.0</td>\n",
       "      <td>0.0</td>\n",
       "    </tr>\n",
       "    <tr>\n",
       "      <th>2</th>\n",
       "      <td>0</td>\n",
       "      <td>1</td>\n",
       "      <td>VREP</td>\n",
       "      <td>0.220288</td>\n",
       "      <td>0.040265</td>\n",
       "      <td>0.0</td>\n",
       "      <td>0.0</td>\n",
       "      <td>0.0</td>\n",
       "      <td>0.0</td>\n",
       "      <td>0.0</td>\n",
       "      <td>0.987179</td>\n",
       "      <td>0.987179</td>\n",
       "      <td>1.0</td>\n",
       "      <td>0.0</td>\n",
       "      <td>0.0</td>\n",
       "    </tr>\n",
       "    <tr>\n",
       "      <th>3</th>\n",
       "      <td>0</td>\n",
       "      <td>2</td>\n",
       "      <td>VREP</td>\n",
       "      <td>0.676044</td>\n",
       "      <td>0.652744</td>\n",
       "      <td>0.0</td>\n",
       "      <td>0.0</td>\n",
       "      <td>0.0</td>\n",
       "      <td>0.0</td>\n",
       "      <td>0.0</td>\n",
       "      <td>0.150000</td>\n",
       "      <td>0.140000</td>\n",
       "      <td>1.0</td>\n",
       "      <td>0.0</td>\n",
       "      <td>0.0</td>\n",
       "    </tr>\n",
       "    <tr>\n",
       "      <th>4</th>\n",
       "      <td>0</td>\n",
       "      <td>3</td>\n",
       "      <td>VREP</td>\n",
       "      <td>0.066874</td>\n",
       "      <td>0.514206</td>\n",
       "      <td>0.0</td>\n",
       "      <td>0.0</td>\n",
       "      <td>0.0</td>\n",
       "      <td>0.0</td>\n",
       "      <td>0.0</td>\n",
       "      <td>0.630000</td>\n",
       "      <td>0.310000</td>\n",
       "      <td>1.0</td>\n",
       "      <td>0.0</td>\n",
       "      <td>0.0</td>\n",
       "    </tr>\n",
       "  </tbody>\n",
       "</table>\n",
       "</div>"
      ],
      "text/plain": [
       "   gen  genome_id simulation  avg_left  avg_right   s1   s2   s3   s4   s5  \\\n",
       "0    0          1       VREP  0.220288   0.040265  0.0  0.0  0.0  0.0  0.0   \n",
       "1    0          1     THYMIO  0.261485   0.047720  0.0  0.0  0.0  0.0  0.0   \n",
       "2    0          1       VREP  0.220288   0.040265  0.0  0.0  0.0  0.0  0.0   \n",
       "3    0          2       VREP  0.676044   0.652744  0.0  0.0  0.0  0.0  0.0   \n",
       "4    0          3       VREP  0.066874   0.514206  0.0  0.0  0.0  0.0  0.0   \n",
       "\n",
       "         s6        s7  area0_percentage  area1_percentage  area2_percentage  \n",
       "0  0.987179  0.987179               1.0               0.0               0.0  \n",
       "1  0.157895  0.289474               1.0               0.0               0.0  \n",
       "2  0.987179  0.987179               1.0               0.0               0.0  \n",
       "3  0.150000  0.140000               1.0               0.0               0.0  \n",
       "4  0.630000  0.310000               1.0               0.0               0.0  "
      ]
     },
     "execution_count": 7,
     "metadata": {},
     "output_type": "execute_result"
    }
   ],
   "source": [
    "behaviors.head()"
   ]
  },
  {
   "cell_type": "code",
   "execution_count": null,
   "metadata": {},
   "outputs": [],
   "source": [
    "b_grouped = behaviors.groupby(['genome_id']).filter(lambda x: len(x) > 1).groupby(['genome_id', 'simulation']).first()"
   ]
  },
  {
   "cell_type": "code",
   "execution_count": null,
   "metadata": {
    "scrolled": true
   },
   "outputs": [],
   "source": [
    "b_grouped.head()"
   ]
  },
  {
   "cell_type": "code",
   "execution_count": null,
   "metadata": {},
   "outputs": [],
   "source": [
    "euclidean_distance(b_grouped[columns].iloc[1], b_grouped[columns].iloc[0])"
   ]
  },
  {
   "cell_type": "code",
   "execution_count": null,
   "metadata": {},
   "outputs": [],
   "source": [
    "for i in range(1, len(b_grouped), 2):\n",
    "    print('genome_id:', \n",
    "          b_grouped[columns].iloc[i].name[0],\n",
    "          'actual diversity',\n",
    "          euclidean_distance(\n",
    "              b_grouped[columns].iloc[i],\n",
    "              b_grouped[columns].iloc[i-1]\n",
    "          )\n",
    "    )"
   ]
  },
  {
   "cell_type": "code",
   "execution_count": 8,
   "metadata": {},
   "outputs": [],
   "source": [
    "fitness_data = read_moea_fitness([fitness_f[9]])[0]"
   ]
  },
  {
   "cell_type": "code",
   "execution_count": null,
   "metadata": {},
   "outputs": [],
   "source": [
    "fitness_data.sort_values(by=['fitness'])"
   ]
  },
  {
   "cell_type": "code",
   "execution_count": null,
   "metadata": {},
   "outputs": [],
   "source": [
    "fitness_data.head()"
   ]
  },
  {
   "cell_type": "code",
   "execution_count": null,
   "metadata": {},
   "outputs": [],
   "source": [
    "hof = unpickle_moea('data/results/transferability_simulation_18/hof')"
   ]
  },
  {
   "cell_type": "code",
   "execution_count": null,
   "metadata": {},
   "outputs": [],
   "source": [
    "len(hof)"
   ]
  },
  {
   "cell_type": "code",
   "execution_count": null,
   "metadata": {
    "scrolled": true
   },
   "outputs": [],
   "source": [
    "plot_moea_fitness_2d(fitness_data, hof)"
   ]
  },
  {
   "cell_type": "code",
   "execution_count": null,
   "metadata": {
    "scrolled": true
   },
   "outputs": [],
   "source": [
    "hof_ids = []\n",
    "for ind in hof:\n",
    "    hof_ids.append(ind.key)\n",
    "    print(ind.key, ind.fitness.values)"
   ]
  },
  {
   "cell_type": "code",
   "execution_count": 9,
   "metadata": {},
   "outputs": [
    {
     "name": "stderr",
     "output_type": "stream",
     "text": [
      "/Users/richban/.local/share/virtualenvs/behavioral.neuroevolution-ViNSkuNA/lib/python3.7/site-packages/deap/creator.py:141: RuntimeWarning:\n",
      "\n",
      "A class named 'FitnessMax' has already been created and it will be overwritten. Consider deleting previous creation of that class or rename it.\n",
      "\n",
      "/Users/richban/.local/share/virtualenvs/behavioral.neuroevolution-ViNSkuNA/lib/python3.7/site-packages/deap/creator.py:141: RuntimeWarning:\n",
      "\n",
      "A class named 'Individual' has already been created and it will be overwritten. Consider deleting previous creation of that class or rename it.\n",
      "\n"
     ]
    }
   ],
   "source": [
    "genomes_file = sorted(Path('data/results/transferability_simulation_18/deap_inds').glob('*_genome.pkl'))\n",
    "transfered_file = sorted(Path('data/results/transferability_simulation_18/deap_inds').glob('*_transformed_genome_.pkl'))\n",
    "genomes = [unpickle_moea(genome) for genome in genomes_file]\n",
    "transferred = [unpickle_moea(genome) for genome in transfered_file]"
   ]
  },
  {
   "cell_type": "code",
   "execution_count": null,
   "metadata": {},
   "outputs": [],
   "source": [
    "transfered_file"
   ]
  },
  {
   "cell_type": "code",
   "execution_count": 10,
   "metadata": {},
   "outputs": [
    {
     "data": {
      "text/plain": [
       "224"
      ]
     },
     "execution_count": 10,
     "metadata": {},
     "output_type": "execute_result"
    }
   ],
   "source": [
    "len(transfered_file)"
   ]
  },
  {
   "cell_type": "code",
   "execution_count": 11,
   "metadata": {},
   "outputs": [],
   "source": [
    "g = sorted(genomes, key=lambda x: x.key)"
   ]
  },
  {
   "cell_type": "code",
   "execution_count": 12,
   "metadata": {},
   "outputs": [],
   "source": [
    "t = sorted(transferred, key=lambda x: x.key)"
   ]
  },
  {
   "cell_type": "code",
   "execution_count": 13,
   "metadata": {},
   "outputs": [],
   "source": [
    "sim_genome = list(filter(lambda x: x.key == 494, g))[0]"
   ]
  },
  {
   "cell_type": "code",
   "execution_count": 14,
   "metadata": {},
   "outputs": [
    {
     "name": "stdout",
     "output_type": "stream",
     "text": [
      "494 (3.3845905856901366, 2.176647353664289, 1.0) 60.049999999998725\n"
     ]
    }
   ],
   "source": [
    "print(sim_genome.key, sim_genome.fitness.values, sim_genome.sim_time)"
   ]
  },
  {
   "cell_type": "code",
   "execution_count": 15,
   "metadata": {},
   "outputs": [],
   "source": [
    "trans_genome = list(filter(lambda x: x.key == 494, t))[0]"
   ]
  },
  {
   "cell_type": "code",
   "execution_count": 16,
   "metadata": {},
   "outputs": [
    {
     "name": "stdout",
     "output_type": "stream",
     "text": [
      "494 (3.3845905856901366, 2.176647353664289, 1.0)\n"
     ]
    }
   ],
   "source": [
    "print(trans_genome.key, trans_genome.fitness.values)"
   ]
  },
  {
   "cell_type": "code",
   "execution_count": 17,
   "metadata": {},
   "outputs": [
    {
     "data": {
      "text/plain": [
       "60.049999999998725"
      ]
     },
     "execution_count": 17,
     "metadata": {},
     "output_type": "execute_result"
    }
   ],
   "source": [
    "sim_genome.sim_time"
   ]
  },
  {
   "cell_type": "code",
   "execution_count": null,
   "metadata": {},
   "outputs": [],
   "source": [
    "sim_genomes = sorted(list(filter(lambda x: x.key in hof_ids[:-10], g)), key=lambda x: x.fitness.values[0])\n",
    "trans_genomes = sorted(list(filter(lambda x: x.key in hof_ids[:-10] t)), key=lambda x: x.fitness.values[0])"
   ]
  },
  {
   "cell_type": "code",
   "execution_count": 18,
   "metadata": {},
   "outputs": [
    {
     "name": "stderr",
     "output_type": "stream",
     "text": [
      "/Users/richban/.local/share/virtualenvs/behavioral.neuroevolution-ViNSkuNA/lib/python3.7/site-packages/IPython/core/display.py:689: UserWarning:\n",
      "\n",
      "Consider using IPython.display.IFrame instead\n",
      "\n"
     ]
    },
    {
     "data": {
      "text/html": [
       "<iframe id=\"igraph\" scrolling=\"no\" style=\"border:none;\" seamless=\"seamless\" src=\"https://plot.ly/~richban_/300.embed\" height=\"525px\" width=\"100%\"></iframe>"
      ],
      "text/plain": [
       "<chart_studio.tools.PlotlyDisplay object>"
      ]
     },
     "execution_count": 18,
     "metadata": {},
     "output_type": "execute_result"
    }
   ],
   "source": [
    "plot_path([sim_genome, trans_genome], 'The discrepancy of traveled trajectories in simulation & reality.')\n",
    "# plot_path(sim_genomes)"
   ]
  },
  {
   "cell_type": "code",
   "execution_count": null,
   "metadata": {},
   "outputs": [],
   "source": [
    "sim_genome.position"
   ]
  },
  {
   "cell_type": "code",
   "execution_count": null,
   "metadata": {},
   "outputs": [],
   "source": [
    "trans_genome.position"
   ]
  },
  {
   "cell_type": "code",
   "execution_count": null,
   "metadata": {},
   "outputs": [],
   "source": [
    "plot_path(trans_genomes)"
   ]
  },
  {
   "cell_type": "code",
   "execution_count": 19,
   "metadata": {},
   "outputs": [
    {
     "data": {
      "text/plain": [
       "26.59650042033296"
      ]
     },
     "execution_count": 19,
     "metadata": {},
     "output_type": "execute_result"
    }
   ],
   "source": [
    "calc_str_disparity(trans_genome.position, sim_genome.position)"
   ]
  },
  {
   "cell_type": "code",
   "execution_count": 20,
   "metadata": {},
   "outputs": [
    {
     "data": {
      "text/plain": [
       "1.9587116144317558"
      ]
     },
     "execution_count": 20,
     "metadata": {},
     "output_type": "execute_result"
    }
   ],
   "source": [
    "euclidean_distance(trans_genome.position, sim_genome.position)"
   ]
  },
  {
   "cell_type": "code",
   "execution_count": null,
   "metadata": {},
   "outputs": [],
   "source": [
    "plot_surrogate_model(fitness_data)"
   ]
  },
  {
   "cell_type": "code",
   "execution_count": 21,
   "metadata": {},
   "outputs": [],
   "source": [
    "# merge  \n",
    "union_t = [(x, y) for x in g for y in t if x.key == y.key]\n",
    "for s, t in union_t:\n",
    "    np.array_equal(s, t)\n",
    "    assert s.key == t.key"
   ]
  },
  {
   "cell_type": "code",
   "execution_count": null,
   "metadata": {},
   "outputs": [],
   "source": [
    "str_disparity = Disparity()"
   ]
  },
  {
   "cell_type": "code",
   "execution_count": null,
   "metadata": {},
   "outputs": [],
   "source": [
    "for s, t in union_t:\n",
    "    print(s.gen, end=\" \")"
   ]
  },
  {
   "cell_type": "code",
   "execution_count": 24,
   "metadata": {},
   "outputs": [],
   "source": [
    "str_disparities = [(s.gen,\n",
    "                    s.key,\n",
    "                    s.fitness.values[0],\n",
    "                    s.fitness.values[1],\n",
    "                    calc_str_disparity(t.position, s.position)\n",
    "                   ) for s, t in union_t\n",
    "                  ]    \n",
    "\n",
    "str_euclidean = [(s.gen,\n",
    "                    s.key,\n",
    "                    s.fitness.values[0],\n",
    "                    s.fitness.values[1],\n",
    "                    calc_str_disparity(t.position, s.position)\n",
    "                   ) for s, t in union_t\n",
    "                ]"
   ]
  },
  {
   "cell_type": "code",
   "execution_count": null,
   "metadata": {},
   "outputs": [],
   "source": [
    "sorted(str_disparities, key=lambda x: x[0])"
   ]
  },
  {
   "cell_type": "code",
   "execution_count": null,
   "metadata": {},
   "outputs": [],
   "source": [
    "np.array([str_disparity[1] for str_disparity in str_disparities])\n",
    "np.array([real_disparity[2] for real_disparity in str_disparities])\n",
    "\n",
    "filter_disparities = list(filter(lambda x: x[2] < 5, str_disparities))\n",
    "filter_disparities[:4]"
   ]
  },
  {
   "cell_type": "code",
   "execution_count": null,
   "metadata": {},
   "outputs": [],
   "source": [
    "plot_str_disparity(str_disparities)"
   ]
  },
  {
   "cell_type": "code",
   "execution_count": null,
   "metadata": {},
   "outputs": [],
   "source": [
    "actual = []\n",
    "approximated = []\n",
    "for s, t in union_t:\n",
    "    approximated.append(s.fitness.values[1])\n",
    "    actual.append(calc_str_disparity(t.position, s.position))"
   ]
  },
  {
   "cell_type": "code",
   "execution_count": null,
   "metadata": {},
   "outputs": [],
   "source": [
    "stats.pearsonr(actual, approximated)"
   ]
  },
  {
   "cell_type": "code",
   "execution_count": 25,
   "metadata": {},
   "outputs": [
    {
     "data": {
      "text/plain": [
       "[(1, 27, 4.511122271805817, 0.22083602115838719, 2.1618874243556885),\n",
       " (1, 31, 5.20168203033889, 0.22083602115838719, 0.8704884585817774),\n",
       " (2, 47, 3.7269785681007557, 0.9817640118427502, 1.5069315329509638),\n",
       " (2, 54, 5.828766334129683, 0.9817640118427502, 9.18696947953385),\n",
       " (3, 62, 4.6134875990238475, 2.8605492079707773, 4.704113996889614),\n",
       " (3, 68, 3.139842704784066, 2.8605492079707773, 1.8261312366998856),\n",
       " (4, 81, 5.56052992240503, 2.902637143456986, 1.18386775617735),\n",
       " (4, 91, 5.787573357303519, 2.902637143456986, 0.6085015628976186),\n",
       " (4, 95, 5.640007221236081, 2.902637143456986, 0.680036914224531),\n",
       " (4, 99, 5.595102751384721, 2.902637143456986, 0.8144829665065617),\n",
       " (5, 103, 4.228242667407882, 1.6954398914786477, 4.234229194937672),\n",
       " (5, 111, 7.451002883058336, 1.6954398914786477, 2.0757833340132246),\n",
       " (5, 112, 5.378864849673304, 1.6954398914786477, 3.5113258114605532),\n",
       " (5, 114, 5.593293545309893, 1.6954398914786477, 0.7465298672042195),\n",
       " (5, 117, 7.466823614311536, 1.6954398914786477, 2.7526650170717097),\n",
       " (6, 121, 5.225729120415156, 2.164725771573125, 1.35825285657377),\n",
       " (6, 122, 4.102210757426693, 2.164725771573125, 1.2277993181042484),\n",
       " (6, 123, 5.4339586076994895, 2.164725771573125, 6.946437627412676),\n",
       " (6, 124, 5.794746091901455, 2.164725771573125, 14.096656554374714),\n",
       " (6, 125, 3.3745618893118725, 2.164725771573125, 2.552809117615319),\n",
       " (6, 127, 4.279812798955394, 2.164725771573125, 3.0159246069840817),\n",
       " (6, 130, 5.307018031915969, 2.164725771573125, 0.7601251065821565),\n",
       " (6, 133, 5.661017636257975, 2.164725771573125, 0.9192484628692273),\n",
       " (6, 134, 4.778205003606393, 2.164725771573125, 3.0863000601649784),\n",
       " (6, 136, 5.858252840256051, 2.164725771573125, 1.1568194120619024),\n",
       " (6, 140, 5.719896380966878, 2.164725771573125, 0.996421927335368),\n",
       " (7, 141, 5.507481551501692, 2.180822890012379, 0.8884847672642412),\n",
       " (7, 143, 5.980411692445611, 2.180822890012379, 0.6759994553239501),\n",
       " (7, 144, 4.534898897020879, 2.180822890012379, 2.571885617096974),\n",
       " (7, 145, 4.352915793006053, 2.180822890012379, 3.39626285971228),\n",
       " (7, 146, 5.438992549709992, 2.180822890012379, 3.017850522387479),\n",
       " (7, 149, 3.4614630900170495, 2.180822890012379, 1.9919624975218224),\n",
       " (7, 150, 5.668359062848429, 2.180822890012379, 0.7912766229914874),\n",
       " (7, 153, 5.662423219840191, 2.180822890012379, 0.8609366354717104),\n",
       " (7, 155, 5.709686100976727, 2.180822890012379, 0.7083580948344463),\n",
       " (8, 162, 5.777890498346985, 1.8906709222301035, 3.914819718645506),\n",
       " (8, 164, 6.515594358904901, 1.8906709222301035, 4.923907747411393),\n",
       " (8, 166, 5.88711523123733, 1.8906709222301035, 0.7916276826290672),\n",
       " (8, 167, 5.354778670268911, 1.8906709222301035, 1.0764597628404065),\n",
       " (8, 171, 3.0376350652591735, 1.8906709222301035, 1.064811948173711),\n",
       " (8, 173, 6.259724044112621, 1.8906709222301035, 3.204688111663513),\n",
       " (8, 176, 5.428133347760539, 1.8906709222301035, 0.8797375707741591),\n",
       " (8, 177, 5.869292513254199, 1.8906709222301035, 0.9272392434790496),\n",
       " (8, 180, 5.97024570216264, 1.8906709222301035, 1.562057681127814),\n",
       " (9, 183, 4.37042532769823, 1.9421599901169146, 2.6303035512679567),\n",
       " (9, 187, 3.7467570212577845, 1.9421599901169146, 1.152966209439008),\n",
       " (9, 189, 5.395736658695445, 1.9421599901169146, 0.6341490784553828),\n",
       " (9, 192, 5.538590600378196, 1.9421599901169146, 0.9021010218724957),\n",
       " (9, 193, 5.835944645305345, 1.9421599901169146, 0.646107766862639),\n",
       " (9, 196, 5.575723190688206, 1.9421599901169146, 0.8453367888298041),\n",
       " (9, 199, 5.729903114846849, 1.9421599901169146, 0.9877011047860607),\n",
       " (10, 202, 3.1327037811173115, 1.8425899350166393, 1.7480118635157795),\n",
       " (10, 204, 4.272411443935292, 1.8425899350166393, 2.8367327601148116),\n",
       " (10, 206, 5.646078510639706, 1.8425899350166393, 1.0326170937282677),\n",
       " (10, 207, 5.122450876630017, 1.8425899350166393, 4.76295816804655),\n",
       " (10, 209, 5.889896882196508, 1.8425899350166393, 0.9981957869591351),\n",
       " (10, 212, 3.1428574201712394, 1.8425899350166393, 2.4517847569025486),\n",
       " (10, 215, 5.400568749004907, 1.8425899350166393, 0.847037996179912),\n",
       " (10, 216, 5.953863071041026, 1.8425899350166393, 13.837819821196875),\n",
       " (10, 217, 5.688824555752982, 1.8425899350166393, 0.9665874190456082),\n",
       " (10, 218, 5.40581072915264, 1.8425899350166393, 0.8053790971301844),\n",
       " (10, 220, 4.39109098379012, 1.8425899350166393, 1.240894839574054),\n",
       " (11, 222, 7.406221954795071, 2.7582310965378385, 2.9292566407627043),\n",
       " (11, 226, 5.818971517131869, 2.7582310965378385, 0.8801990751230773),\n",
       " (11, 228, 5.627952753845818, 2.7582310965378385, 0.5640969319998882),\n",
       " (11, 230, 11.136035663410407, 2.7582310965378385, 5.38274531397802),\n",
       " (11, 232, 5.600617492359044, 2.7582310965378385, 4.150844271593513),\n",
       " (11, 234, 3.801911047292733, 2.7582310965378385, 1.0911741831002546),\n",
       " (11, 235, 6.447633872476607, 2.7582310965378385, 9.468300375937613),\n",
       " (11, 236, 3.1143583429176434, 2.7582310965378385, 1.3268685041851285),\n",
       " (11, 240, 7.493965774540819, 2.7582310965378385, 1.0403042948493701),\n",
       " (12, 242, 4.532726417896616, 2.330320688943098, 3.4708663221885425),\n",
       " (12, 247, 4.156863031367001, 2.330320688943098, 2.695878725433305),\n",
       " (12, 248, 5.3872029639040315, 2.330320688943098, 1.0654721918392462),\n",
       " (12, 250, 5.551230929780778, 2.330320688943098, 1.5860242705177792),\n",
       " (12, 251, 5.797035368908758, 2.330320688943098, 3.4298431348738045),\n",
       " (12, 253, 4.8128147627168705, 2.330320688943098, 0.7750151322921706),\n",
       " (12, 254, 5.772309439747408, 2.330320688943098, 10.895047466058687),\n",
       " (12, 255, 3.0030315194879194, 2.330320688943098, 1.3249594432307619),\n",
       " (12, 256, 5.2963805671068345, 2.330320688943098, 0.6685833716339725),\n",
       " (12, 257, 5.452033855435571, 2.330320688943098, 0.7646645059242712),\n",
       " (12, 258, 3.4418979791389663, 2.330320688943098, 1.4752160069394036),\n",
       " (13, 264, 5.046461941192724, 2.5696997633906404, 0.9811872716031326),\n",
       " (13, 265, 5.377988622525148, 2.5696997633906404, 0.6305347767353668),\n",
       " (13, 272, 6.288220392972907, 2.5696997633906404, 12.166980231291443),\n",
       " (13, 277, 3.5553399724485217, 2.5696997633906404, 1.2466700952312633),\n",
       " (13, 278, 7.607099979608433, 2.5696997633906404, 2.7914824439719323),\n",
       " (13, 279, 6.840787826760563, 2.5696997633906404, 5.889710871027348),\n",
       " (13, 280, 5.300633307890744, 2.5696997633906404, 2.680114505237611),\n",
       " (14, 281, 5.334167084144292, 2.370513142541916, 20.044989428456176),\n",
       " (14, 287, 5.558886524637576, 2.370513142541916, 1.2328501346392635),\n",
       " (14, 290, 5.3344106168578795, 2.370513142541916, 2.9344214842709357),\n",
       " (14, 291, 4.440526103192675, 2.370513142541916, 4.9118490032263615),\n",
       " (14, 292, 5.499266940933467, 2.370513142541916, 0.9885387291933094),\n",
       " (14, 293, 5.608032529374327, 2.370513142541916, 0.8099886954181309),\n",
       " (14, 296, 3.337122720485293, 2.370513142541916, 1.4899773294768714),\n",
       " (14, 297, 5.00019246011387, 2.370513142541916, 6.982172085574336),\n",
       " (15, 303, 4.770621019336064, 3.0972821059261926, 0.9058105624152768),\n",
       " (15, 306, 5.708343473205208, 3.0972821059261926, 0.5746232168435012),\n",
       " (15, 311, 4.08719454812731, 3.0972821059261926, 1.5405754234250082),\n",
       " (15, 319, 5.850741342208413, 3.0972821059261926, 0.7693199221503703),\n",
       " (15, 320, 7.6049801638280075, 3.0972821059261926, 1.3303243753105871),\n",
       " (16, 322, 5.409617483959801, 3.475812666934879, 2.4812302155831123),\n",
       " (16, 325, 3.02651249599814, 3.475812666934879, 0.8513426694233732),\n",
       " (16, 326, 4.10237196749804, 3.475812666934879, 2.206084408285183),\n",
       " (16, 329, 4.874191603720749, 3.475812666934879, 6.938600893529265),\n",
       " (16, 330, 4.202968972768394, 3.475812666934879, 2.237582577643782),\n",
       " (16, 332, 5.619449804687588, 3.475812666934879, 0.5167368926260099),\n",
       " (16, 333, 5.771369176179726, 3.475812666934879, 0.6603010312647442),\n",
       " (16, 335, 5.7967660506655765, 3.475812666934879, 6.725629163913079),\n",
       " (17, 341, 6.604842122019664, 2.999939922779739, 6.196789828171499),\n",
       " (17, 342, 5.92225383178154, 2.999939922779739, 0.7754529623536193),\n",
       " (17, 345, 5.061300713580391, 2.999939922779739, 1.2512917300639508),\n",
       " (17, 347, 3.143643719121249, 2.999939922779739, 1.133636522294322),\n",
       " (17, 352, 5.682053940242256, 2.999939922779739, 8.734053320852162),\n",
       " (17, 354, 5.643855946616318, 2.999939922779739, 0.7725068528419311),\n",
       " (17, 356, 7.48924326575541, 2.999939922779739, 1.1245983434231253),\n",
       " (17, 358, 5.831311376489335, 2.999939922779739, 1.0217133467476225),\n",
       " (17, 359, 5.655958630226064, 2.999939922779739, 1.1671358935213088),\n",
       " (18, 362, 3.206194528374252, 2.467168521511625, 1.159046563317517),\n",
       " (18, 370, 8.20183660230377, 2.467168521511625, 5.506132015106328),\n",
       " (18, 372, 5.667712141320692, 2.467168521511625, 0.6567900974796568),\n",
       " (18, 375, 5.513893916045623, 2.467168521511625, 0.7879191856399037),\n",
       " (18, 377, 5.387901651116243, 2.467168521511625, 1.3202497957344363),\n",
       " (18, 380, 5.057557670749309, 2.467168521511625, 0.9076378044779349),\n",
       " (19, 382, 3.0231986092522214, 2.542711087812988, 0.3816739970327945),\n",
       " (19, 383, 7.515727026416558, 2.542711087812988, 2.951632133704548),\n",
       " (19, 386, 5.61746186793278, 2.542711087812988, 0.9462145594565575),\n",
       " (19, 388, 5.260581932128579, 2.542711087812988, 0.7789532584971907),\n",
       " (19, 390, 5.680457176566847, 2.542711087812988, 0.8890223791699463),\n",
       " (19, 391, 3.1661107108484194, 2.542711087812988, 1.7029035728169133),\n",
       " (19, 392, 5.487004368070904, 2.542711087812988, 1.1268188065818165),\n",
       " (19, 393, 5.686351658313678, 2.542711087812988, 0.5739205205046526),\n",
       " (19, 394, 5.395447428659215, 2.542711087812988, 9.708745158581603),\n",
       " (19, 397, 5.671830752138464, 2.542711087812988, 0.8121927789502849),\n",
       " (19, 398, 5.41750462440967, 2.542711087812988, 2.869852922994052),\n",
       " (20, 401, 8.027416734521, 3.0113730799905905, 4.435367058355339),\n",
       " (20, 402, 5.396013658917078, 3.0113730799905905, 0.7870031036301337),\n",
       " (20, 403, 5.756190857891685, 3.0113730799905905, 0.5819675026486332),\n",
       " (20, 405, 5.730837270577191, 3.0113730799905905, 1.2701882866048646),\n",
       " (20, 407, 7.73598231464334, 3.0113730799905905, 2.2012786633604025),\n",
       " (20, 409, 5.328065215179937, 3.0113730799905905, 1.0479542064266756),\n",
       " (20, 413, 5.924558499614384, 3.0113730799905905, 0.7574595851967567),\n",
       " (20, 414, 3.152997273523162, 3.0113730799905905, 2.4390947188665217),\n",
       " (20, 415, 5.8225045901433665, 3.0113730799905905, 0.9746448118415626),\n",
       " (20, 418, 3.1435733070021894, 3.0113730799905905, 1.5844389821382039),\n",
       " (20, 419, 5.602563222258545, 3.0113730799905905, 0.8720117354860327),\n",
       " (21, 422, 5.2699935186572535, 2.3116969086516086, 7.133890115447169),\n",
       " (21, 423, 3.5918898200126916, 2.3116969086516086, 1.3402322768529722),\n",
       " (21, 424, 4.75959677808928, 2.3116969086516086, 2.9163245372508175),\n",
       " (21, 425, 3.1619616388216345, 2.3116969086516086, 0.9435421011908838),\n",
       " (21, 426, 3.4483507771755004, 2.3116969086516086, 1.0899299005059784),\n",
       " (21, 428, 5.750234939173235, 2.3116969086516086, 0.7963943860636831),\n",
       " (21, 435, 5.620103438647063, 2.3116969086516086, 0.8671249846112772),\n",
       " (21, 440, 3.1341095226682216, 2.3116969086516086, 1.446000497148979),\n",
       " (22, 442, 5.207773734185952, 2.692792052579337, 1.600321953024102),\n",
       " (22, 444, 5.497384639855405, 2.692792052579337, 0.8513308570547202),\n",
       " (22, 450, 3.033332627340959, 2.692792052579337, 2.108475122419345),\n",
       " (22, 451, 5.459337671582796, 2.692792052579337, 1.081055999222712),\n",
       " (22, 452, 5.755939102715632, 2.692792052579337, 1.2346961966302992),\n",
       " (22, 455, 8.848939066824956, 2.692792052579337, 5.921309207391863),\n",
       " (22, 456, 5.452726617068722, 2.692792052579337, 0.9676868344290505),\n",
       " (22, 458, 4.048651491390016, 2.692792052579337, 1.9638255408160215),\n",
       " (23, 462, 3.205323359765351, 2.7051866087726717, 1.086082159518754),\n",
       " (23, 463, 4.317607976882982, 2.7051866087726717, 5.324291493742075),\n",
       " (23, 466, 5.620631922904883, 2.7051866087726717, 0.9011813395904875),\n",
       " (23, 467, 8.433088483704848, 2.7051866087726717, 16.167656739610578),\n",
       " (23, 468, 5.790516805936707, 2.7051866087726717, 7.035517025661341),\n",
       " (23, 469, 3.147346950919275, 2.7051866087726717, 1.0789305937660965),\n",
       " (23, 471, 5.573148829500012, 2.7051866087726717, 0.8921423190302789),\n",
       " (23, 472, 5.404893250376449, 2.7051866087726717, 1.0273738101501833),\n",
       " (23, 473, 8.808792091367442, 2.7051866087726717, 11.530748744211657),\n",
       " (23, 475, 7.657194468795382, 2.7051866087726717, 1.4662234040231161),\n",
       " (23, 476, 5.695223918034856, 2.7051866087726717, 1.3934013914224863),\n",
       " (23, 477, 5.154708393975876, 2.7051866087726717, 2.310580743556714),\n",
       " (23, 480, 5.653403701555212, 2.7051866087726717, 1.2897997321569497),\n",
       " (24, 481, 5.520347584638263, 2.176647353664289, 1.1606508487434035),\n",
       " (24, 482, 5.754392605362805, 2.176647353664289, 0.8574570249990451),\n",
       " (24, 487, 5.690954495622908, 2.176647353664289, 4.053791725696904),\n",
       " (24, 490, 5.926879589357968, 2.176647353664289, 1.489034812055634),\n",
       " (24, 491, 7.09656173061303, 2.176647353664289, 14.52685070280538),\n",
       " (24, 494, 3.3845905856901366, 2.176647353664289, 26.59650042033296),\n",
       " (24, 495, 5.4573115205986635, 2.176647353664289, 3.0691957174957007),\n",
       " (25, 505, 10.594839145877678, 2.2890825210924657, 4.397997941915952),\n",
       " (25, 507, 5.570860821757752, 2.2890825210924657, 0.7034921833106257),\n",
       " (25, 510, 5.178423048846444, 2.2890825210924657, 0.8661438837213794),\n",
       " (25, 515, 5.639872962859145, 2.2890825210924657, 0.8312293656565714),\n",
       " (25, 516, 5.668623013080304, 2.2890825210924657, 0.9438788917305133),\n",
       " (25, 519, 3.144876785555208, 2.2890825210924657, 3.513968989807549),\n",
       " (25, 520, 5.628439986295927, 2.2890825210924657, 0.7463459311773869),\n",
       " (26, 521, 5.459310641173155, 2.455027568087925, 6.556910978711554),\n",
       " (26, 522, 3.4394423624622275, 2.455027568087925, 2.19988266799741),\n",
       " (26, 525, 3.2035154022421817, 2.455027568087925, 1.5313420813492495),\n",
       " (26, 526, 3.3935989257710593, 2.455027568087925, 1.3592551938595412),\n",
       " (26, 530, 6.967349106021157, 2.455027568087925, 4.222898133443733),\n",
       " (26, 532, 3.4776050327982326, 2.455027568087925, 2.1250541138086305),\n",
       " (26, 538, 5.319637097328075, 2.455027568087925, 13.286732209645741),\n",
       " (27, 543, 3.0418688838194266, 2.4672998673432254, 2.8906954483931795),\n",
       " (27, 544, 8.22628018390464, 2.4672998673432254, 16.06607834895866),\n",
       " (27, 545, 5.870370405418045, 2.4672998673432254, 1.4678217117515349),\n",
       " (27, 549, 3.1942391995595942, 2.4672998673432254, 1.6672284905025228),\n",
       " (27, 551, 10.473597139023502, 2.4672998673432254, 13.938931107801373),\n",
       " (27, 555, 3.388673170412154, 2.4672998673432254, 1.6774187007923946),\n",
       " (27, 558, 9.580303368150664, 2.4672998673432254, 22.71507294217847),\n",
       " (28, 562, 4.233432060368205, 3.1373183785258667, 2.538291239648654),\n",
       " (28, 564, 5.650666750531285, 3.1373183785258667, 0.45248847935065206),\n",
       " (28, 565, 4.290416696396761, 3.1373183785258667, 1.3137683302126157),\n",
       " (28, 566, 6.715217570555267, 3.1373183785258667, 15.785221050689621),\n",
       " (28, 573, 3.0341103618914245, 3.1373183785258667, 0.39921501860887076),\n",
       " (28, 574, 5.338949392902212, 3.1373183785258667, 6.26002718863085),\n",
       " (28, 577, 7.290867195593833, 3.1373183785258667, 3.1195002284621074),\n",
       " (29, 581, 5.804595643860311, 2.823385091184728, 0.8653695008072448),\n",
       " (29, 583, 5.667899828801824, 2.823385091184728, 0.923828878407671),\n",
       " (29, 585, 5.734718627266874, 2.823385091184728, 0.5956787296402996),\n",
       " (29, 587, 5.406997964634329, 2.823385091184728, 1.1501609880540407),\n",
       " (29, 588, 5.342060040628754, 2.823385091184728, 1.6079820111368277),\n",
       " (29, 589, 3.0274554629948414, 2.823385091184728, 0.8235437717941076),\n",
       " (29, 591, 3.4872307998425436, 2.823385091184728, 2.831022041761882),\n",
       " (29, 593, 4.2484606543500485, 2.823385091184728, 2.1935458712841607),\n",
       " (29, 594, 11.138862983930416, 2.823385091184728, 12.276235121170064),\n",
       " (29, 596, 5.77237011938898, 2.823385091184728, 0.9040653186413166),\n",
       " (29, 597, 5.658960585104355, 2.823385091184728, 1.2236201799060096),\n",
       " (29, 600, 5.428717868545578, 2.823385091184728, 0.9921382656679761)]"
      ]
     },
     "execution_count": 25,
     "metadata": {},
     "output_type": "execute_result"
    }
   ],
   "source": [
    "str_euclidean"
   ]
  },
  {
   "cell_type": "code",
   "execution_count": null,
   "metadata": {},
   "outputs": [],
   "source": [
    "distance = 0\n",
    "for i in range(0, len(trans_genome.position)-1):\n",
    "    distance += math.sqrt(((sim_genome.position[i][0] - \n",
    "                            sim_genome.position[i][1])**2) + \n",
    "                          ((sim_genome.position[i+1][1] - \n",
    "                            sim_genome.position[i+1][1])**2))"
   ]
  },
  {
   "cell_type": "code",
   "execution_count": null,
   "metadata": {},
   "outputs": [],
   "source": [
    "def traveled_distance(genome):\n",
    "    distance = 0\n",
    "    for i in range(0, len(genome.position)-1):\n",
    "        distance += math.sqrt(((genome.position[i][0] - \n",
    "                                genome.position[i][1])**2) + \n",
    "                              ((genome.position[i+1][1] - \n",
    "                                genome.position[i+1][1])**2))\n",
    "    return distance"
   ]
  },
  {
   "cell_type": "code",
   "execution_count": null,
   "metadata": {},
   "outputs": [],
   "source": [
    "traveled_distance(trans_genome)"
   ]
  },
  {
   "cell_type": "code",
   "execution_count": null,
   "metadata": {},
   "outputs": [],
   "source": [
    "traveled_distance(sim_genome)"
   ]
  },
  {
   "cell_type": "code",
   "execution_count": null,
   "metadata": {},
   "outputs": [],
   "source": []
  }
 ],
 "metadata": {
  "kernelspec": {
   "display_name": "Python 3",
   "language": "python",
   "name": "python3"
  },
  "language_info": {
   "codemirror_mode": {
    "name": "ipython",
    "version": 3
   },
   "file_extension": ".py",
   "mimetype": "text/x-python",
   "name": "python",
   "nbconvert_exporter": "python",
   "pygments_lexer": "ipython3",
   "version": "3.7.2"
  }
 },
 "nbformat": 4,
 "nbformat_minor": 2
}
