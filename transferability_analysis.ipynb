{
 "cells": [
  {
   "cell_type": "code",
   "execution_count": 1,
   "metadata": {},
   "outputs": [
    {
     "name": "stdout",
     "output_type": "stream",
     "text": [
      "ModuleNotFoundError: DBus works only on linux!\n"
     ]
    },
    {
     "name": "stderr",
     "output_type": "stream",
     "text": [
      "Using TensorFlow backend.\n"
     ]
    },
    {
     "name": "stdout",
     "output_type": "stream",
     "text": [
      "ModuleNotFoundError: DBus works only on linux!\n"
     ]
    },
    {
     "data": {
      "text/html": [
       "        <script type=\"text/javascript\">\n",
       "        window.PlotlyConfig = {MathJaxConfig: 'local'};\n",
       "        if (window.MathJax) {MathJax.Hub.Config({SVG: {font: \"STIX-Web\"}});}\n",
       "        if (typeof require !== 'undefined') {\n",
       "        require.undef(\"plotly\");\n",
       "        requirejs.config({\n",
       "            paths: {\n",
       "                'plotly': ['https://cdn.plot.ly/plotly-latest.min']\n",
       "            }\n",
       "        });\n",
       "        require(['plotly'], function(Plotly) {\n",
       "            window._Plotly = Plotly;\n",
       "        });\n",
       "        }\n",
       "        </script>\n",
       "        "
      ]
     },
     "metadata": {},
     "output_type": "display_data"
    }
   ],
   "source": [
    "from pathlib import Path, PurePath\n",
    "import plotly.plotly as py\n",
    "import plotly.graph_objs as go\n",
    "from plotly.offline import init_notebook_mode\n",
    "from analysis import read_behaviors, read_moea_fitness, unpickle_moea\n",
    "from utility.util_functions import calc_str_disparity, euclidean_distance\n",
    "from utility.visualize import plot_path, plot_moea_fitness, plot_surrogate_model, plot_str_disparity\n",
    "import pickle\n",
    "import numpy as np\n",
    "from deap import base, creator\n",
    "from evolution.simulation import Disparity\n",
    "import scipy as sp\n",
    "from scipy import stats\n",
    "import math\n",
    "init_notebook_mode(connected=True)\n"
   ]
  },
  {
   "cell_type": "code",
   "execution_count": null,
   "metadata": {},
   "outputs": [],
   "source": [
    "# get the path for all behavioral features\n",
    "files = sorted(Path('data/results/').glob('transferability_*/behavioral_features.dat'))\n",
    "fitness_f = sorted(Path('data/results/').glob('transferability_*/fitness.dat'))"
   ]
  },
  {
   "cell_type": "code",
   "execution_count": null,
   "metadata": {},
   "outputs": [],
   "source": [
    "columns = [\n",
    "        'avg_left', 'avg_right',\n",
    "        's1', 's2', 's3', 's4', 's5', 's6', 's7',\n",
    "        'area0_percentage',\n",
    "        'area1_percentage',\n",
    "        'area2_percentage',\n",
    "    ]"
   ]
  },
  {
   "cell_type": "code",
   "execution_count": null,
   "metadata": {},
   "outputs": [],
   "source": [
    "fitness_f[8]"
   ]
  },
  {
   "cell_type": "code",
   "execution_count": null,
   "metadata": {},
   "outputs": [],
   "source": [
    "behaviors = read_behaviors([files[8]])[0]"
   ]
  },
  {
   "cell_type": "code",
   "execution_count": null,
   "metadata": {},
   "outputs": [],
   "source": [
    "behaviors.loc[behaviors['genome_id'] == 358].head()"
   ]
  },
  {
   "cell_type": "code",
   "execution_count": null,
   "metadata": {},
   "outputs": [],
   "source": [
    "behaviors.head()"
   ]
  },
  {
   "cell_type": "code",
   "execution_count": null,
   "metadata": {},
   "outputs": [],
   "source": [
    "b_grouped = behaviors.groupby(['genome_id']).filter(lambda x: len(x) > 1).groupby(['genome_id', 'simulation']).first()"
   ]
  },
  {
   "cell_type": "code",
   "execution_count": null,
   "metadata": {
    "scrolled": true
   },
   "outputs": [],
   "source": [
    "b_grouped.head()"
   ]
  },
  {
   "cell_type": "code",
   "execution_count": null,
   "metadata": {},
   "outputs": [],
   "source": [
    "euclidean_distance(b_grouped[columns].iloc[1], b_grouped[columns].iloc[0])"
   ]
  },
  {
   "cell_type": "code",
   "execution_count": null,
   "metadata": {},
   "outputs": [],
   "source": [
    "for i in range(1, len(b_grouped), 2):\n",
    "    print('genome_id:', \n",
    "          b_grouped[columns].iloc[i].name[0],\n",
    "          'actual diversity',\n",
    "          euclidean_distance(\n",
    "              b_grouped[columns].iloc[i],\n",
    "              b_grouped[columns].iloc[i-1]\n",
    "          )\n",
    "    )"
   ]
  },
  {
   "cell_type": "code",
   "execution_count": null,
   "metadata": {},
   "outputs": [],
   "source": [
    "fitness_data = read_moea_fitness([fitness_f[8]])[0]"
   ]
  },
  {
   "cell_type": "code",
   "execution_count": null,
   "metadata": {},
   "outputs": [],
   "source": [
    "fitness_data.sort_values(by=['fitness'])"
   ]
  },
  {
   "cell_type": "code",
   "execution_count": null,
   "metadata": {},
   "outputs": [],
   "source": [
    "fitness_data.head()"
   ]
  },
  {
   "cell_type": "code",
   "execution_count": null,
   "metadata": {},
   "outputs": [],
   "source": [
    "hof = unpickle_moea('data/results/transferability_simulation_17/hof')"
   ]
  },
  {
   "cell_type": "code",
   "execution_count": null,
   "metadata": {},
   "outputs": [],
   "source": [
    "len(hof)"
   ]
  },
  {
   "cell_type": "code",
   "execution_count": null,
   "metadata": {
    "scrolled": true
   },
   "outputs": [],
   "source": [
    "plot_moea_fitness(fitness_data, hof)"
   ]
  },
  {
   "cell_type": "code",
   "execution_count": null,
   "metadata": {
    "scrolled": true
   },
   "outputs": [],
   "source": [
    "hof_ids = []\n",
    "for ind in hof:\n",
    "    hof_ids.append(ind.key)\n",
    "    print(ind.key, ind.fitness.values)"
   ]
  },
  {
   "cell_type": "code",
   "execution_count": 2,
   "metadata": {},
   "outputs": [
    {
     "name": "stderr",
     "output_type": "stream",
     "text": [
      "/Users/richban/.local/share/virtualenvs/behavioral.neuroevolution-ViNSkuNA/lib/python3.7/site-packages/deap/creator.py:141: RuntimeWarning:\n",
      "\n",
      "A class named 'FitnessMax' has already been created and it will be overwritten. Consider deleting previous creation of that class or rename it.\n",
      "\n",
      "/Users/richban/.local/share/virtualenvs/behavioral.neuroevolution-ViNSkuNA/lib/python3.7/site-packages/deap/creator.py:141: RuntimeWarning:\n",
      "\n",
      "A class named 'Individual' has already been created and it will be overwritten. Consider deleting previous creation of that class or rename it.\n",
      "\n"
     ]
    }
   ],
   "source": [
    "genomes_file = sorted(Path('data/results/transferability_simulation_17/deap_inds').glob('*_genome.pkl'))\n",
    "transfered_file = sorted(Path('data/results/transferability_simulation_17/deap_inds').glob('*_transformed_genome_.pkl'))\n",
    "genomes = [unpickle_moea(genome) for genome in genomes_file]\n",
    "transferred = [unpickle_moea(genome) for genome in transfered_file]"
   ]
  },
  {
   "cell_type": "code",
   "execution_count": null,
   "metadata": {},
   "outputs": [],
   "source": [
    "transfered_file"
   ]
  },
  {
   "cell_type": "code",
   "execution_count": null,
   "metadata": {},
   "outputs": [],
   "source": [
    "len(transfered_file)"
   ]
  },
  {
   "cell_type": "code",
   "execution_count": 3,
   "metadata": {},
   "outputs": [],
   "source": [
    "g = sorted(genomes, key=lambda x: x.key)"
   ]
  },
  {
   "cell_type": "code",
   "execution_count": 4,
   "metadata": {},
   "outputs": [],
   "source": [
    "t = sorted(transferred, key=lambda x: x.key)"
   ]
  },
  {
   "cell_type": "code",
   "execution_count": 5,
   "metadata": {},
   "outputs": [],
   "source": [
    "sim_genome = list(filter(lambda x: x.key == 448, g))[0]"
   ]
  },
  {
   "cell_type": "code",
   "execution_count": 6,
   "metadata": {},
   "outputs": [
    {
     "name": "stdout",
     "output_type": "stream",
     "text": [
      "448 (5.44717889947933, 1.5418591521249227, 0.3075231201931484) 20.400000000000155\n"
     ]
    }
   ],
   "source": [
    "print(sim_genome.key, sim_genome.fitness.values, sim_genome.sim_time)"
   ]
  },
  {
   "cell_type": "code",
   "execution_count": 7,
   "metadata": {},
   "outputs": [],
   "source": [
    "trans_genome = list(filter(lambda x: x.key == 448, t))[0]"
   ]
  },
  {
   "cell_type": "code",
   "execution_count": 8,
   "metadata": {},
   "outputs": [
    {
     "name": "stdout",
     "output_type": "stream",
     "text": [
      "448 (5.44717889947933, 1.5418591521249227, 0.3075231201931484)\n"
     ]
    }
   ],
   "source": [
    "print(trans_genome.key, trans_genome.fitness.values)"
   ]
  },
  {
   "cell_type": "code",
   "execution_count": null,
   "metadata": {},
   "outputs": [],
   "source": [
    "sim_genome.sim_time"
   ]
  },
  {
   "cell_type": "code",
   "execution_count": null,
   "metadata": {},
   "outputs": [],
   "source": [
    "sim_genomes = sorted(list(filter(lambda x: x.key in hof_ids[:-10], g)), key=lambda x: x.fitness.values[0])\n",
    "trans_genomes = sorted(list(filter(lambda x: x.key in hof_ids[:-10] t)), key=lambda x: x.fitness.values[0])"
   ]
  },
  {
   "cell_type": "code",
   "execution_count": 9,
   "metadata": {},
   "outputs": [
    {
     "name": "stderr",
     "output_type": "stream",
     "text": [
      "/Users/richban/.local/share/virtualenvs/behavioral.neuroevolution-ViNSkuNA/lib/python3.7/site-packages/IPython/core/display.py:689: UserWarning:\n",
      "\n",
      "Consider using IPython.display.IFrame instead\n",
      "\n"
     ]
    },
    {
     "data": {
      "text/html": [
       "<iframe id=\"igraph\" scrolling=\"no\" style=\"border:none;\" seamless=\"seamless\" src=\"https://plot.ly/~richban_/300.embed\" height=\"525px\" width=\"100%\"></iframe>"
      ],
      "text/plain": [
       "<chart_studio.tools.PlotlyDisplay object>"
      ]
     },
     "execution_count": 9,
     "metadata": {},
     "output_type": "execute_result"
    }
   ],
   "source": [
    "plot_path([sim_genome, trans_genome])\n",
    "# plot_path(sim_genomes)"
   ]
  },
  {
   "cell_type": "code",
   "execution_count": 10,
   "metadata": {},
   "outputs": [
    {
     "data": {
      "text/plain": [
       "array([[0.20800586, 0.22291239],\n",
       "       [0.26569957, 0.22599578],\n",
       "       [0.32288846, 0.22944501],\n",
       "       [0.38050514, 0.23386016],\n",
       "       [0.43908486, 0.2389268 ],\n",
       "       [0.49716806, 0.24529591],\n",
       "       [0.55573905, 0.2517474 ],\n",
       "       [0.61369956, 0.2583614 ],\n",
       "       [0.67167222, 0.26662892],\n",
       "       [0.72957069, 0.27524209],\n",
       "       [0.78783381, 0.28352749]])"
      ]
     },
     "execution_count": 10,
     "metadata": {},
     "output_type": "execute_result"
    }
   ],
   "source": [
    "sim_genome.position"
   ]
  },
  {
   "cell_type": "code",
   "execution_count": 11,
   "metadata": {},
   "outputs": [
    {
     "data": {
      "text/plain": [
       "[[0.19, 0.22],\n",
       " array([0.27922436, 0.20181334]),\n",
       " array([0.38534854, 0.21712335]),\n",
       " array([0.49635221, 0.24065779]),\n",
       " array([0.61948073, 0.27334344]),\n",
       " array([0.72863136, 0.3096033 ]),\n",
       " array([0.83616897, 0.35416614]),\n",
       " array([0.93792116, 0.40601272]),\n",
       " array([1.03371195, 0.46460683]),\n",
       " array([1.08276178, 0.51529906]),\n",
       " array([1.08367588, 0.53012542])]"
      ]
     },
     "execution_count": 11,
     "metadata": {},
     "output_type": "execute_result"
    }
   ],
   "source": [
    "trans_genome.position"
   ]
  },
  {
   "cell_type": "code",
   "execution_count": null,
   "metadata": {},
   "outputs": [],
   "source": [
    "plot_path(trans_genomes)"
   ]
  },
  {
   "cell_type": "code",
   "execution_count": 12,
   "metadata": {},
   "outputs": [
    {
     "data": {
      "text/plain": [
       "4.144616178771767"
      ]
     },
     "execution_count": 12,
     "metadata": {},
     "output_type": "execute_result"
    }
   ],
   "source": [
    "calc_str_disparity(trans_genome.position, sim_genome.position)"
   ]
  },
  {
   "cell_type": "code",
   "execution_count": null,
   "metadata": {},
   "outputs": [],
   "source": [
    "euclidean_distance(trans_genome.position, sim_genome.position)"
   ]
  },
  {
   "cell_type": "code",
   "execution_count": null,
   "metadata": {},
   "outputs": [],
   "source": [
    "plot_surrogate_model(fitness_data)"
   ]
  },
  {
   "cell_type": "code",
   "execution_count": null,
   "metadata": {},
   "outputs": [],
   "source": [
    "# merge  \n",
    "union_t = [(x, y) for x in g for y in t if x.key == y.key]\n",
    "for s, t in union_t:\n",
    "    np.array_equal(s, t)\n",
    "    assert s.key == t.key"
   ]
  },
  {
   "cell_type": "code",
   "execution_count": null,
   "metadata": {},
   "outputs": [],
   "source": [
    "str_disparity = Disparity()"
   ]
  },
  {
   "cell_type": "code",
   "execution_count": null,
   "metadata": {},
   "outputs": [],
   "source": [
    "for s, t in union_t:\n",
    "    print(s.gen, end=\" \")"
   ]
  },
  {
   "cell_type": "code",
   "execution_count": null,
   "metadata": {},
   "outputs": [],
   "source": [
    "str_disparities = [(s.gen, s.key, s.fitness.values[0], s.fitness.values[1], calc_str_disparity(t.position, s.position)) for s, t in union_t]    "
   ]
  },
  {
   "cell_type": "code",
   "execution_count": null,
   "metadata": {},
   "outputs": [],
   "source": [
    "sorted(str_disparities, key=lambda x: x[0])"
   ]
  },
  {
   "cell_type": "code",
   "execution_count": null,
   "metadata": {},
   "outputs": [],
   "source": [
    "np.array([str_disparity[1] for str_disparity in str_disparities])\n",
    "np.array([real_disparity[2] for real_disparity in str_disparities])\n",
    "\n",
    "filter_disparities = list(filter(lambda x: x[2] < 5, str_disparities))\n",
    "filter_disparities[:4]"
   ]
  },
  {
   "cell_type": "code",
   "execution_count": null,
   "metadata": {},
   "outputs": [],
   "source": [
    "plot_str_disparity(str_disparities)"
   ]
  },
  {
   "cell_type": "code",
   "execution_count": null,
   "metadata": {},
   "outputs": [],
   "source": [
    "actual = []\n",
    "approximated = []\n",
    "for s, t in union_t:\n",
    "    approximated.append(s.fitness.values[1])\n",
    "    actual.append(calc_str_disparity(t.position, s.position))"
   ]
  },
  {
   "cell_type": "code",
   "execution_count": null,
   "metadata": {},
   "outputs": [],
   "source": [
    "stats.pearsonr(actual, approximated)"
   ]
  },
  {
   "cell_type": "code",
   "execution_count": null,
   "metadata": {},
   "outputs": [],
   "source": []
  },
  {
   "cell_type": "code",
   "execution_count": null,
   "metadata": {},
   "outputs": [],
   "source": [
    "distance = 0\n",
    "for i in range(0, len(trans_genome.position)-1):\n",
    "    distance += math.sqrt(((sim_genome.position[i][0] - \n",
    "                            sim_genome.position[i][1])**2) + \n",
    "                          ((sim_genome.position[i+1][1] - \n",
    "                            sim_genome.position[i+1][1])**2))"
   ]
  },
  {
   "cell_type": "code",
   "execution_count": null,
   "metadata": {},
   "outputs": [],
   "source": [
    "distance"
   ]
  },
  {
   "cell_type": "code",
   "execution_count": null,
   "metadata": {},
   "outputs": [],
   "source": []
  }
 ],
 "metadata": {
  "kernelspec": {
   "display_name": "Python 3",
   "language": "python",
   "name": "python3"
  },
  "language_info": {
   "codemirror_mode": {
    "name": "ipython",
    "version": 3
   },
   "file_extension": ".py",
   "mimetype": "text/x-python",
   "name": "python",
   "nbconvert_exporter": "python",
   "pygments_lexer": "ipython3",
   "version": "3.7.2"
  }
 },
 "nbformat": 4,
 "nbformat_minor": 2
}
