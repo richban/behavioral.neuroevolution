{
 "cells": [
  {
   "cell_type": "code",
   "execution_count": 1,
   "metadata": {},
   "outputs": [
    {
     "name": "stdout",
     "output_type": "stream",
     "text": [
      "ModuleNotFoundError: DBus works only on linux!\n"
     ]
    },
    {
     "name": "stderr",
     "output_type": "stream",
     "text": [
      "Using TensorFlow backend.\n"
     ]
    },
    {
     "name": "stdout",
     "output_type": "stream",
     "text": [
      "ModuleNotFoundError: DBus works only on linux!\n"
     ]
    },
    {
     "data": {
      "text/html": [
       "        <script type=\"text/javascript\">\n",
       "        window.PlotlyConfig = {MathJaxConfig: 'local'};\n",
       "        if (window.MathJax) {MathJax.Hub.Config({SVG: {font: \"STIX-Web\"}});}\n",
       "        if (typeof require !== 'undefined') {\n",
       "        require.undef(\"plotly\");\n",
       "        requirejs.config({\n",
       "            paths: {\n",
       "                'plotly': ['https://cdn.plot.ly/plotly-latest.min']\n",
       "            }\n",
       "        });\n",
       "        require(['plotly'], function(Plotly) {\n",
       "            window._Plotly = Plotly;\n",
       "        });\n",
       "        }\n",
       "        </script>\n",
       "        "
      ]
     },
     "metadata": {},
     "output_type": "display_data"
    }
   ],
   "source": [
    "from pathlib import Path, PurePath\n",
    "import plotly.plotly as py\n",
    "import plotly.graph_objs as go\n",
    "from plotly.offline import init_notebook_mode\n",
    "from analysis import read_behaviors, read_moea_fitness, unpickle_moea\n",
    "from utility.util_functions import calc_str_disparity, euclidean_distance\n",
    "from utility.visualize import plot_path, plot_moea_fitness, plot_surrogate_model, plot_str_disparity, plot_moea_fitness_2d\n",
    "import pickle\n",
    "import numpy as np\n",
    "from deap import base, creator\n",
    "from evolution.simulation import Disparity\n",
    "import scipy as sp\n",
    "from scipy import stats\n",
    "import math\n",
    "init_notebook_mode(connected=True)\n"
   ]
  },
  {
   "cell_type": "code",
   "execution_count": 2,
   "metadata": {},
   "outputs": [],
   "source": [
    "# get the path for all behavioral features\n",
    "files = sorted(Path('data/results/').glob('transferability_*/behavioral_features.dat'))\n",
    "fitness_f = sorted(Path('data/results/').glob('transferability_*/fitness.dat'))"
   ]
  },
  {
   "cell_type": "code",
   "execution_count": 3,
   "metadata": {},
   "outputs": [],
   "source": [
    "columns = [\n",
    "        'avg_left', 'avg_right',\n",
    "        's1', 's2', 's3', 's4', 's5', 's6', 's7',\n",
    "        'area0_percentage',\n",
    "        'area1_percentage',\n",
    "        'area2_percentage',\n",
    "    ]"
   ]
  },
  {
   "cell_type": "code",
   "execution_count": 27,
   "metadata": {},
   "outputs": [
    {
     "data": {
      "text/plain": [
       "PosixPath('data/results/transferability_simulation_15/fitness.dat')"
      ]
     },
     "execution_count": 27,
     "metadata": {},
     "output_type": "execute_result"
    }
   ],
   "source": [
    "fitness_f[6]"
   ]
  },
  {
   "cell_type": "code",
   "execution_count": 28,
   "metadata": {},
   "outputs": [],
   "source": [
    "behaviors = read_behaviors([files[6]])[0]"
   ]
  },
  {
   "cell_type": "code",
   "execution_count": null,
   "metadata": {},
   "outputs": [],
   "source": [
    "behaviors.loc[behaviors['genome_id'] == 494].head()"
   ]
  },
  {
   "cell_type": "code",
   "execution_count": null,
   "metadata": {},
   "outputs": [],
   "source": [
    "behaviors.head()"
   ]
  },
  {
   "cell_type": "code",
   "execution_count": null,
   "metadata": {},
   "outputs": [],
   "source": [
    "b_grouped = behaviors.groupby(['genome_id']).filter(lambda x: len(x) > 1).groupby(['genome_id', 'simulation']).first()"
   ]
  },
  {
   "cell_type": "code",
   "execution_count": null,
   "metadata": {
    "scrolled": true
   },
   "outputs": [],
   "source": [
    "b_grouped.head()"
   ]
  },
  {
   "cell_type": "code",
   "execution_count": null,
   "metadata": {},
   "outputs": [],
   "source": [
    "euclidean_distance(b_grouped[columns].iloc[1], b_grouped[columns].iloc[0])"
   ]
  },
  {
   "cell_type": "code",
   "execution_count": null,
   "metadata": {},
   "outputs": [],
   "source": [
    "for i in range(1, len(b_grouped), 2):\n",
    "    print('genome_id:', \n",
    "          b_grouped[columns].iloc[i].name[0],\n",
    "          'actual diversity',\n",
    "          euclidean_distance(\n",
    "              b_grouped[columns].iloc[i],\n",
    "              b_grouped[columns].iloc[i-1]\n",
    "          )\n",
    "    )"
   ]
  },
  {
   "cell_type": "code",
   "execution_count": 29,
   "metadata": {},
   "outputs": [],
   "source": [
    "fitness_data = read_moea_fitness([fitness_f[6]])[0]"
   ]
  },
  {
   "cell_type": "code",
   "execution_count": null,
   "metadata": {},
   "outputs": [],
   "source": [
    "fitness_data.sort_values(by=['fitness'])"
   ]
  },
  {
   "cell_type": "code",
   "execution_count": 30,
   "metadata": {},
   "outputs": [
    {
     "data": {
      "text/html": [
       "<div>\n",
       "<style scoped>\n",
       "    .dataframe tbody tr th:only-of-type {\n",
       "        vertical-align: middle;\n",
       "    }\n",
       "\n",
       "    .dataframe tbody tr th {\n",
       "        vertical-align: top;\n",
       "    }\n",
       "\n",
       "    .dataframe thead th {\n",
       "        text-align: right;\n",
       "    }\n",
       "</style>\n",
       "<table border=\"1\" class=\"dataframe\">\n",
       "  <thead>\n",
       "    <tr style=\"text-align: right;\">\n",
       "      <th></th>\n",
       "      <th>gen</th>\n",
       "      <th>genome_id</th>\n",
       "      <th>fitness</th>\n",
       "      <th>str_disparity</th>\n",
       "      <th>diversity</th>\n",
       "    </tr>\n",
       "  </thead>\n",
       "  <tbody>\n",
       "    <tr>\n",
       "      <th>0</th>\n",
       "      <td>0</td>\n",
       "      <td>1</td>\n",
       "      <td>0.083543</td>\n",
       "      <td>0.119517</td>\n",
       "      <td>0.850386</td>\n",
       "    </tr>\n",
       "    <tr>\n",
       "      <th>1</th>\n",
       "      <td>0</td>\n",
       "      <td>2</td>\n",
       "      <td>0.197851</td>\n",
       "      <td>0.119517</td>\n",
       "      <td>1.472908</td>\n",
       "    </tr>\n",
       "    <tr>\n",
       "      <th>2</th>\n",
       "      <td>0</td>\n",
       "      <td>3</td>\n",
       "      <td>0.109647</td>\n",
       "      <td>0.119517</td>\n",
       "      <td>0.820689</td>\n",
       "    </tr>\n",
       "    <tr>\n",
       "      <th>3</th>\n",
       "      <td>0</td>\n",
       "      <td>4</td>\n",
       "      <td>0.355871</td>\n",
       "      <td>0.119517</td>\n",
       "      <td>1.755296</td>\n",
       "    </tr>\n",
       "    <tr>\n",
       "      <th>4</th>\n",
       "      <td>0</td>\n",
       "      <td>5</td>\n",
       "      <td>0.035187</td>\n",
       "      <td>0.119517</td>\n",
       "      <td>0.878536</td>\n",
       "    </tr>\n",
       "  </tbody>\n",
       "</table>\n",
       "</div>"
      ],
      "text/plain": [
       "   gen  genome_id   fitness  str_disparity  diversity\n",
       "0    0          1  0.083543       0.119517   0.850386\n",
       "1    0          2  0.197851       0.119517   1.472908\n",
       "2    0          3  0.109647       0.119517   0.820689\n",
       "3    0          4  0.355871       0.119517   1.755296\n",
       "4    0          5  0.035187       0.119517   0.878536"
      ]
     },
     "execution_count": 30,
     "metadata": {},
     "output_type": "execute_result"
    }
   ],
   "source": [
    "fitness_data.head()"
   ]
  },
  {
   "cell_type": "code",
   "execution_count": 31,
   "metadata": {},
   "outputs": [],
   "source": [
    "hof = unpickle_moea('data/results/transferability_simulation_15/hof')"
   ]
  },
  {
   "cell_type": "code",
   "execution_count": 32,
   "metadata": {},
   "outputs": [
    {
     "data": {
      "text/plain": [
       "12"
      ]
     },
     "execution_count": 32,
     "metadata": {},
     "output_type": "execute_result"
    }
   ],
   "source": [
    "len(hof)"
   ]
  },
  {
   "cell_type": "code",
   "execution_count": 38,
   "metadata": {},
   "outputs": [
    {
     "data": {
      "text/html": [
       "<iframe id=\"igraph\" scrolling=\"no\" style=\"border:none;\" seamless=\"seamless\" src=\"https://plot.ly/~richban_/302.embed\" height=\"525px\" width=\"100%\"></iframe>"
      ],
      "text/plain": [
       "<chart_studio.tools.PlotlyDisplay object>"
      ]
     },
     "execution_count": 38,
     "metadata": {},
     "output_type": "execute_result"
    }
   ],
   "source": [
    "plot_moea_fitness_2d(fitness_data, hof)"
   ]
  },
  {
   "cell_type": "code",
   "execution_count": 39,
   "metadata": {
    "scrolled": true
   },
   "outputs": [
    {
     "name": "stdout",
     "output_type": "stream",
     "text": [
      "367 (8.179329914947463, 1.5393718591076808, 0.29039993833122046)\n",
      "358 (8.1341098262261, 1.5393718591076808, 0.32162270476427535)\n",
      "532 (7.972001420778755, 1.474114958028711, 0.2686715795477769)\n",
      "72 (7.925807476793328, 0.31058753450850884, 0.4509520485424759)\n",
      "324 (7.729498866710899, 1.5393718591076808, 0.4622053138150647)\n",
      "311 (7.6351439208980425, 0.5941746403598056, 0.5715480416713524)\n",
      "63 (5.790913648047852, 0.31058753450850884, 1.0845821479478892)\n",
      "45 (5.344447774265978, 0.29623176569279985, 0.6380325799257398)\n",
      "26 (1.15842073060853, 0.11951712563775475, 0.5239408618426444)\n",
      "16 (0.5547505879621605, 0.11951712563775475, 1.737585530121403)\n",
      "25 (0.4379590499598192, 0.11951712563775475, 1.7735880839622107)\n",
      "40 (0.2989427541577952, 0.11951712563775475, 1.77920024534944)\n"
     ]
    }
   ],
   "source": [
    "hof_ids = []\n",
    "for ind in hof:\n",
    "    hof_ids.append(ind.key)\n",
    "    print(ind.key, ind.fitness.values)"
   ]
  },
  {
   "cell_type": "code",
   "execution_count": 40,
   "metadata": {},
   "outputs": [],
   "source": [
    "genomes_file = sorted(Path('data/results/transferability_simulation_15/deap_inds').glob('*_genome.pkl'))\n",
    "transfered_file = sorted(Path('data/results/transferability_simulation_15/deap_inds').glob('*_transformed_genome_.pkl'))\n",
    "genomes = [unpickle_moea(genome) for genome in genomes_file]\n",
    "transferred = [unpickle_moea(genome) for genome in transfered_file]"
   ]
  },
  {
   "cell_type": "code",
   "execution_count": 41,
   "metadata": {
    "collapsed": true
   },
   "outputs": [
    {
     "data": {
      "text/plain": [
       "[PosixPath('data/results/transferability_simulation_15/deap_inds/109_transformed_genome_.pkl'),\n",
       " PosixPath('data/results/transferability_simulation_15/deap_inds/112_transformed_genome_.pkl'),\n",
       " PosixPath('data/results/transferability_simulation_15/deap_inds/119_transformed_genome_.pkl'),\n",
       " PosixPath('data/results/transferability_simulation_15/deap_inds/123_transformed_genome_.pkl'),\n",
       " PosixPath('data/results/transferability_simulation_15/deap_inds/138_transformed_genome_.pkl'),\n",
       " PosixPath('data/results/transferability_simulation_15/deap_inds/141_transformed_genome_.pkl'),\n",
       " PosixPath('data/results/transferability_simulation_15/deap_inds/142_transformed_genome_.pkl'),\n",
       " PosixPath('data/results/transferability_simulation_15/deap_inds/148_transformed_genome_.pkl'),\n",
       " PosixPath('data/results/transferability_simulation_15/deap_inds/155_transformed_genome_.pkl'),\n",
       " PosixPath('data/results/transferability_simulation_15/deap_inds/158_transformed_genome_.pkl'),\n",
       " PosixPath('data/results/transferability_simulation_15/deap_inds/159_transformed_genome_.pkl'),\n",
       " PosixPath('data/results/transferability_simulation_15/deap_inds/163_transformed_genome_.pkl'),\n",
       " PosixPath('data/results/transferability_simulation_15/deap_inds/165_transformed_genome_.pkl'),\n",
       " PosixPath('data/results/transferability_simulation_15/deap_inds/1_transformed_genome_.pkl'),\n",
       " PosixPath('data/results/transferability_simulation_15/deap_inds/200_transformed_genome_.pkl'),\n",
       " PosixPath('data/results/transferability_simulation_15/deap_inds/206_transformed_genome_.pkl'),\n",
       " PosixPath('data/results/transferability_simulation_15/deap_inds/21_transformed_genome_.pkl'),\n",
       " PosixPath('data/results/transferability_simulation_15/deap_inds/22_transformed_genome_.pkl'),\n",
       " PosixPath('data/results/transferability_simulation_15/deap_inds/231_transformed_genome_.pkl'),\n",
       " PosixPath('data/results/transferability_simulation_15/deap_inds/236_transformed_genome_.pkl'),\n",
       " PosixPath('data/results/transferability_simulation_15/deap_inds/23_transformed_genome_.pkl'),\n",
       " PosixPath('data/results/transferability_simulation_15/deap_inds/248_transformed_genome_.pkl'),\n",
       " PosixPath('data/results/transferability_simulation_15/deap_inds/24_transformed_genome_.pkl'),\n",
       " PosixPath('data/results/transferability_simulation_15/deap_inds/250_transformed_genome_.pkl'),\n",
       " PosixPath('data/results/transferability_simulation_15/deap_inds/253_transformed_genome_.pkl'),\n",
       " PosixPath('data/results/transferability_simulation_15/deap_inds/25_transformed_genome_.pkl'),\n",
       " PosixPath('data/results/transferability_simulation_15/deap_inds/26_transformed_genome_.pkl'),\n",
       " PosixPath('data/results/transferability_simulation_15/deap_inds/27_transformed_genome_.pkl'),\n",
       " PosixPath('data/results/transferability_simulation_15/deap_inds/28_transformed_genome_.pkl'),\n",
       " PosixPath('data/results/transferability_simulation_15/deap_inds/29_transformed_genome_.pkl'),\n",
       " PosixPath('data/results/transferability_simulation_15/deap_inds/303_transformed_genome_.pkl'),\n",
       " PosixPath('data/results/transferability_simulation_15/deap_inds/30_transformed_genome_.pkl'),\n",
       " PosixPath('data/results/transferability_simulation_15/deap_inds/311_transformed_genome_.pkl'),\n",
       " PosixPath('data/results/transferability_simulation_15/deap_inds/313_transformed_genome_.pkl'),\n",
       " PosixPath('data/results/transferability_simulation_15/deap_inds/315_transformed_genome_.pkl'),\n",
       " PosixPath('data/results/transferability_simulation_15/deap_inds/31_transformed_genome_.pkl'),\n",
       " PosixPath('data/results/transferability_simulation_15/deap_inds/32_transformed_genome_.pkl'),\n",
       " PosixPath('data/results/transferability_simulation_15/deap_inds/33_transformed_genome_.pkl'),\n",
       " PosixPath('data/results/transferability_simulation_15/deap_inds/34_transformed_genome_.pkl'),\n",
       " PosixPath('data/results/transferability_simulation_15/deap_inds/35_transformed_genome_.pkl'),\n",
       " PosixPath('data/results/transferability_simulation_15/deap_inds/369_transformed_genome_.pkl'),\n",
       " PosixPath('data/results/transferability_simulation_15/deap_inds/36_transformed_genome_.pkl'),\n",
       " PosixPath('data/results/transferability_simulation_15/deap_inds/370_transformed_genome_.pkl'),\n",
       " PosixPath('data/results/transferability_simulation_15/deap_inds/375_transformed_genome_.pkl'),\n",
       " PosixPath('data/results/transferability_simulation_15/deap_inds/37_transformed_genome_.pkl'),\n",
       " PosixPath('data/results/transferability_simulation_15/deap_inds/381_transformed_genome_.pkl'),\n",
       " PosixPath('data/results/transferability_simulation_15/deap_inds/383_transformed_genome_.pkl'),\n",
       " PosixPath('data/results/transferability_simulation_15/deap_inds/38_transformed_genome_.pkl'),\n",
       " PosixPath('data/results/transferability_simulation_15/deap_inds/398_transformed_genome_.pkl'),\n",
       " PosixPath('data/results/transferability_simulation_15/deap_inds/39_transformed_genome_.pkl'),\n",
       " PosixPath('data/results/transferability_simulation_15/deap_inds/405_transformed_genome_.pkl'),\n",
       " PosixPath('data/results/transferability_simulation_15/deap_inds/40_transformed_genome_.pkl'),\n",
       " PosixPath('data/results/transferability_simulation_15/deap_inds/420_transformed_genome_.pkl'),\n",
       " PosixPath('data/results/transferability_simulation_15/deap_inds/428_transformed_genome_.pkl'),\n",
       " PosixPath('data/results/transferability_simulation_15/deap_inds/42_transformed_genome_.pkl'),\n",
       " PosixPath('data/results/transferability_simulation_15/deap_inds/435_transformed_genome_.pkl'),\n",
       " PosixPath('data/results/transferability_simulation_15/deap_inds/441_transformed_genome_.pkl'),\n",
       " PosixPath('data/results/transferability_simulation_15/deap_inds/45_transformed_genome_.pkl'),\n",
       " PosixPath('data/results/transferability_simulation_15/deap_inds/46_transformed_genome_.pkl'),\n",
       " PosixPath('data/results/transferability_simulation_15/deap_inds/472_transformed_genome_.pkl'),\n",
       " PosixPath('data/results/transferability_simulation_15/deap_inds/478_transformed_genome_.pkl'),\n",
       " PosixPath('data/results/transferability_simulation_15/deap_inds/50_transformed_genome_.pkl'),\n",
       " PosixPath('data/results/transferability_simulation_15/deap_inds/519_transformed_genome_.pkl'),\n",
       " PosixPath('data/results/transferability_simulation_15/deap_inds/523_transformed_genome_.pkl'),\n",
       " PosixPath('data/results/transferability_simulation_15/deap_inds/530_transformed_genome_.pkl'),\n",
       " PosixPath('data/results/transferability_simulation_15/deap_inds/552_transformed_genome_.pkl'),\n",
       " PosixPath('data/results/transferability_simulation_15/deap_inds/555_transformed_genome_.pkl'),\n",
       " PosixPath('data/results/transferability_simulation_15/deap_inds/557_transformed_genome_.pkl'),\n",
       " PosixPath('data/results/transferability_simulation_15/deap_inds/559_transformed_genome_.pkl'),\n",
       " PosixPath('data/results/transferability_simulation_15/deap_inds/56_transformed_genome_.pkl'),\n",
       " PosixPath('data/results/transferability_simulation_15/deap_inds/572_transformed_genome_.pkl'),\n",
       " PosixPath('data/results/transferability_simulation_15/deap_inds/59_transformed_genome_.pkl'),\n",
       " PosixPath('data/results/transferability_simulation_15/deap_inds/63_transformed_genome_.pkl'),\n",
       " PosixPath('data/results/transferability_simulation_15/deap_inds/69_transformed_genome_.pkl'),\n",
       " PosixPath('data/results/transferability_simulation_15/deap_inds/70_transformed_genome_.pkl'),\n",
       " PosixPath('data/results/transferability_simulation_15/deap_inds/77_transformed_genome_.pkl'),\n",
       " PosixPath('data/results/transferability_simulation_15/deap_inds/80_transformed_genome_.pkl'),\n",
       " PosixPath('data/results/transferability_simulation_15/deap_inds/93_transformed_genome_.pkl')]"
      ]
     },
     "execution_count": 41,
     "metadata": {},
     "output_type": "execute_result"
    }
   ],
   "source": [
    "transfered_file"
   ]
  },
  {
   "cell_type": "code",
   "execution_count": 43,
   "metadata": {},
   "outputs": [
    {
     "data": {
      "text/plain": [
       "78"
      ]
     },
     "execution_count": 43,
     "metadata": {},
     "output_type": "execute_result"
    }
   ],
   "source": [
    "len(transfered_file)"
   ]
  },
  {
   "cell_type": "code",
   "execution_count": 87,
   "metadata": {},
   "outputs": [],
   "source": [
    "g = sorted(genomes, key=lambda x: x.key)"
   ]
  },
  {
   "cell_type": "code",
   "execution_count": 88,
   "metadata": {},
   "outputs": [],
   "source": [
    "t = sorted(transferred, key=lambda x: x.key)"
   ]
  },
  {
   "cell_type": "code",
   "execution_count": 89,
   "metadata": {},
   "outputs": [],
   "source": [
    "sim_genome = list(filter(lambda x: x.key == 530, g))[0]"
   ]
  },
  {
   "cell_type": "code",
   "execution_count": 90,
   "metadata": {},
   "outputs": [
    {
     "name": "stdout",
     "output_type": "stream",
     "text": [
      "530 (1.3232420685644013, 1.474114958028711, 0.590481990508962) 11.200000000000024 0.590481990508962\n"
     ]
    }
   ],
   "source": [
    "print(sim_genome.key, sim_genome.fitness.values, sim_genome.sim_time, sim_genome.diversity)"
   ]
  },
  {
   "cell_type": "code",
   "execution_count": 78,
   "metadata": {},
   "outputs": [],
   "source": [
    "trans_genome = list(filter(lambda x: x.key == 375, t))[0]"
   ]
  },
  {
   "cell_type": "code",
   "execution_count": 79,
   "metadata": {},
   "outputs": [
    {
     "name": "stdout",
     "output_type": "stream",
     "text": [
      "375 (5.920783593410858, 1.5393718591076808, 0.5018630528981484)\n"
     ]
    }
   ],
   "source": [
    "print(trans_genome.key, trans_genome.fitness.values)"
   ]
  },
  {
   "cell_type": "code",
   "execution_count": 58,
   "metadata": {},
   "outputs": [
    {
     "data": {
      "text/plain": [
       "60.049999999998725"
      ]
     },
     "execution_count": 58,
     "metadata": {},
     "output_type": "execute_result"
    }
   ],
   "source": [
    "sim_genome.sim_time"
   ]
  },
  {
   "cell_type": "code",
   "execution_count": null,
   "metadata": {},
   "outputs": [],
   "source": [
    "sim_genomes = sorted(list(filter(lambda x: x.key in hof_ids[:-10], g)), key=lambda x: x.fitness.values[0])\n",
    "trans_genomes = sorted(list(filter(lambda x: x.key in hof_ids[:-10] t)), key=lambda x: x.fitness.values[0])"
   ]
  },
  {
   "cell_type": "code",
   "execution_count": 80,
   "metadata": {},
   "outputs": [
    {
     "data": {
      "text/html": [
       "<iframe id=\"igraph\" scrolling=\"no\" style=\"border:none;\" seamless=\"seamless\" src=\"https://plot.ly/~richban_/300.embed\" height=\"525px\" width=\"100%\"></iframe>"
      ],
      "text/plain": [
       "<chart_studio.tools.PlotlyDisplay object>"
      ]
     },
     "execution_count": 80,
     "metadata": {},
     "output_type": "execute_result"
    }
   ],
   "source": [
    "plot_path([sim_genome, trans_genome], 'The discrepancy of traveled trajectories in simulation & reality.')\n",
    "# plot_path(sim_genomes)"
   ]
  },
  {
   "cell_type": "code",
   "execution_count": null,
   "metadata": {},
   "outputs": [],
   "source": [
    "sim_genome.position"
   ]
  },
  {
   "cell_type": "code",
   "execution_count": null,
   "metadata": {},
   "outputs": [],
   "source": [
    "trans_genome.position"
   ]
  },
  {
   "cell_type": "code",
   "execution_count": null,
   "metadata": {},
   "outputs": [],
   "source": [
    "plot_path(trans_genomes)"
   ]
  },
  {
   "cell_type": "code",
   "execution_count": 60,
   "metadata": {},
   "outputs": [
    {
     "data": {
      "text/plain": [
       "22.447773190834052"
      ]
     },
     "execution_count": 60,
     "metadata": {},
     "output_type": "execute_result"
    }
   ],
   "source": [
    "calc_str_disparity(trans_genome.position, sim_genome.position)"
   ]
  },
  {
   "cell_type": "code",
   "execution_count": 61,
   "metadata": {},
   "outputs": [
    {
     "data": {
      "text/plain": [
       "0.2771459559699877"
      ]
     },
     "execution_count": 61,
     "metadata": {},
     "output_type": "execute_result"
    }
   ],
   "source": [
    "euclidean_distance(trans_genome.position, sim_genome.position)"
   ]
  },
  {
   "cell_type": "code",
   "execution_count": 91,
   "metadata": {},
   "outputs": [
    {
     "data": {
      "text/html": [
       "<iframe id=\"igraph\" scrolling=\"no\" style=\"border:none;\" seamless=\"seamless\" src=\"https://plot.ly/~richban_/294.embed\" height=\"525px\" width=\"100%\"></iframe>"
      ],
      "text/plain": [
       "<chart_studio.tools.PlotlyDisplay object>"
      ]
     },
     "execution_count": 91,
     "metadata": {},
     "output_type": "execute_result"
    }
   ],
   "source": [
    "plot_surrogate_model(fitness_data)"
   ]
  },
  {
   "cell_type": "code",
   "execution_count": 71,
   "metadata": {},
   "outputs": [],
   "source": [
    "# merge  \n",
    "union_t = [(x, y) for x in g for y in t if x.key == y.key]\n",
    "for s, t in union_t:\n",
    "    np.array_equal(s, t)\n",
    "    assert s.key == t.key"
   ]
  },
  {
   "cell_type": "code",
   "execution_count": 63,
   "metadata": {},
   "outputs": [],
   "source": [
    "# merge HOF\n",
    "union_hof = [(x, y) for x in hof for y in t if x.key == y.key]\n",
    "for s, t in union_hof:\n",
    "    np.array_equal(s, t)\n",
    "    assert s.key == t.key"
   ]
  },
  {
   "cell_type": "code",
   "execution_count": 64,
   "metadata": {},
   "outputs": [
    {
     "data": {
      "text/plain": [
       "6"
      ]
     },
     "execution_count": 64,
     "metadata": {},
     "output_type": "execute_result"
    }
   ],
   "source": [
    "len(union_hof)"
   ]
  },
  {
   "cell_type": "code",
   "execution_count": null,
   "metadata": {},
   "outputs": [],
   "source": [
    "for s, t in union_hof:\n",
    "    print(s.key, end=\" \")"
   ]
  },
  {
   "cell_type": "code",
   "execution_count": 72,
   "metadata": {},
   "outputs": [],
   "source": [
    "str_disparities = [(s.gen,\n",
    "                    s.key,\n",
    "                    s.fitness.values[0],\n",
    "                    s.fitness.values[1],\n",
    "                    calc_str_disparity(t.position, s.position)\n",
    "                   ) for s, t in union_t\n",
    "                  ]"
   ]
  },
  {
   "cell_type": "code",
   "execution_count": null,
   "metadata": {},
   "outputs": [],
   "source": [
    "str_euclidean = [(s.gen,\n",
    "                    s.key,\n",
    "                    s.fitness.values[0],\n",
    "                    s.fitness.values[1],\n",
    "                    calc_str_disparity(t.position, s.position)\n",
    "                   ) for s, t in union_t\n",
    "                ]"
   ]
  },
  {
   "cell_type": "code",
   "execution_count": 67,
   "metadata": {},
   "outputs": [],
   "source": [
    "str_disparities_hof = [(s.gen,\n",
    "                    s.key,\n",
    "                    s.fitness.values[0],\n",
    "                    s.fitness.values[1],\n",
    "                    calc_str_disparity(t.position, s.position)\n",
    "                   ) for s, t in union_hof\n",
    "                  ]"
   ]
  },
  {
   "cell_type": "code",
   "execution_count": null,
   "metadata": {},
   "outputs": [],
   "source": [
    "sorted(str_disparities, key=lambda x: x[0])"
   ]
  },
  {
   "cell_type": "code",
   "execution_count": null,
   "metadata": {},
   "outputs": [],
   "source": [
    "np.array([str_disparity[1] for str_disparity in str_disparities])\n",
    "np.array([real_disparity[2] for real_disparity in str_disparities])\n",
    "\n",
    "filter_disparities = list(filter(lambda x: x[2] < 5, str_disparities))\n",
    "filter_disparities[:4]"
   ]
  },
  {
   "cell_type": "code",
   "execution_count": 73,
   "metadata": {},
   "outputs": [
    {
     "data": {
      "text/html": [
       "<iframe id=\"igraph\" scrolling=\"no\" style=\"border:none;\" seamless=\"seamless\" src=\"https://plot.ly/~richban_/296.embed\" height=\"525px\" width=\"100%\"></iframe>"
      ],
      "text/plain": [
       "<chart_studio.tools.PlotlyDisplay object>"
      ]
     },
     "execution_count": 73,
     "metadata": {},
     "output_type": "execute_result"
    }
   ],
   "source": [
    "plot_str_disparity(str_disparities)"
   ]
  },
  {
   "cell_type": "code",
   "execution_count": 81,
   "metadata": {},
   "outputs": [],
   "source": [
    "actual = []\n",
    "approximated = []\n",
    "for s, t in union_t:\n",
    "    approximated.append(s.fitness.values[1])\n",
    "    actual.append(calc_str_disparity(t.position, s.position))"
   ]
  },
  {
   "cell_type": "code",
   "execution_count": 82,
   "metadata": {},
   "outputs": [
    {
     "data": {
      "text/plain": [
       "(0.016407392036827017, 0.887373147485877)"
      ]
     },
     "execution_count": 82,
     "metadata": {},
     "output_type": "execute_result"
    }
   ],
   "source": [
    "stats.pearsonr(actual, approximated)"
   ]
  },
  {
   "cell_type": "code",
   "execution_count": null,
   "metadata": {},
   "outputs": [],
   "source": [
    "str_euclidean"
   ]
  },
  {
   "cell_type": "code",
   "execution_count": null,
   "metadata": {},
   "outputs": [],
   "source": [
    "distance = 0\n",
    "for i in range(0, len(trans_genome.position)-1):\n",
    "    distance += math.sqrt(((sim_genome.position[i][0] - \n",
    "                            sim_genome.position[i][1])**2) + \n",
    "                          ((sim_genome.position[i+1][1] - \n",
    "                            sim_genome.position[i+1][1])**2))"
   ]
  },
  {
   "cell_type": "code",
   "execution_count": 84,
   "metadata": {},
   "outputs": [],
   "source": [
    "def traveled_distance(genome):\n",
    "    distance = 0\n",
    "    for i in range(0, len(genome.position)-1):\n",
    "        distance += math.sqrt(((genome.position[i][0] - \n",
    "                                genome.position[i][1])**2) + \n",
    "                              ((genome.position[i+1][1] - \n",
    "                                genome.position[i+1][1])**2))\n",
    "    return distance"
   ]
  },
  {
   "cell_type": "code",
   "execution_count": 85,
   "metadata": {},
   "outputs": [
    {
     "data": {
      "text/plain": [
       "0.4346722693029195"
      ]
     },
     "execution_count": 85,
     "metadata": {},
     "output_type": "execute_result"
    }
   ],
   "source": [
    "traveled_distance(trans_genome)"
   ]
  },
  {
   "cell_type": "code",
   "execution_count": 86,
   "metadata": {},
   "outputs": [
    {
     "data": {
      "text/plain": [
       "2.814394548535347"
      ]
     },
     "execution_count": 86,
     "metadata": {},
     "output_type": "execute_result"
    }
   ],
   "source": [
    "traveled_distance(sim_genome)"
   ]
  },
  {
   "cell_type": "code",
   "execution_count": null,
   "metadata": {},
   "outputs": [],
   "source": []
  }
 ],
 "metadata": {
  "kernelspec": {
   "display_name": "Python 3",
   "language": "python",
   "name": "python3"
  },
  "language_info": {
   "codemirror_mode": {
    "name": "ipython",
    "version": 3
   },
   "file_extension": ".py",
   "mimetype": "text/x-python",
   "name": "python",
   "nbconvert_exporter": "python",
   "pygments_lexer": "ipython3",
   "version": "3.7.2"
  }
 },
 "nbformat": 4,
 "nbformat_minor": 2
}
