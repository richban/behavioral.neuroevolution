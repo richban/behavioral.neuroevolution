{
 "cells": [
  {
   "cell_type": "code",
   "execution_count": 1,
   "metadata": {},
   "outputs": [
    {
     "name": "stdout",
     "output_type": "stream",
     "text": [
      "ModuleNotFoundError: DBus works only on linux!\n"
     ]
    },
    {
     "name": "stderr",
     "output_type": "stream",
     "text": [
      "Using TensorFlow backend.\n"
     ]
    },
    {
     "name": "stdout",
     "output_type": "stream",
     "text": [
      "ModuleNotFoundError: DBus works only on linux!\n"
     ]
    },
    {
     "data": {
      "text/html": [
       "        <script type=\"text/javascript\">\n",
       "        window.PlotlyConfig = {MathJaxConfig: 'local'};\n",
       "        if (window.MathJax) {MathJax.Hub.Config({SVG: {font: \"STIX-Web\"}});}\n",
       "        if (typeof require !== 'undefined') {\n",
       "        require.undef(\"plotly\");\n",
       "        requirejs.config({\n",
       "            paths: {\n",
       "                'plotly': ['https://cdn.plot.ly/plotly-latest.min']\n",
       "            }\n",
       "        });\n",
       "        require(['plotly'], function(Plotly) {\n",
       "            window._Plotly = Plotly;\n",
       "        });\n",
       "        }\n",
       "        </script>\n",
       "        "
      ]
     },
     "metadata": {},
     "output_type": "display_data"
    }
   ],
   "source": [
    "from pathlib import Path, PurePath\n",
    "import plotly.plotly as py\n",
    "import plotly.graph_objs as go\n",
    "from plotly.offline import init_notebook_mode\n",
    "from analysis import read_behaviors, read_moea_fitness, unpickle_moea\n",
    "from utility.util_functions import calc_str_disparity, euclidean_distance\n",
    "from utility.visualize import plot_path, plot_moea_fitness, plot_surrogate_model, plot_str_disparity\n",
    "import pickle\n",
    "import numpy as np\n",
    "from deap import base, creator\n",
    "from evolution.simulation import Disparity\n",
    "init_notebook_mode(connected=True)\n"
   ]
  },
  {
   "cell_type": "code",
   "execution_count": 2,
   "metadata": {},
   "outputs": [],
   "source": [
    "# get the path for all behavioral features\n",
    "files = sorted(Path('data/results/').glob('transferability_*/behavioral_features.dat'))\n",
    "fitness_f = sorted(Path('data/results/').glob('transferability_*/fitness.dat'))"
   ]
  },
  {
   "cell_type": "code",
   "execution_count": 3,
   "metadata": {},
   "outputs": [],
   "source": [
    "columns = [\n",
    "        'avg_left', 'avg_right',\n",
    "        's1', 's2', 's3', 's4', 's5', 's6', 's7',\n",
    "        'area0_percentage',\n",
    "        'area1_percentage',\n",
    "        'area2_percentage',\n",
    "    ]"
   ]
  },
  {
   "cell_type": "code",
   "execution_count": null,
   "metadata": {},
   "outputs": [],
   "source": [
    "fitness_f"
   ]
  },
  {
   "cell_type": "code",
   "execution_count": null,
   "metadata": {},
   "outputs": [],
   "source": [
    "behaviors = read_behaviors([files[6]])[0]"
   ]
  },
  {
   "cell_type": "code",
   "execution_count": null,
   "metadata": {},
   "outputs": [],
   "source": [
    "behaviors.loc[behaviors['genome_id'] == 358].head()"
   ]
  },
  {
   "cell_type": "code",
   "execution_count": null,
   "metadata": {},
   "outputs": [],
   "source": [
    "behaviors.describe()"
   ]
  },
  {
   "cell_type": "code",
   "execution_count": null,
   "metadata": {},
   "outputs": [],
   "source": [
    "b_grouped = behaviors.groupby(['genome_id']).filter(lambda x: len(x) > 1).groupby(['genome_id', 'simulation']).first()"
   ]
  },
  {
   "cell_type": "code",
   "execution_count": null,
   "metadata": {},
   "outputs": [],
   "source": [
    "b_grouped.head()"
   ]
  },
  {
   "cell_type": "code",
   "execution_count": null,
   "metadata": {},
   "outputs": [],
   "source": [
    "b_grouped.index.get_values()"
   ]
  },
  {
   "cell_type": "code",
   "execution_count": null,
   "metadata": {},
   "outputs": [],
   "source": [
    "euclidean_distance(b_grouped[columns].iloc[1], b_grouped[columns].iloc[0])"
   ]
  },
  {
   "cell_type": "code",
   "execution_count": null,
   "metadata": {},
   "outputs": [],
   "source": [
    "for i in range(1, len(b_grouped), 2):\n",
    "    print('genome_id:', \n",
    "          b_grouped[columns].iloc[i].name[0],\n",
    "          'actual diversity',\n",
    "          euclidean_distance(\n",
    "              b_grouped[columns].iloc[i],\n",
    "              b_grouped[columns].iloc[i-1]\n",
    "          )\n",
    "    )"
   ]
  },
  {
   "cell_type": "code",
   "execution_count": 4,
   "metadata": {},
   "outputs": [],
   "source": [
    "fitness_data = read_moea_fitness([fitness_f[6]])[0]"
   ]
  },
  {
   "cell_type": "code",
   "execution_count": null,
   "metadata": {},
   "outputs": [],
   "source": [
    "fitness_data.sort_values(by=['fitness'])"
   ]
  },
  {
   "cell_type": "code",
   "execution_count": null,
   "metadata": {},
   "outputs": [],
   "source": [
    "hof = unpickle_moea('data/results/transferability_simulation_15/hof')"
   ]
  },
  {
   "cell_type": "code",
   "execution_count": null,
   "metadata": {},
   "outputs": [],
   "source": [
    "len(hof)"
   ]
  },
  {
   "cell_type": "code",
   "execution_count": null,
   "metadata": {
    "scrolled": true
   },
   "outputs": [],
   "source": [
    "plot_moea_fitness(fitness_data, hof)"
   ]
  },
  {
   "cell_type": "code",
   "execution_count": null,
   "metadata": {},
   "outputs": [],
   "source": [
    "for ind in hof:\n",
    "    print(ind.key, ind.fitness.values)"
   ]
  },
  {
   "cell_type": "code",
   "execution_count": 5,
   "metadata": {},
   "outputs": [
    {
     "name": "stderr",
     "output_type": "stream",
     "text": [
      "/Users/richban/.local/share/virtualenvs/behavioral.neuroevolution-ViNSkuNA/lib/python3.7/site-packages/deap/creator.py:141: RuntimeWarning:\n",
      "\n",
      "A class named 'FitnessMax' has already been created and it will be overwritten. Consider deleting previous creation of that class or rename it.\n",
      "\n",
      "/Users/richban/.local/share/virtualenvs/behavioral.neuroevolution-ViNSkuNA/lib/python3.7/site-packages/deap/creator.py:141: RuntimeWarning:\n",
      "\n",
      "A class named 'Individual' has already been created and it will be overwritten. Consider deleting previous creation of that class or rename it.\n",
      "\n"
     ]
    }
   ],
   "source": [
    "genomes_file = sorted(Path('data/results/transferability_simulation_15/deap_inds').glob('*_genome.pkl'))\n",
    "transfered_file = sorted(Path('data/results/transferability_simulation_15/deap_inds').glob('*_transformed_genome_.pkl'))\n",
    "genomes = [unpickle_moea(genome) for genome in genomes_file]\n",
    "transferred = [unpickle_moea(genome) for genome in transfered_file]"
   ]
  },
  {
   "cell_type": "code",
   "execution_count": null,
   "metadata": {},
   "outputs": [],
   "source": [
    "transfered_file"
   ]
  },
  {
   "cell_type": "code",
   "execution_count": null,
   "metadata": {},
   "outputs": [],
   "source": [
    "len(transfered_file)"
   ]
  },
  {
   "cell_type": "code",
   "execution_count": 6,
   "metadata": {},
   "outputs": [],
   "source": [
    "g = sorted(genomes, key=lambda x: x.key)"
   ]
  },
  {
   "cell_type": "code",
   "execution_count": 7,
   "metadata": {},
   "outputs": [],
   "source": [
    "t = sorted(transferred, key=lambda x: x.key)"
   ]
  },
  {
   "cell_type": "code",
   "execution_count": null,
   "metadata": {},
   "outputs": [],
   "source": [
    "sim_genome = list(filter(lambda x: x.key == 398, g))[0]"
   ]
  },
  {
   "cell_type": "code",
   "execution_count": null,
   "metadata": {},
   "outputs": [],
   "source": [
    "print(sim_genome.key, sim_genome.fitness.values, sim_genome.sim_time)"
   ]
  },
  {
   "cell_type": "code",
   "execution_count": null,
   "metadata": {},
   "outputs": [],
   "source": [
    "trans_genome = list(filter(lambda x: x.key == 398, t))[0]"
   ]
  },
  {
   "cell_type": "code",
   "execution_count": null,
   "metadata": {},
   "outputs": [],
   "source": [
    "print(trans_genome.key, trans_genome.fitness.values)"
   ]
  },
  {
   "cell_type": "code",
   "execution_count": null,
   "metadata": {},
   "outputs": [],
   "source": [
    "sim_genome.sim_time"
   ]
  },
  {
   "cell_type": "code",
   "execution_count": null,
   "metadata": {},
   "outputs": [],
   "source": [
    "plot_path([sim_genome, trans_genome])"
   ]
  },
  {
   "cell_type": "code",
   "execution_count": null,
   "metadata": {},
   "outputs": [],
   "source": [
    "calc_str_disparity(trans_genome.position, sim_genome.position)"
   ]
  },
  {
   "cell_type": "code",
   "execution_count": 17,
   "metadata": {},
   "outputs": [
    {
     "name": "stderr",
     "output_type": "stream",
     "text": [
      "/Users/richban/.local/share/virtualenvs/behavioral.neuroevolution-ViNSkuNA/lib/python3.7/site-packages/IPython/core/display.py:689: UserWarning:\n",
      "\n",
      "Consider using IPython.display.IFrame instead\n",
      "\n"
     ]
    },
    {
     "data": {
      "text/html": [
       "<iframe id=\"igraph\" scrolling=\"no\" style=\"border:none;\" seamless=\"seamless\" src=\"https://plot.ly/~richban_/294.embed\" height=\"525px\" width=\"100%\"></iframe>"
      ],
      "text/plain": [
       "<chart_studio.tools.PlotlyDisplay object>"
      ]
     },
     "execution_count": 17,
     "metadata": {},
     "output_type": "execute_result"
    }
   ],
   "source": [
    "plot_surrogate_model(fitness_data)"
   ]
  },
  {
   "cell_type": "code",
   "execution_count": 8,
   "metadata": {},
   "outputs": [],
   "source": [
    "# merge  \n",
    "union_t = [(x, y) for x in g for y in t if x.key == y.key]\n",
    "for s, t in union_t:\n",
    "    np.array_equal(s, t)\n",
    "    assert s.key == t.key"
   ]
  },
  {
   "cell_type": "code",
   "execution_count": null,
   "metadata": {},
   "outputs": [],
   "source": [
    "str_disparity = Disparity()"
   ]
  },
  {
   "cell_type": "code",
   "execution_count": null,
   "metadata": {},
   "outputs": [],
   "source": [
    "for s, t in union_t:\n",
    "    print(s.gen, end=\" \")"
   ]
  },
  {
   "cell_type": "code",
   "execution_count": 18,
   "metadata": {},
   "outputs": [],
   "source": [
    "str_disparities = [(s.gen, s.key, s.fitness.values[0], s.fitness.values[1], calc_str_disparity(t.position, s.position)) for s, t in union_t]    "
   ]
  },
  {
   "cell_type": "code",
   "execution_count": 19,
   "metadata": {},
   "outputs": [
    {
     "data": {
      "text/plain": [
       "[(1, 21, 0.2607287667366189, 0.11951712563775475, 0.21801469108551616),\n",
       " (1, 22, 0.37666657598379366, 0.11951712563775475, 0.17142255357559266),\n",
       " (1, 23, 0.14215099372303278, 0.11951712563775475, 0.10805629494983024),\n",
       " (1, 24, 0.21370346927401307, 0.11951712563775475, 0.8728595230875857),\n",
       " (1, 25, 0.4379590499598192, 0.11951712563775475, 0.3805276738600174),\n",
       " (1, 26, 1.15842073060853, 0.11951712563775475, 1.9957478844845054),\n",
       " (1, 27, 0.2798758363689432, 0.11951712563775475, 0.1555808565089477),\n",
       " (1, 28, 0.23028163405390123, 0.11951712563775475, 0.44598986478527974),\n",
       " (1, 29, 0.30669240212071647, 0.11951712563775475, 0.321640332580434),\n",
       " (1, 30, 0.051165632681825474, 0.11951712563775475, 0.08183377585456553),\n",
       " (1, 31, 0.22542595934786613, 0.11951712563775475, 0.13389847257463477),\n",
       " (1, 32, 0.2667900174542295, 0.11951712563775475, 0.23734452140100226),\n",
       " (1, 33, 0.010851058955115721, 0.11951712563775475, 0.07489888230277211),\n",
       " (1, 34, 0.0002714378104773918, 0.11951712563775475, 0.36847559819258446),\n",
       " (1, 35, 0.1367927657035116, 0.11951712563775475, 0.04028337915460524),\n",
       " (1, 36, 0.0026106013934041475, 0.11951712563775475, 0.15678353613741025),\n",
       " (1, 37, 0.04358145239706556, 0.11951712563775475, 0.1843455991474091),\n",
       " (1, 38, 0.11570154608591016, 0.11951712563775475, 0.1616471980596661),\n",
       " (1, 39, 0.13488367854754904, 0.11951712563775475, 0.3255795951660113),\n",
       " (1, 40, 0.2989427541577952, 0.11951712563775475, 1.2191076610573708),\n",
       " (2, 42, 0.4377210613919214, 0.29623176569279985, 0.3258591020070836),\n",
       " (2, 45, 5.344447774265978, 0.29623176569279985, 0.752394218176725),\n",
       " (2, 46, 0.2132960821166792, 0.29623176569279985, 0.17757092360888227),\n",
       " (2, 50, 0.06131391455812719, 0.29623176569279985, 0.3300353045442941),\n",
       " (2, 56, 0.2504728700444292, 0.29623176569279985, 0.31974307879033265),\n",
       " (2, 59, 0.06724151458137001, 0.29623176569279985, 0.2320155264115368),\n",
       " (3, 63, 5.790913648047852, 0.31058753450850884, 3.4063132293650114),\n",
       " (3, 69, 0.02337215148528821, 0.31058753450850884, 0.25670956157809405),\n",
       " (3, 70, 0.1440415415986881, 0.31058753450850884, 0.12769276478796854),\n",
       " (3, 77, 0.0028896973854408686, 0.31058753450850884, 0.16697593271799888),\n",
       " (3, 80, 0.9117493319628385, 0.31058753450850884, 0.2721550749766981),\n",
       " (4, 93, 4.8833295609891705, 0.43868329544309925, 4.670893672278825),\n",
       " (5, 109, 0.7619292270417667, 0.8032937524148497, 0.1804417194373563),\n",
       " (5, 112, 4.1655280135760915, 0.8032937524148497, 2.050934180442888),\n",
       " (5, 119, 1.563523971669214, 0.8032937524148497, 2.188335994944534),\n",
       " (6, 123, 0.6247206631604239, 0.5111238253998863, 0.17022717756252742),\n",
       " (6, 138, 3.5511964225044665, 0.5111238253998863, 1.5803521387353254),\n",
       " (7, 141, 0.07567835689964471, 0.8754286788868856, 0.17117085930190362),\n",
       " (7, 142, 0.8994435532772369, 0.8754286788868856, 0.18013604134227235),\n",
       " (7, 148, 0.2248885143128189, 0.8754286788868856, 0.15281415350125077),\n",
       " (7, 155, 1.3676198802442088, 0.8754286788868856, 0.24098114238197754),\n",
       " (7, 158, 0.18379514151692605, 0.8754286788868856, 0.12844775844957043),\n",
       " (7, 159, 0.2530226568702662, 0.8754286788868856, 0.13903787995320627),\n",
       " (8, 163, 0.8930493582875575, 0.5499001658952655, 2.0785281346301203),\n",
       " (8, 165, 5.611040075710668, 0.5499001658952655, 12.377493513624707),\n",
       " (9, 200, 0.6787399585078207, 1.2283053728146203, 0.4200970825258533),\n",
       " (10, 206, 0.5330812877066775, 1.1813623636065056, 0.31215358085134465),\n",
       " (11, 231, 0.5504008177506854, 1.0905928680658679, 0.273912367078871),\n",
       " (11, 236, 0.6139176256538489, 1.0905928680658679, 0.15580288088334188),\n",
       " (12, 248, 0.04414178506696202, 1.165418713913876, 0.20900629402118376),\n",
       " (12, 250, 0.5681671701724447, 1.165418713913876, 0.11113284146080343),\n",
       " (12, 253, 0.4889622091472198, 1.165418713913876, 0.25769817355728636),\n",
       " (15, 303, 0.5220408089105066, 0.5941746403598056, 0.152645113536863),\n",
       " (15, 311, 7.6351439208980425, 0.5941746403598056, 22.447773190834052),\n",
       " (15, 313, 0.6496906021422094, 0.5941746403598056, 0.16678583134854583),\n",
       " (15, 315, 0.5516295011373192, 0.5941746403598056, 0.12036451091080075),\n",
       " (18, 369, 0.48045627578243144, 1.5393718591076808, 0.24334827435164214),\n",
       " (18, 370, 0.018180469085840426, 1.5393718591076808, 0.6323323377587297),\n",
       " (18, 375, 5.920783593410858, 1.5393718591076808, 8.618835862161177),\n",
       " (19, 381, 0.7872135980036783, 1.7087987398667301, 0.627597654944691),\n",
       " (19, 383, 0.5181992266592294, 1.7087987398667301, 0.14790863718233763),\n",
       " (19, 398, 5.5450160732094735, 1.7087987398667301, 7.717463693693427),\n",
       " (20, 405, 0.7534655879629056, 1.6509839838720075, 0.19344298776772037),\n",
       " (20, 420, 0.2139980243890667, 1.6509839838720075, 0.13208174829115538),\n",
       " (21, 428, 0.5841543836641516, 0.8924107597366229, 0.1394216458503589),\n",
       " (21, 435, 0.6654275314702848, 0.8924107597366229, 0.0799518948595653),\n",
       " (22, 441, 0.6393212427233556, 1.7515943743047309, 0.38667358329789436),\n",
       " (23, 472, 0.708519507589767, 1.6087768056798564, 0.13080510205694873),\n",
       " (23, 478, 0.7659546469995052, 1.6087768056798564, 0.48297469502912893),\n",
       " (25, 519, 0.4884296500329561, 1.7600483894045214, 0.25905664302129305),\n",
       " (26, 523, 0.04626046354427784, 1.474114958028711, 0.20795048307297062),\n",
       " (26, 530, 1.3232420685644013, 1.474114958028711, 0.08552176496035671),\n",
       " (27, 552, 0.6941160365778768, 1.6467295323844808, 0.1353230123053507),\n",
       " (27, 555, 0.736828562691768, 1.6467295323844808, 0.27306663950963916),\n",
       " (27, 557, 0.08466246964784084, 1.6467295323844808, 0.13742089113498263),\n",
       " (27, 559, 0.005791205699879352, 1.6467295323844808, 0.13083079608820355),\n",
       " (28, 572, 0.48578362744211545, 0.9635045327637969, 0.17753002157018097)]"
      ]
     },
     "execution_count": 19,
     "metadata": {},
     "output_type": "execute_result"
    }
   ],
   "source": [
    "str_disparities"
   ]
  },
  {
   "cell_type": "code",
   "execution_count": null,
   "metadata": {},
   "outputs": [],
   "source": [
    "np.array([str_disparity[1] for str_disparity in str_disparities])\n",
    "np.array([real_disparity[2] for real_disparity in str_disparities])\n",
    "\n",
    "filter_disparities = list(filter(lambda x: x[2] < 5, str_disparities))\n",
    "filter_disparities[:4]"
   ]
  },
  {
   "cell_type": "code",
   "execution_count": 20,
   "metadata": {},
   "outputs": [
    {
     "data": {
      "text/html": [
       "<iframe id=\"igraph\" scrolling=\"no\" style=\"border:none;\" seamless=\"seamless\" src=\"https://plot.ly/~richban_/296.embed\" height=\"525px\" width=\"100%\"></iframe>"
      ],
      "text/plain": [
       "<chart_studio.tools.PlotlyDisplay object>"
      ]
     },
     "execution_count": 20,
     "metadata": {},
     "output_type": "execute_result"
    }
   ],
   "source": [
    "plot_str_disparity(str_disparities)"
   ]
  },
  {
   "cell_type": "code",
   "execution_count": null,
   "metadata": {},
   "outputs": [],
   "source": [
    "np.arange(0, 11)"
   ]
  },
  {
   "cell_type": "code",
   "execution_count": 9,
   "metadata": {},
   "outputs": [],
   "source": [
    "actual = []\n",
    "approximated = []\n",
    "for s, t in union_t:\n",
    "    approximated.append(s.fitness.values[1])\n",
    "    actual.append(calc_str_disparity(t.position, s.position))"
   ]
  },
  {
   "cell_type": "code",
   "execution_count": 16,
   "metadata": {},
   "outputs": [
    {
     "data": {
      "text/plain": [
       "(0.016407392036827017, 0.887373147485877)"
      ]
     },
     "execution_count": 16,
     "metadata": {},
     "output_type": "execute_result"
    }
   ],
   "source": [
    "import scipy as sp\n",
    "from scipy import stats\n",
    "\n",
    "stats.pearsonr(actual, approximated)"
   ]
  }
 ],
 "metadata": {
  "kernelspec": {
   "display_name": "Python 3",
   "language": "python",
   "name": "python3"
  },
  "language_info": {
   "codemirror_mode": {
    "name": "ipython",
    "version": 3
   },
   "file_extension": ".py",
   "mimetype": "text/x-python",
   "name": "python",
   "nbconvert_exporter": "python",
   "pygments_lexer": "ipython3",
   "version": "3.7.2"
  }
 },
 "nbformat": 4,
 "nbformat_minor": 2
}
