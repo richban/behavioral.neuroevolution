{
 "cells": [
  {
   "cell_type": "code",
   "execution_count": null,
   "metadata": {},
   "outputs": [],
   "source": [
    "from pathlib import Path, PurePath\n",
    "import plotly.plotly as py\n",
    "import plotly.graph_objs as go\n",
    "import plotly\n",
    "import numpy as np\n",
    "import pandas as pd\n",
    "import os\n",
    "from analysis import process_data, simulation_dt, compute_quartiles, read_restored_behaviors, restore_genomes\n",
    "from utility.visualize import plot_runs, plot_path, plot_thymio_fitness, plot_thymio_behaviors, plot_scatter, plot_grid, plot_fitness, plot_n_fitness, plot_boxplot_sensors, plot_boxplot_wheels\n",
    "from utility.path_tracking import create_grid\n",
    "from utility.util_functions import euclidean_distance\n",
    "\n",
    "plotly.offline.init_notebook_mode()"
   ]
  },
  {
   "cell_type": "code",
   "execution_count": null,
   "metadata": {},
   "outputs": [],
   "source": [
    "fitness_file = sorted(Path('data/results/restored_genomes/')\n",
    "                        .glob('vrep_sim_winner_transfered_thymio_3/restored_genome_fitness_*.txt'))"
   ]
  },
  {
   "cell_type": "code",
   "execution_count": null,
   "metadata": {},
   "outputs": [],
   "source": [
    "b_thymio = read_restored_behaviors(fitness_file)[0]"
   ]
  },
  {
   "cell_type": "code",
   "execution_count": null,
   "metadata": {},
   "outputs": [],
   "source": [
    "winner_sim_file = sorted(Path('data/results/restored_genomes/')\n",
    "                 .glob('vrep_sim_winner_transfered_thymio_3/winner_genome'))\n",
    "winner_sim = restore_genomes(winner_sim_file)[0]"
   ]
  },
  {
   "cell_type": "code",
   "execution_count": null,
   "metadata": {},
   "outputs": [],
   "source": [
    "b_simulation = simulation_dt(winner_sim)"
   ]
  },
  {
   "cell_type": "code",
   "execution_count": null,
   "metadata": {},
   "outputs": [],
   "source": [
    "plot_n_fitness([b_thymio, b_simulation], 'Fitness performance between Thymio and Vrep across 10 post-evaluation')"
   ]
  },
  {
   "cell_type": "code",
   "execution_count": null,
   "metadata": {},
   "outputs": [],
   "source": [
    "plot_boxplot_sensors(b_thymio)"
   ]
  },
  {
   "cell_type": "code",
   "execution_count": null,
   "metadata": {},
   "outputs": [],
   "source": [
    "plot_boxplot_sensors(b_simulation)"
   ]
  },
  {
   "cell_type": "code",
   "execution_count": null,
   "metadata": {},
   "outputs": [],
   "source": [
    "plot_thymio_behaviors(b_thymio.iloc[:, 2:].sum(axis=1), b_simulation.iloc[:, 2:].sum(axis=1))\n",
    "\n"
   ]
  },
  {
   "cell_type": "code",
   "execution_count": null,
   "metadata": {},
   "outputs": [],
   "source": [
    "genome1 = sorted(Path('data/results/restored_genomes/')\n",
    "                 .glob('vrep_sim_winner_transfered_thymio_3/*.pkl'))\n",
    "thymio_genome = restore_genomes(genome1)[0]"
   ]
  },
  {
   "cell_type": "code",
   "execution_count": null,
   "metadata": {},
   "outputs": [],
   "source": [
    "c([thymio_genome, winner_sim])"
   ]
  },
  {
   "cell_type": "code",
   "execution_count": null,
   "metadata": {},
   "outputs": [],
   "source": [
    "euclidean_distance(thymio_genome.position, winner_sim.position)"
   ]
  },
  {
   "cell_type": "code",
   "execution_count": null,
   "metadata": {},
   "outputs": [],
   "source": []
  }
 ],
 "metadata": {
  "kernelspec": {
   "display_name": "Python 3",
   "language": "python",
   "name": "python3"
  },
  "language_info": {
   "codemirror_mode": {
    "name": "ipython",
    "version": 3
   },
   "file_extension": ".py",
   "mimetype": "text/x-python",
   "name": "python",
   "nbconvert_exporter": "python",
   "pygments_lexer": "ipython3",
   "version": "3.7.2"
  }
 },
 "nbformat": 4,
 "nbformat_minor": 2
}
