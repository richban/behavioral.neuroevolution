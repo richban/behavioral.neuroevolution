{
 "cells": [
  {
   "cell_type": "code",
   "execution_count": 1,
   "metadata": {},
   "outputs": [],
   "source": [
    "import numpy as np\n",
    "import time\n",
    "from robot.vrep_robot import VrepRobot\n",
    "import vrep.vrep as vrep\n",
    "from settings import Settings"
   ]
  },
  {
   "cell_type": "code",
   "execution_count": null,
   "metadata": {},
   "outputs": [],
   "source": [
    "vision_thread = Tracker(mid=5,\n",
    "                        transform=None,\n",
    "                        mid_aux=0,\n",
    "                        video_source=-1,\n",
    "                        capture=False,\n",
    "                        show=True,\n",
    "                        debug=False,\n",
    "                       )"
   ]
  },
  {
   "cell_type": "code",
   "execution_count": null,
   "metadata": {
    "scrolled": true
   },
   "outputs": [],
   "source": [
    "vision_thread.start()"
   ]
  },
  {
   "cell_type": "code",
   "execution_count": 2,
   "metadata": {},
   "outputs": [],
   "source": [
    "thymio = {\n",
    "    'name': 'thymio',\n",
    "    'body': 'Thymio',\n",
    "    'left_motor': 'leftMotor',\n",
    "    'right_motor': 'rightMotor',\n",
    "    'sensor': 'Proximity_sensor',\n",
    "    'num_sensors': 7\n",
    "}\n",
    "\n",
    "settings = Settings(thymio)"
   ]
  },
  {
   "cell_type": "code",
   "execution_count": 3,
   "metadata": {},
   "outputs": [],
   "source": [
    "vrep.simxFinish(-1)\n",
    "clientID = vrep.simxStart(\n",
    "    '127.0.0.1',\n",
    "    19997,\n",
    "    True,\n",
    "    True,\n",
    "    5000,\n",
    "    5)\n",
    "\n",
    "if clientID == -1:\n",
    "    print('Failed connecting to remote API server')\n",
    "    print('Program ended')\n",
    "\n",
    "if (vrep.simxStartSimulation(clientID, vrep.simx_opmode_blocking) == -1):\n",
    "    print('Failed to start the simulation\\n')\n",
    "    print('Program ended\\n')\n",
    "\n",
    "\n",
    "OP_MODE = vrep.simx_opmode_oneshot_wait\n",
    "robot = VrepRobot(clientID, None, OP_MODE, settings.robot_type)"
   ]
  },
  {
   "cell_type": "code",
   "execution_count": 4,
   "metadata": {},
   "outputs": [
    {
     "data": {
      "text/plain": [
       "array([0.        , 0.00424995, 0.00448392, 0.00424993, 0.00424992,\n",
       "       0.        , 0.        ])"
      ]
     },
     "execution_count": 4,
     "metadata": {},
     "output_type": "execute_result"
    }
   ],
   "source": [
    "robot.v_read_prox()"
   ]
  },
  {
   "cell_type": "code",
   "execution_count": null,
   "metadata": {},
   "outputs": [],
   "source": []
  }
 ],
 "metadata": {
  "kernelspec": {
   "display_name": "Python 3",
   "language": "python",
   "name": "python3"
  },
  "language_info": {
   "codemirror_mode": {
    "name": "ipython",
    "version": 3
   },
   "file_extension": ".py",
   "mimetype": "text/x-python",
   "name": "python",
   "nbconvert_exporter": "python",
   "pygments_lexer": "ipython3",
   "version": "3.7.2"
  }
 },
 "nbformat": 4,
 "nbformat_minor": 2
}
