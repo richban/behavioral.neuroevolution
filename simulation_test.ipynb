{
 "cells": [
  {
   "cell_type": "code",
   "execution_count": 1,
   "metadata": {},
   "outputs": [],
   "source": [
    "import numpy as np\n",
    "import time\n",
    "from robot.vrep_robot import VrepRobot\n",
    "from robot.evolved_robot import EvolvedRobot\n",
    "import vrep.vrep as vrep\n",
    "from settings import Settings\n",
    "from vision.tracker import Tracker, get_marker_object\n",
    "from utility.path_tracking import transform_pos_angle\n",
    "import math"
   ]
  },
  {
   "cell_type": "code",
   "execution_count": 2,
   "metadata": {},
   "outputs": [
    {
     "name": "stdout",
     "output_type": "stream",
     "text": [
      "starting Tracker, video source:  -1\n"
     ]
    }
   ],
   "source": [
    "vision_thread = Tracker(mid=5,\n",
    "                        transform=None,\n",
    "                        mid_aux=0,\n",
    "                        video_source=-1,\n",
    "                        capture=False,\n",
    "                        show=True,\n",
    "                        debug=False,\n",
    "                       )"
   ]
  },
  {
   "cell_type": "code",
   "execution_count": 3,
   "metadata": {
    "scrolled": true
   },
   "outputs": [],
   "source": [
    "vision_thread.start()"
   ]
  },
  {
   "cell_type": "code",
   "execution_count": 4,
   "metadata": {},
   "outputs": [
    {
     "name": "stdout",
     "output_type": "stream",
     "text": [
      "Last markers len: 8\n",
      "11222333444444445Restore Calibration\n"
     ]
    }
   ],
   "source": [
    "thymio = {\n",
    "    'name': 'thymio',\n",
    "    'body': 'Thymio',\n",
    "    'left_motor': 'leftMotor',\n",
    "    'right_motor': 'rightMotor',\n",
    "    'sensor': 'Proximity_sensor',\n",
    "    'num_sensors': 7\n",
    "}\n",
    "\n",
    "settings = Settings(thymio)"
   ]
  },
  {
   "cell_type": "code",
   "execution_count": 13,
   "metadata": {},
   "outputs": [],
   "source": [
    "vrep.simxFinish(-1)\n",
    "clientID = vrep.simxStart(\n",
    "    '127.0.0.1',\n",
    "    19997,\n",
    "    True,\n",
    "    True,\n",
    "    5000,\n",
    "    5)\n",
    "\n",
    "if clientID == -1:\n",
    "    print('Failed connecting to remote API server')\n",
    "    print('Program ended')\n",
    "\n",
    "if (vrep.simxStartSimulation(clientID, vrep.simx_opmode_blocking) == -1):\n",
    "    print('Failed to start the simulation\\n')\n",
    "    print('Program ended\\n')\n",
    "\n",
    "\n",
    "OP_MODE = vrep.simx_opmode_oneshot_wait\n",
    "robot = EvolvedRobot('thymio-II',clientID, None, OP_MODE, None, settings.robot_type)"
   ]
  },
  {
   "cell_type": "code",
   "execution_count": 14,
   "metadata": {},
   "outputs": [
    {
     "name": "stdout",
     "output_type": "stream",
     "text": [
      "[0.59639189 0.59535204 0.        ]\n",
      "[0.48321989 0.50700029 0.        ]\n",
      "0.0\n",
      "0.0\n",
      "1.5707963267948966\n"
     ]
    }
   ],
   "source": [
    "obstacle = get_marker_object(9)\n",
    "print(obstacle.realxy())\n",
    "robot_m = get_marker_object(7)\n",
    "print(robot_m.realxy())\n",
    "print(robot_m.orientation())\n",
    "robot_current_position = robot_m.realxy()[:2]\n",
    "angle = robot_m.orientation()\n",
    "print(angle)\n",
    "if angle >= 0.0 and angle <= math.pi/2:\n",
    "    theta = (math.pi/2) - angle\n",
    "else:\n",
    "    theta = 2*np.pi - angle\n",
    "    theta += np.pi/2\n",
    "print(theta)\n",
    "# update position and orientation of the robot in vrep\n",
    "position, orientation = transform_pos_angle(\n",
    "    robot_current_position, theta)\n",
    "robot.v_set_pos_angle(position, [ 0, 0, theta ])"
   ]
  },
  {
   "cell_type": "code",
   "execution_count": null,
   "metadata": {},
   "outputs": [],
   "source": []
  }
 ],
 "metadata": {
  "kernelspec": {
   "display_name": "Python 3",
   "language": "python",
   "name": "python3"
  },
  "language_info": {
   "codemirror_mode": {
    "name": "ipython",
    "version": 3
   },
   "file_extension": ".py",
   "mimetype": "text/x-python",
   "name": "python",
   "nbconvert_exporter": "python",
   "pygments_lexer": "ipython3",
   "version": "3.7.2"
  }
 },
 "nbformat": 4,
 "nbformat_minor": 2
}
