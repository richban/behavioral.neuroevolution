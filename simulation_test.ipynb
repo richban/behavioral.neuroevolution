{
 "cells": [
  {
   "cell_type": "code",
   "execution_count": 31,
   "metadata": {},
   "outputs": [
    {
     "name": "stdout",
     "output_type": "stream",
     "text": [
      "ModuleNotFoundError: DBus works only on linux!\n"
     ]
    }
   ],
   "source": [
    "import numpy as np\n",
    "import time\n",
    "from robot.vrep_robot import VrepRobot\n",
    "try:\n",
    "    from robot.evolved_robot import EvolvedRobot\n",
    "except ImportError as error:\n",
    "    print(error.__class__.__name__ + \": \" + 'DBus works only on linux!')\n",
    "import vrep.vrep as vrep\n",
    "from settings import Settings\n",
    "from vision.tracker import Tracker, get_marker_object\n",
    "from utility.path_tracking import transform_pos_angle\n",
    "import math\n",
    "from vrep.control_env import get_object_handle, get_pose, set_pose"
   ]
  },
  {
   "cell_type": "code",
   "execution_count": null,
   "metadata": {},
   "outputs": [],
   "source": [
    "vision_thread = Tracker(mid=5,\n",
    "                        transform=None,\n",
    "                        mid_aux=0,\n",
    "                        video_source=-1,\n",
    "                        capture=False,\n",
    "                        show=True,\n",
    "                        debug=False,\n",
    "                       )"
   ]
  },
  {
   "cell_type": "code",
   "execution_count": null,
   "metadata": {
    "scrolled": true
   },
   "outputs": [],
   "source": [
    "vision_thread.start()"
   ]
  },
  {
   "cell_type": "code",
   "execution_count": null,
   "metadata": {},
   "outputs": [],
   "source": [
    "thymio = {\n",
    "    'name': 'thymio',\n",
    "    'body': 'Thymio',\n",
    "    'left_motor': 'leftMotor',\n",
    "    'right_motor': 'rightMotor',\n",
    "    'sensor': 'Proximity_sensor',\n",
    "    'num_sensors': 7\n",
    "}\n",
    "\n",
    "settings = Settings(thymio)"
   ]
  },
  {
   "cell_type": "code",
   "execution_count": null,
   "metadata": {},
   "outputs": [],
   "source": [
    "# Initialize Vrep\n",
    "vrep.simxFinish(-1)\n",
    "clientID = vrep.simxStart(\n",
    "    '127.0.0.1',\n",
    "    19997,\n",
    "    True,\n",
    "    True,\n",
    "    5000,\n",
    "    5)\n",
    "\n",
    "if clientID == -1:\n",
    "    print('Failed connecting to remote API server')\n",
    "    print('Program ended')"
   ]
  },
  {
   "cell_type": "code",
   "execution_count": null,
   "metadata": {},
   "outputs": [],
   "source": [
    "# Initialize the robot\n",
    "OP_MODE = vrep.simx_opmode_oneshot_wait\n",
    "# robot = EvolvedRobot('thymio-II',clientID, None, OP_MODE, None, settings.robot_type)\n",
    "robot = VrepRobot(clientID, None, OP_MODE, settings.robot_type)"
   ]
  },
  {
   "cell_type": "code",
   "execution_count": null,
   "metadata": {},
   "outputs": [],
   "source": [
    "# Start simulation\n",
    "if (vrep.simxStartSimulation(clientID, vrep.simx_opmode_blocking) == -1):\n",
    "    print('Failed to start the simulation\\n')\n",
    "    print('Program ended\\n')"
   ]
  },
  {
   "cell_type": "code",
   "execution_count": null,
   "metadata": {},
   "outputs": [],
   "source": [
    "# Get Robot and Set position & orientation\n",
    "obstacle = get_marker_object(9)\n",
    "print(obstacle.realxy())\n",
    "robot_m = get_marker_object(7)\n",
    "print(robot_m.realxy())\n",
    "print(robot_m.orientation())\n",
    "robot_current_position = robot_m.realxy()[:2]\n",
    "angle = robot_m.orientation()\n",
    "print(angle)\n",
    "if angle >= 0.0 and angle <= math.pi/2:\n",
    "    theta = (math.pi/2) - angle\n",
    "else:\n",
    "    theta = 2*np.pi - angle\n",
    "    theta += np.pi/2\n",
    "print(theta)\n",
    "# update position and orientation of the robot in vrep\n",
    "position, orientation = transform_pos_angle(\n",
    "    robot_current_position, theta)\n",
    "robot.v_set_pos_angle(position, [ 0, 0, theta ])"
   ]
  },
  {
   "cell_type": "code",
   "execution_count": null,
   "metadata": {},
   "outputs": [],
   "source": [
    "# Get the position of all the obstacles in reality\n",
    "obstacle = get_marker_object(9).realxy()\n",
    "obstacle_0 = get_marker_object(10).realxy()\n",
    "obstacle_1 = get_marker_object(11).realxy()\n",
    "obstacles = [obstacle, obstacle_0, obstacle_1]\n",
    "print(obstacle, '\\n', obstacle_0, '\\n', obstacle_1)"
   ]
  },
  {
   "cell_type": "code",
   "execution_count": null,
   "metadata": {},
   "outputs": [],
   "source": [
    "# Get the position of all the walls in reality\n",
    "marker_1 = get_marker_object(1).realxy()\n",
    "marker_2 = get_marker_object(2).realxy()\n",
    "marker_3 = get_marker_object(3).realxy()\n",
    "marker_4 = get_marker_object(4).realxy()\n",
    "markes = [marker_1, marker_2, marker_3, marker_4]\n",
    "print(marker_1, '\\n', marker_2, '\\n', marker_3, '\\n', marker_4)"
   ]
  },
  {
   "cell_type": "code",
   "execution_count": null,
   "metadata": {},
   "outputs": [],
   "source": [
    "# obstacles handler vrep\n",
    "obstacle_vrep = get_object_handle(clientID, 'obstacle')\n",
    "obstacle_1_vrep = get_object_handle(clientID, 'obstacle1')\n",
    "    obstacle_2_vrep = get_object_handle(clientID, 'obstacle0')\n",
    "obstacles_vrep = [obstacle_vrep, obstacle_1_vrep, obstacle_2_vrep]"
   ]
  },
  {
   "cell_type": "code",
   "execution_count": null,
   "metadata": {},
   "outputs": [],
   "source": [
    "# wall handlers vrep\n",
    "walls_vrep = [get_object_handle(clientID, wall) for wall in ('Wall', 'Wall0', 'Wall2', 'Wall3')]"
   ]
  },
  {
   "cell_type": "code",
   "execution_count": null,
   "metadata": {},
   "outputs": [],
   "source": [
    "set_pose(clientID, obstacle0_obj, [obstacle0[0], obstacle0[1], 0.099999])\n",
    "# set_pose(clientID, obstacle1_obj, [obstacle1[0], obstacle1[1], 0.0999999])"
   ]
  },
  {
   "cell_type": "code",
   "execution_count": null,
   "metadata": {},
   "outputs": [],
   "source": [
    "wall2 = get_object_handle(clientID, 'Wall2')\n",
    "get_pose(clientID, wall2)"
   ]
  },
  {
   "cell_type": "code",
   "execution_count": null,
   "metadata": {},
   "outputs": [],
   "source": [
    "for obs, handler in zip(obstacles, obstacles_vrep):\n",
    "    set_pose(clientID, handler, [obs[0], obs[1], 0.099999])"
   ]
  },
  {
   "cell_type": "code",
   "execution_count": 26,
   "metadata": {},
   "outputs": [
    {
     "data": {
      "text/plain": [
       "{'area0': {'count': 20, 'percentage': 0.0},\n",
       " 'area1': {'count': 0, 'percentage': 0.0},\n",
       " 'area2': {'count': 0, 'percentage': 0.0}}"
      ]
     },
     "execution_count": 26,
     "metadata": {},
     "output_type": "execute_result"
    }
   ],
   "source": [
    "areas_name = ('area0', 'area1', 'area2')\n",
    "\n",
    "areas_counter = dict([(area, dict(count=0, percentage=0.0))\n",
    "                      for area in areas_name])\n",
    "areas_counter.get('area0').update(count=areas_counter.get('area0')['count']+20)\n",
    "areas_counter"
   ]
  },
  {
   "cell_type": "code",
   "execution_count": 29,
   "metadata": {},
   "outputs": [
    {
     "name": "stdout",
     "output_type": "stream",
     "text": [
      "{'area0': {'count': 2990, 'percentage': 0.0, 'total': 100}, 'area1': {'count': 0, 'percentage': 0.0}, 'area2': {'count': 0, 'percentage': 0.0}, 'total': 1010}\n"
     ]
    }
   ],
   "source": [
    "areas_counter.get('area0').update(count=areas_counter.get('area0')['count']+990, total=100)\n",
    "\n",
    "print(areas_counter)"
   ]
  }
 ],
 "metadata": {
  "kernelspec": {
   "display_name": "Python 3",
   "language": "python",
   "name": "python3"
  },
  "language_info": {
   "codemirror_mode": {
    "name": "ipython",
    "version": 3
   },
   "file_extension": ".py",
   "mimetype": "text/x-python",
   "name": "python",
   "nbconvert_exporter": "python",
   "pygments_lexer": "ipython3",
   "version": "3.7.2"
  }
 },
 "nbformat": 4,
 "nbformat_minor": 2
}
