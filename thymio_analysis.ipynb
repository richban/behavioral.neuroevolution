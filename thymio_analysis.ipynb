{
 "cells": [
  {
   "cell_type": "code",
   "execution_count": null,
   "metadata": {},
   "outputs": [],
   "source": [
    "from pathlib import Path, PurePath\n",
    "import plotly.plotly as py\n",
    "import plotly.graph_objs as go\n",
    "import plotly\n",
    "import numpy as np\n",
    "import pandas as pd\n",
    "import os\n",
    "from analysis import process_data, compute_quartiles, read_restored_behaviors, restore_genomes, process_best_quartiles\n",
    "from utility.visualize import plot_runs, plot_path, plot_thymio_fitness, plot_thymio_behaviors, plot_scatter, plot_grid, plot_fitness, plot_n_fitness, plot_boxplot_sensors, plot_boxplot_wheels\n",
    "from utility.path_tracking import create_grid\n",
    "plotly.offline.init_notebook_mode()"
   ]
  },
  {
   "cell_type": "code",
   "execution_count": null,
   "metadata": {},
   "outputs": [],
   "source": [
    "fitness_file = sorted(Path('data/results/').glob('thymio_*/fitness_population'))\n",
    "population_file = sorted(Path('data/results/').glob('thymio_*/fitness_generation_*'))"
   ]
  },
  {
   "cell_type": "code",
   "execution_count": null,
   "metadata": {},
   "outputs": [],
   "source": [
    "qt = process_best_quartiles(population_file)"
   ]
  },
  {
   "cell_type": "code",
   "execution_count": null,
   "metadata": {},
   "outputs": [],
   "source": [
    "average, quartiles, generation = process_data(fitness_file, population_file)"
   ]
  },
  {
   "cell_type": "code",
   "execution_count": null,
   "metadata": {},
   "outputs": [],
   "source": [
    "plot_runs(average, 'Average fitness performance of 10 simulation run in reality')"
   ]
  },
  {
   "cell_type": "code",
   "execution_count": null,
   "metadata": {},
   "outputs": [],
   "source": [
    "# plot_fitness(quartiles)\n",
    "plot_fitness(qt, 'Fitness of populations best individuals')"
   ]
  },
  {
   "cell_type": "code",
   "execution_count": null,
   "metadata": {},
   "outputs": [],
   "source": [
    "thymio_simulation_1 = generation.loc[generation['sim'] == 'thymio_simulation_1']\n",
    "thymio_simulation_2 = generation.loc[generation['sim'] == 'thymio_simulation_2']"
   ]
  },
  {
   "cell_type": "code",
   "execution_count": null,
   "metadata": {},
   "outputs": [],
   "source": [
    "plot_scatter(thymio_simulation_1, 'thymio_simulation_1')"
   ]
  },
  {
   "cell_type": "code",
   "execution_count": null,
   "metadata": {},
   "outputs": [],
   "source": [
    "thymio_simulation_1_perc = compute_quartiles(thymio_simulation_1) \n",
    "plot_fitness(thymio_simulation_1_perc, 'Fitness of Thymio Simulation #1')"
   ]
  },
  {
   "cell_type": "code",
   "execution_count": null,
   "metadata": {},
   "outputs": [],
   "source": [
    "behaviors_file = sorted(Path('data/results/restored_genomes/')\n",
    "                        .glob('thymio_simulation_winner_*/restored_genome_fitness_*.txt'))\n",
    "behaviors = read_restored_behaviors(behaviors_file)"
   ]
  },
  {
   "cell_type": "code",
   "execution_count": null,
   "metadata": {},
   "outputs": [],
   "source": [
    "behaviors[1]"
   ]
  },
  {
   "cell_type": "code",
   "execution_count": null,
   "metadata": {},
   "outputs": [],
   "source": [
    "plot_n_fitness(behaviors, 'Behaviors')"
   ]
  },
  {
   "cell_type": "code",
   "execution_count": null,
   "metadata": {},
   "outputs": [],
   "source": [
    "plot_boxplot_sensors(behaviors[2])"
   ]
  },
  {
   "cell_type": "code",
   "execution_count": null,
   "metadata": {},
   "outputs": [],
   "source": [
    "plot_boxplot_wheels(behaviors)"
   ]
  },
  {
   "cell_type": "code",
   "execution_count": null,
   "metadata": {},
   "outputs": [],
   "source": [
    "genomes_file = sorted(Path('data/results/restored_genomes/')\n",
    "                        .glob('thymio_simulation_winner_5/*_.pkl'))\n",
    "genomes_file"
   ]
  },
  {
   "cell_type": "code",
   "execution_count": null,
   "metadata": {},
   "outputs": [],
   "source": [
    "genomes = restore_genomes(genomes_file)"
   ]
  },
  {
   "cell_type": "code",
   "execution_count": null,
   "metadata": {},
   "outputs": [],
   "source": [
    "plot_path(genomes)"
   ]
  },
  {
   "cell_type": "markdown",
   "metadata": {},
   "source": [
    "# Difference between Thymio 1  & Thymio 2 (Battery Attached)"
   ]
  },
  {
   "cell_type": "code",
   "execution_count": null,
   "metadata": {},
   "outputs": [],
   "source": [
    "thymio1 = sorted(Path('data/results/restored_genomes/')\n",
    "                 .glob('thymio_simulation_winner_2/restored_genome_fitness_*.txt'))\n",
    "thymio2 = sorted(Path('data/results/restored_genomes/')\n",
    "                 .glob('thymio_simulation_2_winner_thymioWithBattery/*.txt'))\n",
    "\n",
    "b = read_restored_behaviors(thymio1+thymio2)"
   ]
  },
  {
   "cell_type": "code",
   "execution_count": null,
   "metadata": {},
   "outputs": [],
   "source": [
    "plot_thymio_fitness(b[0], b[1], 'Fitness performance between Thymio 1 and Thymio 2 across 10 post-evaluation')"
   ]
  },
  {
   "cell_type": "code",
   "execution_count": null,
   "metadata": {},
   "outputs": [],
   "source": [
    "plot_boxplot_sensors(b[0])"
   ]
  },
  {
   "cell_type": "code",
   "execution_count": null,
   "metadata": {},
   "outputs": [],
   "source": [
    "plot_boxplot_sensors(b[1])"
   ]
  },
  {
   "cell_type": "code",
   "execution_count": null,
   "metadata": {},
   "outputs": [],
   "source": [
    "plot_thymio_behaviors(b[0].iloc[:, 2:].sum(axis=1), b[1].iloc[:, 2:].sum(axis=1))"
   ]
  },
  {
   "cell_type": "code",
   "execution_count": null,
   "metadata": {},
   "outputs": [],
   "source": [
    "genome1 = sorted(Path('data/results/restored_genomes/')\n",
    "                 .glob('thymio_simulation_winner_2/*.pkl'))\n",
    "thymio1 = restore_genomes(genome1)\n",
    "\n",
    "genome2 = sorted(Path('data/results/restored_genomes/')\n",
    "                 .glob('thymio_simulation_2_winner_thymioWithBattery/*.pkl'))\n",
    "thymio2 = restore_genomes(genome2)"
   ]
  },
  {
   "cell_type": "code",
   "execution_count": null,
   "metadata": {},
   "outputs": [],
   "source": [
    "plot_path([thymio1[0], thymio2[0]])"
   ]
  },
  {
   "cell_type": "code",
   "execution_count": null,
   "metadata": {},
   "outputs": [],
   "source": []
  }
 ],
 "metadata": {
  "kernelspec": {
   "display_name": "Python 3",
   "language": "python",
   "name": "python3"
  },
  "language_info": {
   "codemirror_mode": {
    "name": "ipython",
    "version": 3
   },
   "file_extension": ".py",
   "mimetype": "text/x-python",
   "name": "python",
   "nbconvert_exporter": "python",
   "pygments_lexer": "ipython3",
   "version": "3.7.2"
  }
 },
 "nbformat": 4,
 "nbformat_minor": 2
}
