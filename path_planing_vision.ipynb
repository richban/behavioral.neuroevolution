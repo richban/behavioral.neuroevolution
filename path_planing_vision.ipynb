{
 "cells": [
  {
   "cell_type": "code",
   "execution_count": 1,
   "metadata": {},
   "outputs": [
    {
     "data": {
      "application/javascript": [
       "IPython.notebook.set_autosave_interval(120000)"
      ]
     },
     "metadata": {},
     "output_type": "display_data"
    },
    {
     "name": "stdout",
     "output_type": "stream",
     "text": [
      "Autosaving every 120 seconds\n"
     ]
    }
   ],
   "source": [
    "import cv2\n",
    "import numpy as np\n",
    "from queue import PriorityQueue\n",
    "import matplotlib.pyplot as plt\n",
    "%matplotlib inline  \n",
    "%autosave 120\n",
    "try:\n",
    "    import robot.vrep as vrep\n",
    "except:\n",
    "    print ('--------------------------------------------------------------')\n",
    "    print ('\"vrep.py\" could not be imported. This means very probably that')\n",
    "    print ('either \"vrep.py\" or the remoteApi library could not be found.')\n",
    "    print ('Make sure both are in the same folder as this file,')\n",
    "    print ('or appropriately adjust the file \"vrep.py\"')\n",
    "    print ('--------------------------------------------------------------')\n",
    "    print ('')\n",
    "\n",
    "import time\n",
    "from IPython.display import clear_output\n",
    "from IPython.display import display\n",
    "import ctypes "
   ]
  },
  {
   "cell_type": "code",
   "execution_count": 2,
   "metadata": {},
   "outputs": [],
   "source": [
    "robot_pos = np.load('thymio_data.dat')\n",
    "grid = np.ones((880, 1190))\n",
    "robot_init_pos = (robot_pos[0]['position'] * 1000).astype(int)\n",
    "grid = np.full((880, 1190), 255)"
   ]
  },
  {
   "cell_type": "code",
   "execution_count": 3,
   "metadata": {},
   "outputs": [],
   "source": [
    "def search(grid,init,goal,cost, D = 1, fnc='Euclidean', D2 = 1):\n",
    "    \n",
    "    def Euclidean_fnc(current_indx, goal_indx,D = 1):\n",
    "        return np.sqrt( ( (current_indx[0]-goal_indx[0])**2 + (current_indx[1]-goal_indx[1])**2 ) )\n",
    "    def Manhattan_fnc(current_indx, goal_indx,D = 1):\n",
    "        dx = np.sqrt((current_indx[0]-goal_indx[0])**2)\n",
    "        dy = np.sqrt((current_indx[1]-goal_indx[1])**2)\n",
    "        return D * (dx + dy)\n",
    "    def Diagonal_fnc(current_indx, goal_indx,D = 1):\n",
    "        dx = np.sqrt((current_indx[0]-goal_indx[0])**2)\n",
    "        dy = np.sqrt((current_indx[1]-goal_indx[1])**2)\n",
    "        return D * (dx + dy) + (D2 - 2 * D) * min(dx, dy) \n",
    "    \n",
    "    if fnc=='Euclidean':\n",
    "        hueristic_fnc = Euclidean_fnc\n",
    "    elif fnc == \"Manhattan\":\n",
    "        hueristic_fnc = Manhattan_fnc\n",
    "    elif fnc == \"Diagonal\" :\n",
    "        hueristic_fnc = Diagonal_fnc\n",
    "    \n",
    "    \n",
    "    def near_obstacles(point, half_kernel = 5):\n",
    "        x_start = int(max(point[0] - half_kernel, 0))\n",
    "        x_end = int(min(point[0] + half_kernel, grid.shape[0]))\n",
    "        y_start = int(max(point[1] - half_kernel, 0))\n",
    "        y_end = int(min(point[1] + half_kernel, grid.shape[1]))\n",
    "        return np.any(grid[x_start:x_end, y_start:y_end]<128)\n",
    "    \n",
    "    def delta_gain(gain = 1):\n",
    "        delta = np.array([[-1, 0], # go up\n",
    "                          [-1,-1], # up left\n",
    "                          [ 0,-1], # go left\n",
    "                          [ 1,-1], # down left\n",
    "                          [ 1, 0], # go down\n",
    "                          [ 1, 1],  # down right\n",
    "                          [ 0, 1], # go right         \n",
    "                          [-1, 1] # up right         \n",
    "         ]) \n",
    "        return delta*gain\n",
    "    \n",
    "    delta = delta_gain(gain = 5)\n",
    "    front = PriorityQueue()\n",
    "    G = 0\n",
    "    H = hueristic_fnc(init, goal, D)\n",
    "    F = G+H\n",
    "    front.put((F, G, init))\n",
    "    discovered = []\n",
    "    discovered.append(init)\n",
    "    \n",
    "    actions = np.ones_like(grid)*-1\n",
    "    count = 0\n",
    "    path = []\n",
    "    \n",
    "    def policy_draw(indx):\n",
    "        indx_old = tuple(indx)\n",
    "        indx_new = tuple(indx)\n",
    "        path.append(tuple(goal))\n",
    "        while indx_new != init:\n",
    "            indx_new = tuple( np.array(indx_old) - delta[int(actions[indx_old])] )\n",
    "            path.append(indx_new)\n",
    "            indx_old = indx_new\n",
    "    \n",
    "        \n",
    "    while not front.empty() :\n",
    "        front_element = front.get()\n",
    "        G = front_element[1]\n",
    "        indx = front_element[2]\n",
    "        if ((indx[0] >= goal[0]-20) and (indx[0] < goal[0]+20)) and ((indx[1] >= goal[1]-20) and (indx[1] < goal[1]+20)):\n",
    "            policy_draw(indx)\n",
    "            print(\"found goal\")\n",
    "            print(count)\n",
    "            print(front_element)\n",
    "            break \n",
    "        else:\n",
    "            for y in range(len(delta)) :\n",
    "                indx_new = tuple(indx + delta[y])\n",
    "                if ((np.any(np.array(indx_new) < 0)) or (indx_new[0] > grid.shape[0]-1) or (indx_new[1] > grid.shape[1]-1)) :\n",
    "                    continue\n",
    "                if (grid[indx_new] >= 128) and (indx_new not in  discovered) :\n",
    "                    count += 1\n",
    "                    # if the obstacle is inside the robot :D, have a really high cost\n",
    "                    if near_obstacles(indx_new, half_kernel = 35):\n",
    "                        g_new = G + 1500*cost\n",
    "                    # if the obstacle is about a robot's length near it , have a high cost\n",
    "                    elif near_obstacles(indx_new, half_kernel = 70):\n",
    "                        g_new = G + 15*cost\n",
    "                    # as before\n",
    "                    elif near_obstacles(indx_new, half_kernel = 100):\n",
    "                        g_new = G + 10*cost\n",
    "                    # as before\n",
    "                    elif near_obstacles(indx_new, half_kernel = 110):\n",
    "                        g_new = G + 5*cost\n",
    "                    else:\n",
    "                        g_new = G + cost\n",
    "                    #trying to increase the cost of rapidly changing direction\n",
    "                    if y == actions[indx]:\n",
    "                        g_new = g_new \n",
    "                    elif (y-1)%len(delta) == actions[indx] or (y+1)%len(delta) == actions[indx]:\n",
    "                        g_new = g_new + 5*cost\n",
    "                    else :\n",
    "                        g_new = g_new + 10*cost\n",
    "                    h_new = hueristic_fnc(indx_new, goal, D)\n",
    "                    f_new = (g_new + h_new)-0.0001*count\n",
    "                    front.put((f_new, g_new, indx_new))\n",
    "                    discovered.append(indx_new)\n",
    "                    actions[indx_new] = y        \n",
    "    else:\n",
    "        print(count)\n",
    "        print(\"fail\")                                \n",
    "    return actions, np.array(path[::-1])"
   ]
  },
  {
   "cell_type": "code",
   "execution_count": 4,
   "metadata": {},
   "outputs": [
    {
     "data": {
      "text/plain": [
       "array([577, 324,   0])"
      ]
     },
     "execution_count": 4,
     "metadata": {},
     "output_type": "execute_result"
    }
   ],
   "source": [
    "robot_init_pos"
   ]
  },
  {
   "cell_type": "code",
   "execution_count": 5,
   "metadata": {},
   "outputs": [
    {
     "name": "stdout",
     "output_type": "stream",
     "text": [
      "found goal\n",
      "427\n",
      "(139.4574, 123, (37, 4))\n",
      "0.14912891387939453\n"
     ]
    }
   ],
   "source": [
    "tick = time.time()\n",
    "actions, path = search(grid,(577, 324),(20, 20),cost = 1, D = 0.5, fnc='Diagonal')\n",
    "tock = time.time()\n",
    "print(tock-tick)"
   ]
  },
  {
   "cell_type": "code",
   "execution_count": 6,
   "metadata": {},
   "outputs": [],
   "source": [
    "def smooth(path,grid, weight_data = 0.5, weight_smooth = 0.1, tolerance = 0.000001, number_of_iter = 1e3):\n",
    "    newpath = np.copy(path).astype('float64')\n",
    "    def get_near_obstacles(point, area = 5):\n",
    "        x_start = int(max(point[0] - area, 0))\n",
    "        x_end = int(point[0] + area)\n",
    "        y_start = int(max(point[1] - area, 0))\n",
    "        y_end = int(point[1] + area)\n",
    "        points = np.argwhere(grid[x_start:x_end, y_start:y_end]<128)\n",
    "        points [:,0] += x_start\n",
    "        points [:,1] += y_start\n",
    "        if not points.size:\n",
    "            points = point.copy()\n",
    "        return points\n",
    "    \n",
    "    def near_obstacles(point, half_kernel = 2):\n",
    "        x_start = int(max(point[0] - half_kernel, 0))\n",
    "        x_end = int(point[0] + half_kernel)\n",
    "        y_start = int(max(point[1] - half_kernel, 0))\n",
    "        y_end = int(point[1] + half_kernel)\n",
    "        return np.any(grid[x_start:x_end, y_start:y_end]<128)\n",
    "        \n",
    "    error = np.ones(path.shape[0])*tolerance+tolerance\n",
    "    num_points = path.shape[0]\n",
    "    for count in range(int(number_of_iter)):\n",
    "        for i in range(1,num_points-1):\n",
    "            old_val = np.copy(newpath[i])\n",
    "            update1 = weight_data*(path[i] - newpath[i])\n",
    "            update2 = weight_smooth*(newpath[i-1]+newpath[i+1]-2*newpath[i])\n",
    "            newpath[i]+=update1+update2 \n",
    "            if near_obstacles(newpath[i], half_kernel = 35):\n",
    "                newpath[i] = old_val\n",
    "            error[i] = np.abs(np.mean(old_val-newpath[i]))\n",
    "        if np.mean(error) < tolerance:\n",
    "            break\n",
    "    print(count)\n",
    "    return newpath "
   ]
  },
  {
   "cell_type": "code",
   "execution_count": 7,
   "metadata": {},
   "outputs": [
    {
     "name": "stdout",
     "output_type": "stream",
     "text": [
      "37\n"
     ]
    }
   ],
   "source": [
    "newpath = smooth(path,grid, weight_data = 0.1, weight_smooth = 0.6, number_of_iter = 1000)"
   ]
  },
  {
   "cell_type": "code",
   "execution_count": 8,
   "metadata": {},
   "outputs": [],
   "source": [
    "#transform from image frame to vrep frame\n",
    "def transform_points_from_image2real (points):\n",
    "    if points.ndim < 2:\n",
    "        flipped = np.flipud(points)\n",
    "    else:\n",
    "        flipped = np.fliplr(points)\n",
    "    scale = 4/1000\n",
    "    points2send = (flipped*scale) # + np.array([2.0555+0.75280899, -2.0500+4.96629213])\n",
    "    return points2send"
   ]
  },
  {
   "cell_type": "code",
   "execution_count": 9,
   "metadata": {},
   "outputs": [],
   "source": [
    "class pid():\n",
    "    def __init__(self, kp, ki, kd):\n",
    "        self.kp = kp\n",
    "        self.ki = ki\n",
    "        self.kd = kd\n",
    "        self.error = 0.0\n",
    "        self.error_old = 0.0\n",
    "        self.error_sum = 0.0\n",
    "        self.d_error = self.error - self.error_old\n",
    "    def control(self,error):\n",
    "        self.error = error\n",
    "        self.error_sum += error\n",
    "        self.d_error = self.error - self.error_old\n",
    "        P = self.kp*self.error\n",
    "        I = self.ki*self.error_sum\n",
    "        D = self.kd*self.d_error\n",
    "        self.error_old = self.error\n",
    "        return P+I+D  "
   ]
  },
  {
   "cell_type": "code",
   "execution_count": 10,
   "metadata": {},
   "outputs": [],
   "source": [
    "def send_path_4_drawing(path, sleep_time = 0.07):\n",
    "    #the bigger the sleep time the more accurate the points are placed but you have to be very patient :D\n",
    "    for i in path:\n",
    "        point2send = transform_points_from_image2real (i)\n",
    "        packedData=vrep.simxPackFloats(point2send.flatten())\n",
    "        raw_bytes = (ctypes.c_ubyte * len(packedData)).from_buffer_copy(packedData)\t\n",
    "        returnCode=vrep.simxWriteStringStream(clientID, \"path_coord\", raw_bytes, vrep.simx_opmode_oneshot)\n",
    "        time.sleep(sleep_time)"
   ]
  },
  {
   "cell_type": "code",
   "execution_count": 11,
   "metadata": {},
   "outputs": [],
   "source": [
    "d = 0.331 #wheel axis distance\n",
    "r_w = 0.09751 #wheel radius"
   ]
  },
  {
   "cell_type": "code",
   "execution_count": 12,
   "metadata": {},
   "outputs": [],
   "source": [
    "def pioneer_robot_model(v_des, omega_des):\n",
    "    v_r = (v_des+d*omega_des)\n",
    "    v_l = (v_des-d*omega_des)\n",
    "    omega_right = v_r/r_w\n",
    "    omega_left = v_l/r_w\n",
    "    return omega_right, omega_left"
   ]
  },
  {
   "cell_type": "code",
   "execution_count": 32,
   "metadata": {},
   "outputs": [
    {
     "name": "stdout",
     "output_type": "stream",
     "text": [
      "Starting Connection\n",
      "0\n",
      "Connected to remote API server\n",
      "start 0\n",
      "should be here\n",
      "found goal\n",
      "268\n",
      "(77.9735, 63, (35, 35))\n",
      "41\n",
      "planning takes :  0.31754207611083984\n",
      "GOAAAAAAALL !!\n"
     ]
    }
   ],
   "source": [
    "lad = 0.5 #look ahead distance\n",
    "print ('Starting Connection')\n",
    "vrep.simxFinish(-1) # just in case, close all opened connections\n",
    "clientID=vrep.simxStart('127.0.0.1', 19997, True, True, 5000, 5) # Connect to V-REP\n",
    "print(clientID)\n",
    "\n",
    "if clientID!=-1:\n",
    "    print ('Connected to remote API server')  \n",
    "    e = vrep.simxStartSimulation(clientID,vrep.simx_opmode_blocking)\n",
    "    print('start',e)\n",
    "    try:\n",
    "        # res,camera0_handle = vrep.simxGetObjectHandle(clientID,'top_view_camera',vrep.simx_opmode_oneshot_wait)\n",
    "        # res_l,right_motor_handle = vrep.simxGetObjectHandle(clientID,'Pioneer_p3dx_rightMotor',vrep.simx_opmode_oneshot_wait)\n",
    "        res_r,left_motor_handle = vrep.simxGetObjectHandle(clientID,'Pioneer_p3dx_leftMotor',vrep.simx_opmode_oneshot_wait)\n",
    "        res_las,look_ahead_sphere = vrep.simxGetObjectHandle(clientID,'look_ahead',vrep.simx_opmode_oneshot_wait)\n",
    "        indx = 0\n",
    "        err = 10 # to make a knida do while out of while\n",
    "        theta = 0.0\n",
    "        dt = 0.0\n",
    "        count = 0\n",
    "        om_sp = 0\n",
    "        d_controller   = pid(kp=0.5, ki=0, kd=0)\n",
    "        omega_controller = pid(0.5, 0., 0.)\n",
    "        while err != vrep.simx_return_ok:\n",
    "            tick = time.time()\n",
    "            err = vrep.simxSetJointTargetVelocity(clientID, left_motor_handle, 0, vrep.simx_opmode_oneshot)\n",
    "            # errorCode_rightM = vrep.simxSetJointTargetVelocity(clientID, right_motor_handle,0, vrep.simx_opmode_oneshot)\n",
    "            # err,resolution,image=vrep.simxGetVisionSensorImage(clientID,camera0_handle,0,vrep.simx_opmode_streaming)  \n",
    "            if err == vrep.simx_return_ok:\n",
    "                # img = np.array(image,dtype=np.uint8)\n",
    "                # img.resize([resolution[1],resolution[0],3])\n",
    "                # img_obs = obstacles_grid(img)\n",
    "                # center_robot = get_robot_position(img)\n",
    "                # img_goal, center_goal = get_goal_position(img)\n",
    "                print('should be here')\n",
    "                _ , path = search(grid, (300, 300), (20, 20), cost = 1, D = 0.5, fnc='Manhattan')\n",
    "                newpath = smooth(path,grid, weight_data = 0.1, weight_smooth = 0.6, number_of_iter = 1000)               \n",
    "                path_to_track = transform_points_from_image2real(newpath)\n",
    "                tock = time.time()                \n",
    "                dt = tock - tick\n",
    "                print(\"planning takes : \", dt)\n",
    "                send_path_4_drawing(newpath, 0.05)\n",
    "                # center_goal = transform_points_from_image2real(np.array(center_goal))\n",
    "                time.sleep(3)\n",
    "        else:\n",
    "            print(\"GOAAAAAAALL !!\")\n",
    "            # errorCode_leftM = vrep.simxSetJointTargetVelocity(clientID, left_motor_handle, 0, vrep.simx_opmode_oneshot)\n",
    "            # errorCode_rightM = vrep.simxSetJointTargetVelocity(clientID, right_motor_handle,0, vrep.simx_opmode_oneshot)\n",
    "    finally:\n",
    "        # errorCode_leftM = vrep.simxSetJointTargetVelocity(clientID, left_motor_handle, 0, vrep.simx_opmode_oneshot)\n",
    "        # errorCode_rightM = vrep.simxSetJointTargetVelocity(clientID, right_motor_handle,0, vrep.simx_opmode_oneshot)\n",
    "        time.sleep(0.1)\n",
    "        vrep.simxStopSimulation(clientID,vrep.simx_opmode_blocking)\n",
    "        vrep.simxFinish(-1)\n"
   ]
  },
  {
   "cell_type": "code",
   "execution_count": 28,
   "metadata": {},
   "outputs": [
    {
     "data": {
      "text/plain": [
       "array([0.08, 0.08])"
      ]
     },
     "execution_count": 28,
     "metadata": {},
     "output_type": "execute_result"
    }
   ],
   "source": [
    "transform_points_from_image2real(np.array([20, 20]))"
   ]
  },
  {
   "cell_type": "code",
   "execution_count": null,
   "metadata": {},
   "outputs": [],
   "source": []
  }
 ],
 "metadata": {
  "kernelspec": {
   "display_name": "Python 3",
   "language": "python",
   "name": "python3"
  },
  "language_info": {
   "codemirror_mode": {
    "name": "ipython",
    "version": 3
   },
   "file_extension": ".py",
   "mimetype": "text/x-python",
   "name": "python",
   "nbconvert_exporter": "python",
   "pygments_lexer": "ipython3",
   "version": "3.7.2"
  }
 },
 "nbformat": 4,
 "nbformat_minor": 2
}
