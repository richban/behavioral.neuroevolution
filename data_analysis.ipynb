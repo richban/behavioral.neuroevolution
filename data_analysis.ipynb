{
 "cells": [
  {
   "cell_type": "code",
   "execution_count": 11,
   "metadata": {},
   "outputs": [],
   "source": [
    "import csv, os\n",
    "import numpy as np\n",
    "import pandas as pa\n",
    "import matplotlib.pyplot as plt"
   ]
  },
  {
   "cell_type": "code",
   "execution_count": 18,
   "metadata": {},
   "outputs": [],
   "source": [
    "neat_path = './data/neat/2019-03-24/2_simulation.txt'\n",
    "neat_data = pa.read_csv(neat_path, sep=',', header=None)\n",
    "neat_data.columns = ['id', 'net_left', 'net_right',\n",
    "                     'normalized_left', 'normalized_right',\n",
    "                     'wheel_center', 'straight_movements',\n",
    "                     'obstacle_distance', 'fitness_t',\n",
    "                     't_sensors', 't_net', 't_calc', 't_sim_step']"
   ]
  },
  {
   "cell_type": "code",
   "execution_count": null,
   "metadata": {},
   "outputs": [],
   "source": []
  }
 ],
 "metadata": {
  "kernelspec": {
   "display_name": "Python 3",
   "language": "python",
   "name": "python3"
  },
  "language_info": {
   "codemirror_mode": {
    "name": "ipython",
    "version": 3
   },
   "file_extension": ".py",
   "mimetype": "text/x-python",
   "name": "python",
   "nbconvert_exporter": "python",
   "pygments_lexer": "ipython3",
   "version": "3.7.2"
  }
 },
 "nbformat": 4,
 "nbformat_minor": 2
}
