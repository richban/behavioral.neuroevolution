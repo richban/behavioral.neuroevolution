{
 "cells": [
  {
   "cell_type": "code",
   "execution_count": 10,
   "metadata": {},
   "outputs": [],
   "source": [
    "import csv, os\n",
    "import numpy as np\n",
    "import pandas as pa\n",
    "import matplotlib.pyplot as plt\n",
    "from mpl_toolkits.mplot3d import Axes3D  # noqa: F401 unused import\n",
    "from matplotlib import cm\n",
    "from matplotlib.ticker import LinearLocator, FormatStrFormatter\n",
    "import seaborn as sns\n",
    "%matplotlib inline"
   ]
  },
  {
   "cell_type": "code",
   "execution_count": 11,
   "metadata": {},
   "outputs": [],
   "source": [
    "neat_path = './data/neat/2019-03-31/2_simulation.txt'\n",
    "neat_data = pa.read_csv(neat_path, sep=',', header=None)\n",
    "neat_data.columns = ['id', 'net_left', 'net_right',\n",
    "                     'normalized_left', 'normalized_right',\n",
    "                     'sensor_activation', 'norm_sensor_activation',\n",
    "                     'wheel_center', 'straight_movements',\n",
    "                     'obstacle_distance', 's_max_activation', 'fitness_t',\n",
    "                     't_sensors', 't_net', 't_calc', 't_sim_step']"
   ]
  },
  {
   "cell_type": "code",
   "execution_count": 12,
   "metadata": {},
   "outputs": [
    {
     "data": {
      "text/plain": [
       "id                     2.000000\n",
       "net_left               0.002697\n",
       "net_right              0.004849\n",
       "normalized_left       -1.989214\n",
       "normalized_right      -1.980603\n",
       "wheel_center           0.003773\n",
       "straight_movements     0.957446\n",
       "obstacle_distance      0.660558\n",
       "s_max_activation       0.339442\n",
       "fitness_t              0.003305\n",
       "t_sensors              0.233161\n",
       "t_net                  0.035728\n",
       "t_calc                17.826321\n",
       "t_sim_step            27.610108\n",
       "dtype: float64"
      ]
     },
     "execution_count": 12,
     "metadata": {},
     "output_type": "execute_result"
    }
   ],
   "source": [
    "neat_data.mean()"
   ]
  },
  {
   "cell_type": "code",
   "execution_count": null,
   "metadata": {},
   "outputs": [],
   "source": []
  }
 ],
 "metadata": {
  "kernelspec": {
   "display_name": "Python 3",
   "language": "python",
   "name": "python3"
  },
  "language_info": {
   "codemirror_mode": {
    "name": "ipython",
    "version": 3
   },
   "file_extension": ".py",
   "mimetype": "text/x-python",
   "name": "python",
   "nbconvert_exporter": "python",
   "pygments_lexer": "ipython3",
   "version": "3.7.2"
  }
 },
 "nbformat": 4,
 "nbformat_minor": 2
}
