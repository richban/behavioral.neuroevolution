{
 "cells": [
  {
   "cell_type": "code",
   "execution_count": 13,
   "metadata": {},
   "outputs": [],
   "source": [
    "import csv, os\n",
    "import numpy as np\n",
    "import pandas as pa\n",
    "import matplotlib.pyplot as plt\n",
    "from mpl_toolkits.mplot3d import Axes3D  # noqa: F401 unused import\n",
    "from matplotlib import cm\n",
    "from matplotlib.ticker import LinearLocator, FormatStrFormatter\n",
    "import seaborn as sns\n",
    "%matplotlib inline"
   ]
  },
  {
   "cell_type": "code",
   "execution_count": 4,
   "metadata": {},
   "outputs": [],
   "source": [
    "neat_path = './data/neat/2019-03-25/2_simulation.txt'\n",
    "neat_data = pa.read_csv(neat_path, sep=',', header=None)\n",
    "neat_data.columns = ['id', 'net_left', 'net_right',\n",
    "                     'normalized_left', 'normalized_right',\n",
    "                     'wheel_center', 'straight_movements',\n",
    "                     'obstacle_distance', 'fitness_t',\n",
    "                     't_sensors', 't_net', 't_calc', 't_sim_step']"
   ]
  },
  {
   "cell_type": "code",
   "execution_count": 26,
   "metadata": {},
   "outputs": [
    {
     "data": {
      "text/plain": [
       "id                     2.000000\n",
       "net_left               0.022181\n",
       "net_right              0.058132\n",
       "normalized_left       -1.911276\n",
       "normalized_right      -1.767473\n",
       "wheel_center           0.040156\n",
       "straight_movements     0.810728\n",
       "obstacle_distance      0.561271\n",
       "fitness_t              0.016672\n",
       "t_sensors              0.237730\n",
       "t_net                  0.041165\n",
       "t_calc                16.810464\n",
       "t_sim_step            35.121604\n",
       "dtype: float64"
      ]
     },
     "execution_count": 26,
     "metadata": {},
     "output_type": "execute_result"
    }
   ],
   "source": [
    "neat_data.mean()"
   ]
  },
  {
   "cell_type": "code",
   "execution_count": null,
   "metadata": {},
   "outputs": [],
   "source": []
  }
 ],
 "metadata": {
  "kernelspec": {
   "display_name": "Python 3",
   "language": "python",
   "name": "python3"
  },
  "language_info": {
   "codemirror_mode": {
    "name": "ipython",
    "version": 3
   },
   "file_extension": ".py",
   "mimetype": "text/x-python",
   "name": "python",
   "nbconvert_exporter": "python",
   "pygments_lexer": "ipython3",
   "version": "3.7.2"
  }
 },
 "nbformat": 4,
 "nbformat_minor": 2
}
