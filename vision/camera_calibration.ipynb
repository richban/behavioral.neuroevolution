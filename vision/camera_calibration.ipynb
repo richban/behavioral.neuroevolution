{
 "cells": [
  {
   "cell_type": "code",
   "execution_count": 64,
   "metadata": {},
   "outputs": [],
   "source": [
    "import numpy as np\n",
    "import cv2\n",
    "import glob\n",
    "import os\n",
    "import yaml"
   ]
  },
  {
   "cell_type": "code",
   "execution_count": 65,
   "metadata": {},
   "outputs": [],
   "source": [
    "INPUT = 'cam_calibration.avi'\n",
    "DIR = 'corners/'"
   ]
  },
  {
   "cell_type": "code",
   "execution_count": 66,
   "metadata": {},
   "outputs": [],
   "source": [
    "# termination criteria\n",
    "criteria = (cv2.TERM_CRITERIA_EPS + cv2.TERM_CRITERIA_MAX_ITER, 30, 0.001)"
   ]
  },
  {
   "cell_type": "code",
   "execution_count": 67,
   "metadata": {},
   "outputs": [],
   "source": [
    "# prepare object points, like (0,0,0), (1,0,0), (2,0,0) ....,(6,5,0)\n",
    "pattern_size = (9, 6)\n",
    "objp = np.zeros((np.prod(pattern_size),3), np.float32)\n",
    "objp[:,:2] = np.indices(pattern_size).T.reshape(-1,2)"
   ]
  },
  {
   "cell_type": "code",
   "execution_count": 68,
   "metadata": {},
   "outputs": [],
   "source": [
    "# Arrays to store object points and image points from all the images.\n",
    "objpoints = [] # 3d point in real world space\n",
    "imgpoints = [] # 2d points in image plane."
   ]
  },
  {
   "cell_type": "code",
   "execution_count": 69,
   "metadata": {},
   "outputs": [
    {
     "data": {
      "text/plain": [
       "True"
      ]
     },
     "execution_count": 69,
     "metadata": {},
     "output_type": "execute_result"
    }
   ],
   "source": [
    "source = cv2.VideoCapture(INPUT)\n",
    "source.isOpened()"
   ]
  },
  {
   "cell_type": "code",
   "execution_count": 70,
   "metadata": {},
   "outputs": [],
   "source": [
    "f_count = 0\n",
    "f_step = 10\n",
    "\n",
    "while True:\n",
    "         \n",
    "    # Capture frame-by-frame\n",
    "    ret, frame = source.read()   \n",
    "\n",
    "    if not ret: \n",
    "        break\n",
    "        \n",
    "    # Our operations on the frame come here\n",
    "    gray = cv2.cvtColor(frame, cv2.COLOR_BGR2GRAY)\n",
    "        \n",
    "    # Find the chess board corners\n",
    "    ret, corners = cv2.findChessboardCorners(gray, pattern_size, cv2.CALIB_CB_FILTER_QUADS)\n",
    "    \n",
    "    if ret:        \n",
    "        objpoints.append(objp)\n",
    "        \n",
    "        corners2 = cv2.cornerSubPix(gray, corners, (5, 5), (-1, -1), criteria)\n",
    "        imgpoints.append(corners2)\n",
    "        \n",
    "        # Draw and display the corners\n",
    "        img = cv2.drawChessboardCorners(frame, pattern_size, corners2, ret)\n",
    "        cv2.imwrite(os.path.join(DIR, '{0}_corner.png'.format(f_count)), img)\n",
    "        \n",
    "    f_count += 1"
   ]
  },
  {
   "cell_type": "code",
   "execution_count": 71,
   "metadata": {},
   "outputs": [],
   "source": [
    "source.release()\n",
    "cv2.destroyAllWindows()\n",
    "\n",
    "ret, mtx, dist, rvecs, tvecs = cv2.calibrateCamera(objpoints, imgpoints, gray.shape[::-1], None, None)"
   ]
  },
  {
   "cell_type": "code",
   "execution_count": 72,
   "metadata": {},
   "outputs": [],
   "source": [
    "calibration = {'ret': ret, 'mtx': mtx.tolist(), 'dist': dist.tolist() }"
   ]
  },
  {
   "cell_type": "code",
   "execution_count": 73,
   "metadata": {},
   "outputs": [],
   "source": [
    "with open('calibration.yaml', 'w') as fw:\n",
    "        yaml.dump(calibration, fw)"
   ]
  },
  {
   "cell_type": "code",
   "execution_count": 74,
   "metadata": {},
   "outputs": [
    {
     "data": {
      "text/plain": [
       "array([[ 0.07303204, -0.03727862,  0.01234504, -0.01593841, -0.10353406]])"
      ]
     },
     "execution_count": 74,
     "metadata": {},
     "output_type": "execute_result"
    }
   ],
   "source": [
    "dist"
   ]
  },
  {
   "cell_type": "code",
   "execution_count": 75,
   "metadata": {},
   "outputs": [
    {
     "data": {
      "text/plain": [
       "array([[961.68712276,   0.        , 599.70208402],\n",
       "       [  0.        , 951.56728496, 385.72857157],\n",
       "       [  0.        ,   0.        ,   1.        ]])"
      ]
     },
     "execution_count": 75,
     "metadata": {},
     "output_type": "execute_result"
    }
   ],
   "source": [
    "mtx"
   ]
  },
  {
   "cell_type": "code",
   "execution_count": 78,
   "metadata": {},
   "outputs": [
    {
     "data": {
      "text/plain": [
       "[array([[ 9.32464286],\n",
       "        [ 7.94901401],\n",
       "        [25.19559217]]), array([[ 9.33335273],\n",
       "        [ 7.93067718],\n",
       "        [25.21501009]]), array([[ 9.33393669],\n",
       "        [ 7.90382371],\n",
       "        [25.23501041]]), array([[ 9.32262313],\n",
       "        [ 7.87837332],\n",
       "        [25.25032505]]), array([[ 9.30593028],\n",
       "        [ 7.86109777],\n",
       "        [25.27170731]]), array([[ 9.28196935],\n",
       "        [ 7.84786327],\n",
       "        [25.29377505]]), array([[ 9.26075264],\n",
       "        [ 7.83574634],\n",
       "        [25.32083216]]), array([[ 9.2350814 ],\n",
       "        [ 7.81998019],\n",
       "        [25.34015509]]), array([[ 9.20586212],\n",
       "        [ 7.80420877],\n",
       "        [25.39042885]]), array([[ 9.1698353 ],\n",
       "        [ 7.79775488],\n",
       "        [25.48381793]]), array([[ 9.11842302],\n",
       "        [ 7.77412661],\n",
       "        [25.65569056]]), array([[ 9.00761524],\n",
       "        [ 7.76623336],\n",
       "        [25.92212891]]), array([[ 8.85184451],\n",
       "        [ 7.73837617],\n",
       "        [26.26931124]]), array([[ 8.66708241],\n",
       "        [ 7.58057359],\n",
       "        [26.7368248 ]]), array([[ 0.11858857],\n",
       "        [-1.36224916],\n",
       "        [25.52072563]]), array([[-1.65318345],\n",
       "        [-4.67776588],\n",
       "        [15.2768009 ]]), array([[-1.59565148],\n",
       "        [-4.74282103],\n",
       "        [14.79757849]]), array([[-1.5428372 ],\n",
       "        [-4.81194647],\n",
       "        [14.42664252]]), array([[-1.49839044],\n",
       "        [-4.86652149],\n",
       "        [14.10844891]]), array([[-1.45931869],\n",
       "        [-4.91061599],\n",
       "        [13.85195646]]), array([[-1.41903675],\n",
       "        [-4.94361372],\n",
       "        [13.66583082]]), array([[-1.38472585],\n",
       "        [-4.96120308],\n",
       "        [13.54318741]]), array([[-1.34129262],\n",
       "        [-4.99176546],\n",
       "        [13.50205939]]), array([[-1.30135418],\n",
       "        [-5.01960653],\n",
       "        [13.51600858]]), array([[-1.2725483 ],\n",
       "        [-5.02181772],\n",
       "        [13.51660314]]), array([[-1.25441202],\n",
       "        [-5.02127789],\n",
       "        [13.52220167]]), array([[-1.24155042],\n",
       "        [-5.05619224],\n",
       "        [13.61078133]]), array([[-1.22372709],\n",
       "        [-5.11740755],\n",
       "        [13.74816556]]), array([[-1.1973113 ],\n",
       "        [-5.22160211],\n",
       "        [14.01630199]]), array([[-1.16106369],\n",
       "        [-5.35971118],\n",
       "        [14.44720314]]), array([[-1.10779268],\n",
       "        [-5.47506275],\n",
       "        [15.0131837 ]]), array([[-1.02331755],\n",
       "        [-5.53684976],\n",
       "        [15.73650701]]), array([[-0.92080931],\n",
       "        [-5.52752975],\n",
       "        [16.48179407]]), array([[-1.02999052],\n",
       "        [-6.47464135],\n",
       "        [18.86423433]]), array([[-0.961676  ],\n",
       "        [-6.59704895],\n",
       "        [18.88434919]]), array([[-0.91136067],\n",
       "        [-6.68961884],\n",
       "        [18.96077991]]), array([[-0.8818787 ],\n",
       "        [-6.72930906],\n",
       "        [19.02222366]]), array([[-0.87440359],\n",
       "        [-6.72649988],\n",
       "        [19.08550704]]), array([[-0.88420335],\n",
       "        [-6.68723803],\n",
       "        [19.13582794]]), array([[-0.9079502 ],\n",
       "        [-6.62372834],\n",
       "        [19.1935543 ]]), array([[-0.93669026],\n",
       "        [-6.54192806],\n",
       "        [19.29100791]]), array([[ 7.13839904],\n",
       "        [ 5.52467668],\n",
       "        [20.86099433]]), array([[ 7.19493425],\n",
       "        [ 6.03375786],\n",
       "        [20.86129716]]), array([[ 7.2491512 ],\n",
       "        [ 6.46004785],\n",
       "        [20.90915353]]), array([[ 7.27999547],\n",
       "        [ 6.80353391],\n",
       "        [20.91840871]]), array([[ 7.30398144],\n",
       "        [ 7.05115732],\n",
       "        [20.97456065]]), array([[ 6.74508087],\n",
       "        [ 5.54926025],\n",
       "        [16.43853316]]), array([[ 6.67423968],\n",
       "        [ 5.30112796],\n",
       "        [15.74693135]]), array([[ 6.59319418],\n",
       "        [ 5.06014386],\n",
       "        [15.16713643]]), array([[ 6.51464906],\n",
       "        [ 4.85806331],\n",
       "        [14.64291375]]), array([[ 6.44033187],\n",
       "        [ 4.70877775],\n",
       "        [14.27598583]]), array([[ 6.37468371],\n",
       "        [ 4.56304784],\n",
       "        [14.00430527]]), array([[ 6.33675021],\n",
       "        [ 4.43164307],\n",
       "        [13.83327759]]), array([[ 6.33199168],\n",
       "        [ 4.33371102],\n",
       "        [13.71663684]]), array([[ 6.35494465],\n",
       "        [ 4.27873985],\n",
       "        [13.65963184]]), array([[ 6.40423747],\n",
       "        [ 4.25560293],\n",
       "        [13.61513388]]), array([[ 6.4909945 ],\n",
       "        [ 4.25585019],\n",
       "        [13.54736116]]), array([[ 6.63939942],\n",
       "        [ 4.2484671 ],\n",
       "        [13.45449568]]), array([[ 6.86390455],\n",
       "        [ 4.24602938],\n",
       "        [13.44411393]]), array([[ 7.15694733],\n",
       "        [ 4.24056184],\n",
       "        [13.31200726]]), array([[ 7.52948422],\n",
       "        [ 4.23057774],\n",
       "        [13.16056291]]), array([[ 7.90540916],\n",
       "        [ 4.25078137],\n",
       "        [12.98700503]]), array([[ 8.31082503],\n",
       "        [ 4.28467941],\n",
       "        [13.0022981 ]]), array([[ 8.56602885],\n",
       "        [ 4.28791241],\n",
       "        [12.72261929]]), array([[ 3.57976276],\n",
       "        [-1.66192386],\n",
       "        [28.03961601]])]"
      ]
     },
     "execution_count": 78,
     "metadata": {},
     "output_type": "execute_result"
    }
   ],
   "source": [
    "tvecs"
   ]
  },
  {
   "cell_type": "code",
   "execution_count": null,
   "metadata": {},
   "outputs": [],
   "source": []
  }
 ],
 "metadata": {
  "kernelspec": {
   "display_name": "Python 3",
   "language": "python",
   "name": "python3"
  },
  "language_info": {
   "codemirror_mode": {
    "name": "ipython",
    "version": 3
   },
   "file_extension": ".py",
   "mimetype": "text/x-python",
   "name": "python",
   "nbconvert_exporter": "python",
   "pygments_lexer": "ipython3",
   "version": "3.7.0"
  }
 },
 "nbformat": 4,
 "nbformat_minor": 2
}
