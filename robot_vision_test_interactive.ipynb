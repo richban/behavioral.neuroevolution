{
 "cells": [
  {
   "cell_type": "code",
   "execution_count": null,
   "metadata": {},
   "outputs": [],
   "source": [
    "import numpy as np\n",
    "import time\n",
    "import ctypes\n",
    "from utility.path_tracking import search, \\\n",
    "smooth, transform_points_from_image2real, \\\n",
    "transform2robot_frame, is_near, \\\n",
    "get_distance, \\\n",
    "transform_pos_angle, pid, \\\n",
    "send_path_4_drawing, \\\n",
    "pioneer_robot_model\n",
    "from vision.tracker import Tracker, get_marker_object, get_markers, CAM_MAT, CAM_DIST\n",
    "from robot.evolved_robot import EvolvedRobot\n",
    "import vrep.vrep as vrep"
   ]
  },
  {
   "cell_type": "code",
   "execution_count": null,
   "metadata": {},
   "outputs": [],
   "source": [
    "vision_thread = Tracker(mid=5,\n",
    "                        transform=None,\n",
    "                        mid_aux=0,\n",
    "                        video_source=-1,\n",
    "                        capture=False,\n",
    "                        show=True,\n",
    "                        debug=False,\n",
    "                       )"
   ]
  },
  {
   "cell_type": "code",
   "execution_count": null,
   "metadata": {
    "scrolled": true
   },
   "outputs": [],
   "source": [
    "vision_thread.start()"
   ]
  },
  {
   "cell_type": "code",
   "execution_count": null,
   "metadata": {},
   "outputs": [],
   "source": [
    "vrep.simxFinish(-1)\n",
    "clientID = vrep.simxStart(\n",
    "    '127.0.0.1',\n",
    "    19997,\n",
    "    True,\n",
    "    True,\n",
    "    5000,\n",
    "    5)\n",
    "\n",
    "if clientID == -1:\n",
    "    print('Failed connecting to remote API server')\n",
    "    print('Program ended')\n",
    "\n",
    "if (vrep.simxStartSimulation(clientID, vrep.simx_opmode_blocking) == -1):\n",
    "    print('Failed to start the simulation\\n')\n",
    "    print('Program ended\\n')\n",
    "\n",
    "\n",
    "OP_MODE = vrep.simx_opmode_oneshot_wait\n",
    "robot = EvolvedRobot('thymio-II', clientID, None, OP_MODE, None)\n",
    "\n",
    "robot_m = get_marker_object(7)\n",
    "while robot_m.realxy() is None:\n",
    "    robot_m = get_marker_object(7)"
   ]
  },
  {
   "cell_type": "code",
   "execution_count": null,
   "metadata": {},
   "outputs": [],
   "source": [
    "if robot_m.orientation() > np.pi:\n",
    "    angle = (2*np.pi - robot_m.orientation())\n",
    "else:\n",
    "    angle = -(robot_m.orientation())"
   ]
  },
  {
   "cell_type": "code",
   "execution_count": null,
   "metadata": {},
   "outputs": [],
   "source": [
    "# set position of the robot in simulator\n",
    "position, orientation = transform_pos_angle(robot_m.realxy()[:2], angle)\n",
    "robot.v_set_pos_angle(position, orientation)"
   ]
  }
 ],
 "metadata": {
  "kernelspec": {
   "display_name": "Python 3",
   "language": "python",
   "name": "python3"
  },
  "language_info": {
   "codemirror_mode": {
    "name": "ipython",
    "version": 3
   },
   "file_extension": ".py",
   "mimetype": "text/x-python",
   "name": "python",
   "nbconvert_exporter": "python",
   "pygments_lexer": "ipython3",
   "version": "3.7.2"
  }
 },
 "nbformat": 4,
 "nbformat_minor": 2
}
