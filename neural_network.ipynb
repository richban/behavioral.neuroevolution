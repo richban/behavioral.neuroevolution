{
 "cells": [
  {
   "cell_type": "code",
   "execution_count": 76,
   "metadata": {},
   "outputs": [],
   "source": [
    "from keras.models import Sequential\n",
    "from keras.layers import Dense\n",
    "from keras.initializers import normal\n",
    "from keras.utils import plot_model\n",
    "from deap import base, creator, tools, algorithms\n",
    "import numpy as np"
   ]
  },
  {
   "cell_type": "code",
   "execution_count": 63,
   "metadata": {},
   "outputs": [],
   "source": [
    "def build_model(n_layers, input_dim, neurons, activation='sigmoid', initializer=None):\n",
    "    if isinstance(neurons, list):\n",
    "        assert len(neurons) == n_layers\n",
    "    else:\n",
    "        neurons = [neurons] * n_layers\n",
    "        \n",
    "    if initializer is None:\n",
    "        # Uses normal initializer\n",
    "        initializer = normal(mean=0, stddev=0.1, seed=13)\n",
    "        \n",
    "    model = Sequential()\n",
    "    \n",
    "    # Adds first hidden layer with input_dim parameter\n",
    "    model.add(Dense(units=neurons[0], \n",
    "                    input_shape=(input_dim,), \n",
    "                    activation=activation,\n",
    "                    kernel_initializer=initializer, \n",
    "                    name='hidden_layer'))\n",
    "    \n",
    "    \n",
    "    # Adds output layer\n",
    "    model.add(Dense(units=2, activation=activation, kernel_initializer=initializer, name='net_output'))\n",
    "    \n",
    "    # Compiles the model\n",
    "    model.compile(loss='mse', optimizer='Adam', metrics=['mse'])\n",
    "    \n",
    "    return model"
   ]
  },
  {
   "cell_type": "code",
   "execution_count": 64,
   "metadata": {},
   "outputs": [],
   "source": [
    "data_dim = 8\n",
    "timesteps = 8\n",
    "x_train = np.random.random((1000, data_dim))"
   ]
  },
  {
   "cell_type": "code",
   "execution_count": 65,
   "metadata": {},
   "outputs": [],
   "source": [
    "model = build_model(n_layers=1, input_dim=8, neurons=5)"
   ]
  },
  {
   "cell_type": "code",
   "execution_count": 66,
   "metadata": {},
   "outputs": [
    {
     "data": {
      "image/png": "[encoded data removed]",
      "text/plain": [
       "<IPython.core.display.Image object>"
      ]
     },
     "execution_count": 66,
     "metadata": {
      "image/png": {
       "height": 138,
       "width": 176
      }
     },
     "output_type": "execute_result"
    }
   ],
   "source": [
    "# Plot model graph\n",
    "plot_model(model, show_shapes=True, show_layer_names=True, to_file='model.png')\n",
    "from IPython.display import Image\n",
    "Image(retina=True, filename='model.png')"
   ]
  },
  {
   "cell_type": "code",
   "execution_count": 67,
   "metadata": {},
   "outputs": [
    {
     "data": {
      "text/plain": [
       "array([[0.5037489 , 0.4752452 ],\n",
       "       [0.50349563, 0.47320807],\n",
       "       [0.50266474, 0.47383896],\n",
       "       ...,\n",
       "       [0.50367403, 0.47519112],\n",
       "       [0.5034663 , 0.4735018 ],\n",
       "       [0.5036728 , 0.4747228 ]], dtype=float32)"
      ]
     },
     "execution_count": 67,
     "metadata": {},
     "output_type": "execute_result"
    }
   ],
   "source": [
    "model.predict(x_train)"
   ]
  },
  {
   "cell_type": "code",
   "execution_count": 68,
   "metadata": {},
   "outputs": [
    {
     "name": "stdout",
     "output_type": "stream",
     "text": [
      "_________________________________________________________________\n",
      "Layer (type)                 Output Shape              Param #   \n",
      "=================================================================\n",
      "hidden_layer (Dense)         (None, 5)                 45        \n",
      "_________________________________________________________________\n",
      "net_output (Dense)           (None, 2)                 12        \n",
      "=================================================================\n",
      "Total params: 57\n",
      "Trainable params: 57\n",
      "Non-trainable params: 0\n",
      "_________________________________________________________________\n",
      "None\n"
     ]
    }
   ],
   "source": [
    "print(model.summary())"
   ]
  },
  {
   "cell_type": "code",
   "execution_count": 77,
   "metadata": {},
   "outputs": [
    {
     "data": {
      "text/plain": [
       "[array([[ 0.01745166, -0.0225782 ,  0.01967431,  0.0387477 ,  0.0251386 ],\n",
       "        [ 0.00515667, -0.01068268, -0.12614495, -0.02336994, -0.10256433],\n",
       "        [-0.05181826, -0.03860423, -0.13391905, -0.06569492,  0.14408804],\n",
       "        [ 0.08051246,  0.07736253,  0.01508499,  0.02778573, -0.08993146],\n",
       "        [ 0.13227466,  0.0797508 ,  0.0829831 ,  0.01504011, -0.09476091],\n",
       "        [-0.07435729, -0.00698865, -0.06255804, -0.1166985 , -0.01686729],\n",
       "        [ 0.06776601, -0.03450424,  0.17205839, -0.02406461,  0.0395343 ],\n",
       "        [ 0.04086174, -0.06989031, -0.11005199,  0.00247568,  0.14773326]],\n",
       "       dtype=float32),\n",
       " array([0., 0., 0., 0., 0.], dtype=float32),\n",
       " array([[ 0.01745166, -0.0225782 ],\n",
       "        [ 0.01967431,  0.0387477 ],\n",
       "        [ 0.0251386 ,  0.00515667],\n",
       "        [-0.01068268, -0.12614495],\n",
       "        [-0.02336994, -0.10256433]], dtype=float32),\n",
       " array([0., 0.], dtype=float32)]"
      ]
     },
     "execution_count": 77,
     "metadata": {},
     "output_type": "execute_result"
    }
   ],
   "source": [
    "model.get_weights()"
   ]
  },
  {
   "cell_type": "code",
   "execution_count": 70,
   "metadata": {},
   "outputs": [
    {
     "data": {
      "text/plain": [
       "<keras.layers.core.Dense at 0x1304f5588>"
      ]
     },
     "execution_count": 70,
     "metadata": {},
     "output_type": "execute_result"
    }
   ],
   "source": [
    "model.get_layer(name='hidden_layer')"
   ]
  },
  {
   "cell_type": "code",
   "execution_count": 71,
   "metadata": {},
   "outputs": [
    {
     "name": "stdout",
     "output_type": "stream",
     "text": [
      "{'name': 'hidden_layer', 'trainable': True, 'batch_input_shape': (None, 8), 'dtype': 'float32', 'units': 5, 'activation': 'sigmoid', 'use_bias': True, 'kernel_initializer': {'class_name': 'RandomNormal', 'config': {'mean': 0, 'stddev': 0.1, 'seed': 13}}, 'bias_initializer': {'class_name': 'Zeros', 'config': {}}, 'kernel_regularizer': None, 'bias_regularizer': None, 'activity_regularizer': None, 'kernel_constraint': None, 'bias_constraint': None}\n",
      "[array([[ 0.01745166, -0.0225782 ,  0.01967431,  0.0387477 ,  0.0251386 ],\n",
      "       [ 0.00515667, -0.01068268, -0.12614495, -0.02336994, -0.10256433],\n",
      "       [-0.05181826, -0.03860423, -0.13391905, -0.06569492,  0.14408804],\n",
      "       [ 0.08051246,  0.07736253,  0.01508499,  0.02778573, -0.08993146],\n",
      "       [ 0.13227466,  0.0797508 ,  0.0829831 ,  0.01504011, -0.09476091],\n",
      "       [-0.07435729, -0.00698865, -0.06255804, -0.1166985 , -0.01686729],\n",
      "       [ 0.06776601, -0.03450424,  0.17205839, -0.02406461,  0.0395343 ],\n",
      "       [ 0.04086174, -0.06989031, -0.11005199,  0.00247568,  0.14773326]],\n",
      "      dtype=float32), array([0., 0., 0., 0., 0.], dtype=float32)]\n",
      "{'name': 'net_output', 'trainable': True, 'units': 2, 'activation': 'sigmoid', 'use_bias': True, 'kernel_initializer': {'class_name': 'RandomNormal', 'config': {'mean': 0, 'stddev': 0.1, 'seed': 13}}, 'bias_initializer': {'class_name': 'Zeros', 'config': {}}, 'kernel_regularizer': None, 'bias_regularizer': None, 'activity_regularizer': None, 'kernel_constraint': None, 'bias_constraint': None}\n",
      "[array([[ 0.01745166, -0.0225782 ],\n",
      "       [ 0.01967431,  0.0387477 ],\n",
      "       [ 0.0251386 ,  0.00515667],\n",
      "       [-0.01068268, -0.12614495],\n",
      "       [-0.02336994, -0.10256433]], dtype=float32), array([0., 0.], dtype=float32)]\n"
     ]
    }
   ],
   "source": [
    "# including the bias weights\n",
    "for l in model.layers:\n",
    "    print(l.get_config())\n",
    "    print(l.get_weights())"
   ]
  },
  {
   "cell_type": "code",
   "execution_count": 95,
   "metadata": {},
   "outputs": [
    {
     "name": "stderr",
     "output_type": "stream",
     "text": [
      "/Users/richban/.local/share/virtualenvs/behavioral.neuroevolution-ViNSkuNA/lib/python3.7/site-packages/deap/creator.py:141: RuntimeWarning: A class named 'FitnessMax' has already been created and it will be overwritten. Consider deleting previous creation of that class or rename it.\n",
      "  RuntimeWarning)\n",
      "/Users/richban/.local/share/virtualenvs/behavioral.neuroevolution-ViNSkuNA/lib/python3.7/site-packages/deap/creator.py:141: RuntimeWarning: A class named 'Individual' has already been created and it will be overwritten. Consider deleting previous creation of that class or rename it.\n",
      "  RuntimeWarning)\n"
     ]
    }
   ],
   "source": [
    "creator.create(\"FitnessMax\", base.Fitness, weights=(1.0, 1.0))\n",
    "creator.create(\"Individual\", list, fitness=creator.FitnessMax, model=None)"
   ]
  },
  {
   "cell_type": "code",
   "execution_count": 96,
   "metadata": {},
   "outputs": [],
   "source": [
    "def initIndividual(cls, model):\n",
    "    weights = [np.random.permutation(w.flat).reshape(w.shape) for w in model.get_weights()]\n",
    "    return cls(weights)"
   ]
  },
  {
   "cell_type": "code",
   "execution_count": 97,
   "metadata": {},
   "outputs": [],
   "source": [
    "toolbox = base.Toolbox()\n",
    "toolbox.register(\"individual\", initIndividual, creator.Individual, model=model)"
   ]
  },
  {
   "cell_type": "code",
   "execution_count": 98,
   "metadata": {},
   "outputs": [],
   "source": [
    "ind1 = toolbox.individual()"
   ]
  },
  {
   "cell_type": "code",
   "execution_count": 99,
   "metadata": {},
   "outputs": [
    {
     "name": "stdout",
     "output_type": "stream",
     "text": [
      "(1.0, 1.1)\n"
     ]
    }
   ],
   "source": [
    "ind1.fitness.values = (1.0, 1.1)\n",
    "print(ind1.fitness)"
   ]
  },
  {
   "cell_type": "code",
   "execution_count": 107,
   "metadata": {},
   "outputs": [],
   "source": [
    "mutant = toolbox.clone(ind1)\n",
    "ind2, = tools.mutGaussian(mutant, mu=0.0, sigma=0.2, indpb=0.2)\n",
    "del mutant.fitness.values"
   ]
  },
  {
   "cell_type": "code",
   "execution_count": 131,
   "metadata": {},
   "outputs": [],
   "source": [
    "def mutateIndividual(individual):\n",
    "    mutant = toolbox.clone(ind1)\n",
    "    mutated_ind = [tools.mutGaussian(weight, mu=0.0, sigma=0.2, indpb=0.9) for weight in mutant]\n",
    "    del mutant.fitness.values\n",
    "    return mutated_ind"
   ]
  },
  {
   "cell_type": "code",
   "execution_count": 132,
   "metadata": {},
   "outputs": [
    {
     "data": {
      "text/plain": [
       "[array([[ 0.01745166,  0.07736253,  0.0251386 ,  0.0395343 , -0.10256433],\n",
       "        [-0.09476091, -0.03860423, -0.03450424,  0.06776601,  0.13227466],\n",
       "        [-0.1166985 ,  0.0829831 , -0.06255804, -0.02336994,  0.01967431],\n",
       "        [ 0.17205839, -0.0225782 , -0.06569492, -0.13391905, -0.02406461],\n",
       "        [ 0.01504011,  0.00247568,  0.14408804, -0.07435729, -0.12614495],\n",
       "        [-0.00698865, -0.01068268,  0.00515667, -0.01686729,  0.01508499],\n",
       "        [-0.06989031,  0.14773326, -0.08993146,  0.08051246,  0.0797508 ],\n",
       "        [-0.11005199,  0.0387477 ,  0.02778573,  0.04086174, -0.05181826]],\n",
       "       dtype=float32),\n",
       " array([0., 0., 0., 0., 0.], dtype=float32),\n",
       " array([[-0.01068268,  0.01967431],\n",
       "        [ 0.0251386 , -0.10256433],\n",
       "        [-0.12614495,  0.0387477 ],\n",
       "        [-0.02336994, -0.0225782 ],\n",
       "        [ 0.01745166,  0.00515667]], dtype=float32),\n",
       " array([0., 0.], dtype=float32)]"
      ]
     },
     "execution_count": 132,
     "metadata": {},
     "output_type": "execute_result"
    }
   ],
   "source": [
    "ind1"
   ]
  },
  {
   "cell_type": "code",
   "execution_count": 133,
   "metadata": {},
   "outputs": [
    {
     "data": {
      "text/plain": [
       "[(array([[-0.01647037,  0.0434405 , -0.00878343,  0.00561227, -0.13648635],\n",
       "         [ 0.15730847,  0.21346515,  0.21756515,  0.3198354 ,  0.38434404],\n",
       "         [ 0.03207975,  0.23176134,  0.0862202 ,  0.1254083 ,  0.16845256],\n",
       "         [ 0.22841203,  0.03377543, -0.00934128, -0.07756541,  0.03228903],\n",
       "         [-0.02782307, -0.0403875 ,  0.10122487, -0.11722046, -0.16900812],\n",
       "         [ 0.01293306,  0.00923903,  0.02507838,  0.00305442,  0.03500669],\n",
       "         [-0.28636003, -0.06873646, -0.3064012 , -0.13595727, -0.13671893],\n",
       "         [-0.11005199,  0.0387477 ,  0.02778573,  0.04086174, -0.05181826]],\n",
       "        dtype=float32),),\n",
       " (array([-0.10240438, -0.24227971, -0.32765624, -0.08640973, -0.25968757],\n",
       "        dtype=float32),),\n",
       " (array([[-0.01068268,  0.01967431],\n",
       "         [ 0.14680183,  0.01909891],\n",
       "         [-0.2398702 , -0.07497756],\n",
       "         [-0.22012606, -0.21933432],\n",
       "         [ 0.21658039,  0.2042854 ]], dtype=float32),),\n",
       " (array([-0.00680333,  0.08284415], dtype=float32),)]"
      ]
     },
     "execution_count": 133,
     "metadata": {},
     "output_type": "execute_result"
    }
   ],
   "source": [
    "mutateIndividual(ind1)"
   ]
  },
  {
   "cell_type": "code",
   "execution_count": 126,
   "metadata": {},
   "outputs": [
    {
     "data": {
      "text/plain": [
       "list"
      ]
     },
     "execution_count": 126,
     "metadata": {},
     "output_type": "execute_result"
    }
   ],
   "source": [
    "type(mutated)"
   ]
  },
  {
   "cell_type": "code",
   "execution_count": 134,
   "metadata": {},
   "outputs": [],
   "source": [
    "toolbox.register(\"population\", tools.initRepeat, list, toolbox.individual)"
   ]
  },
  {
   "cell_type": "code",
   "execution_count": 135,
   "metadata": {},
   "outputs": [],
   "source": [
    "pop = toolbox.population(n=20)"
   ]
  },
  {
   "cell_type": "code",
   "execution_count": 139,
   "metadata": {},
   "outputs": [
    {
     "data": {
      "text/plain": [
       "[array([[-0.0225782 ,  0.0797508 , -0.01068268,  0.01967431,  0.0395343 ],\n",
       "        [-0.00698865, -0.02406461,  0.13227466,  0.07736253,  0.0829831 ],\n",
       "        [ 0.01745166,  0.0251386 ,  0.14408804, -0.12614495,  0.14773326],\n",
       "        [-0.13391905,  0.02778573, -0.03450424,  0.00247568,  0.0387477 ],\n",
       "        [-0.07435729, -0.01686729, -0.02336994,  0.04086174, -0.06569492],\n",
       "        [-0.08993146, -0.06255804,  0.08051246, -0.05181826,  0.17205839],\n",
       "        [-0.10256433, -0.09476091, -0.11005199, -0.1166985 , -0.03860423],\n",
       "        [ 0.01508499, -0.06989031,  0.06776601,  0.01504011,  0.00515667]],\n",
       "       dtype=float32),\n",
       " array([0., 0., 0., 0., 0.], dtype=float32),\n",
       " array([[-0.01068268,  0.0387477 ],\n",
       "        [ 0.00515667, -0.0225782 ],\n",
       "        [ 0.0251386 ,  0.01967431],\n",
       "        [ 0.01745166, -0.02336994],\n",
       "        [-0.10256433, -0.12614495]], dtype=float32),\n",
       " array([0., 0.], dtype=float32)]"
      ]
     },
     "execution_count": 139,
     "metadata": {},
     "output_type": "execute_result"
    }
   ],
   "source": [
    "pop[0]"
   ]
  },
  {
   "cell_type": "code",
   "execution_count": 140,
   "metadata": {},
   "outputs": [
    {
     "data": {
      "text/plain": [
       "[array([[ 0.0829831 ,  0.0395343 , -0.00698865, -0.06255804,  0.07736253],\n",
       "        [ 0.01745166,  0.17205839,  0.14773326, -0.10256433, -0.1166985 ],\n",
       "        [-0.07435729, -0.02406461,  0.02778573, -0.06569492, -0.13391905],\n",
       "        [ 0.01504011, -0.06989031,  0.0797508 , -0.01686729,  0.00515667],\n",
       "        [ 0.08051246, -0.0225782 , -0.09476091, -0.05181826,  0.0387477 ],\n",
       "        [ 0.14408804, -0.01068268, -0.03450424,  0.04086174,  0.01967431],\n",
       "        [ 0.0251386 ,  0.06776601,  0.00247568, -0.03860423, -0.02336994],\n",
       "        [-0.11005199,  0.01508499,  0.13227466, -0.08993146, -0.12614495]],\n",
       "       dtype=float32),\n",
       " array([0., 0., 0., 0., 0.], dtype=float32),\n",
       " array([[ 0.01745166,  0.00515667],\n",
       "        [-0.02336994, -0.10256433],\n",
       "        [-0.0225782 ,  0.0387477 ],\n",
       "        [ 0.0251386 , -0.01068268],\n",
       "        [ 0.01967431, -0.12614495]], dtype=float32),\n",
       " array([0., 0.], dtype=float32)]"
      ]
     },
     "execution_count": 140,
     "metadata": {},
     "output_type": "execute_result"
    }
   ],
   "source": [
    "pop[1]"
   ]
  },
  {
   "cell_type": "code",
   "execution_count": null,
   "metadata": {},
   "outputs": [],
   "source": []
  }
 ],
 "metadata": {
  "kernelspec": {
   "display_name": "Python 3",
   "language": "python",
   "name": "python3"
  },
  "language_info": {
   "codemirror_mode": {
    "name": "ipython",
    "version": 3
   },
   "file_extension": ".py",
   "mimetype": "text/x-python",
   "name": "python",
   "nbconvert_exporter": "python",
   "pygments_lexer": "ipython3",
   "version": "3.7.2"
  }
 },
 "nbformat": 4,
 "nbformat_minor": 2
}
