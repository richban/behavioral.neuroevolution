{
 "cells": [
  {
   "cell_type": "code",
   "execution_count": 182,
   "metadata": {},
   "outputs": [],
   "source": [
    "from pathlib import Path, PurePath\n",
    "import numpy as np\n",
    "import pandas as pd\n",
    "import os\n",
    "from analysis import read_behaviors, return_genome\n",
    "from utility.util_functions import euclidean_distance\n",
    "from deap import creator, base, tools\n",
    "import pickle"
   ]
  },
  {
   "cell_type": "code",
   "execution_count": 35,
   "metadata": {},
   "outputs": [],
   "source": [
    "behaviors_file = sorted(Path('data/results/')\n",
    "                        .glob('transferability_simulation_*/behavioral_features.dat'))\n",
    "sim_file = 'data/results/transferability_simulation_5/deap_inds/1_genome_.pkl'\n",
    "thymio_file = 'data/results/transferability_simulation_5/deap_inds/1_transformed_genome_.pkl'\n",
    "\n",
    "behaviors = read_behaviors(behaviors_file)"
   ]
  },
  {
   "cell_type": "code",
   "execution_count": 36,
   "metadata": {},
   "outputs": [],
   "source": [
    "behavior = behaviors[4]\n",
    "\n",
    "columns = [\n",
    "        'avg_left', 'avg_right',\n",
    "        's1', 's2', 's3', 's4', 's5', 's6', 's7',\n",
    "        'area0_percentage',\n",
    "        'area1_percentage',\n",
    "        'area2_percentage',\n",
    "    ]"
   ]
  },
  {
   "cell_type": "code",
   "execution_count": 37,
   "metadata": {},
   "outputs": [],
   "source": [
    "b = behavior.loc[:1, columns]"
   ]
  },
  {
   "cell_type": "code",
   "execution_count": 38,
   "metadata": {},
   "outputs": [
    {
     "data": {
      "text/plain": [
       "0.022050881668069677"
      ]
     },
     "execution_count": 38,
     "metadata": {},
     "output_type": "execute_result"
    }
   ],
   "source": [
    "euclidean_distance(b.iloc[0], b.iloc[1])"
   ]
  },
  {
   "cell_type": "code",
   "execution_count": 39,
   "metadata": {},
   "outputs": [],
   "source": [
    "creator.create(\"FitnessMax\", base.Fitness, weights=(1.0, -1.0, 1.0))\n",
    "creator.create(\"Individual\", list,\n",
    "               fitness=creator.FitnessMax, model=None)\n",
    "Individual = creator.Individual"
   ]
  },
  {
   "cell_type": "code",
   "execution_count": 40,
   "metadata": {},
   "outputs": [],
   "source": [
    "with open(sim_file, 'rb') as f:\n",
    "    sim = pickle.load(f)"
   ]
  },
  {
   "cell_type": "code",
   "execution_count": 41,
   "metadata": {},
   "outputs": [
    {
     "data": {
      "text/plain": [
       "array([[0.15927598, 0.22249341],\n",
       "       [0.13696139, 0.22522895],\n",
       "       [0.11506245, 0.22693148]])"
      ]
     },
     "execution_count": 41,
     "metadata": {},
     "output_type": "execute_result"
    }
   ],
   "source": [
    "sim.position"
   ]
  },
  {
   "cell_type": "code",
   "execution_count": 42,
   "metadata": {},
   "outputs": [],
   "source": [
    "with open(thymio_file, 'rb') as f:\n",
    "    thymio = pickle.load(f)"
   ]
  },
  {
   "cell_type": "code",
   "execution_count": 44,
   "metadata": {},
   "outputs": [
    {
     "data": {
      "text/plain": [
       "0.05196160720926865"
      ]
     },
     "execution_count": 44,
     "metadata": {},
     "output_type": "execute_result"
    }
   ],
   "source": [
    "euclidean_distance(sim.position, thymio.position)"
   ]
  },
  {
   "cell_type": "code",
   "execution_count": 45,
   "metadata": {},
   "outputs": [
    {
     "data": {
      "text/plain": [
       "0.022050887733992806"
      ]
     },
     "execution_count": 45,
     "metadata": {},
     "output_type": "execute_result"
    }
   ],
   "source": [
    "euclidean_distance(sim.features, thymio.features)"
   ]
  },
  {
   "cell_type": "code",
   "execution_count": 175,
   "metadata": {},
   "outputs": [
    {
     "data": {
      "text/plain": [
       "[-0.24978936549763286, 0.047915910077206414]"
      ]
     },
     "execution_count": 175,
     "metadata": {},
     "output_type": "execute_result"
    }
   ],
   "source": [
    "import random\n",
    "[random.uniform(-1.0, 1.0) for _ in range(2)]"
   ]
  },
  {
   "cell_type": "code",
   "execution_count": 177,
   "metadata": {},
   "outputs": [
    {
     "data": {
      "text/plain": [
       "[array([[-0.307995  ,  0.6681611 , -0.7416936 , -0.5644486 ,  0.9610636 ],\n",
       "        [ 0.74798936, -0.7110613 , -0.62795943, -0.6547123 ,  0.9362017 ],\n",
       "        [-0.5420197 ,  0.65897745,  0.3151876 ,  0.02636799, -0.95336163],\n",
       "        [ 0.94587624,  0.01883841, -0.25195858, -0.03406605, -0.36826244],\n",
       "        [-0.5187096 ,  0.32831642, -0.80290216,  0.1882105 ,  0.6742661 ],\n",
       "        [-0.92964226,  0.49430266, -0.03373729,  0.17966901, -0.05190301],\n",
       "        [-0.59988534,  0.06831679, -0.33073416,  0.13584384, -0.58154   ]],\n",
       "       dtype=float32),\n",
       " array([ 0.13479938, -0.3661307 ,  0.06657075,  0.34242183, -0.08932994],\n",
       "       dtype=float32),\n",
       " array([[-0.41458705, -0.3175319 ],\n",
       "        [ 0.40408075, -0.84704614],\n",
       "        [ 0.24251512,  0.41672325],\n",
       "        [-0.07850963,  0.18476094],\n",
       "        [-0.13206886, -0.13514468]], dtype=float32),\n",
       " array([-0.9353474, -0.8505964], dtype=float32)]"
      ]
     },
     "execution_count": 177,
     "metadata": {},
     "output_type": "execute_result"
    }
   ],
   "source": [
    "sim.weights"
   ]
  },
  {
   "cell_type": "code",
   "execution_count": 181,
   "metadata": {},
   "outputs": [
    {
     "data": {
      "text/plain": [
       "(0.2926078065907653, 0.05196160720926865, 0.022050887733992806)"
      ]
     },
     "execution_count": 181,
     "metadata": {},
     "output_type": "execute_result"
    }
   ],
   "source": [
    "sim.fitness.values"
   ]
  },
  {
   "cell_type": "code",
   "execution_count": 183,
   "metadata": {},
   "outputs": [
    {
     "data": {
      "text/plain": [
       "[-0.3079949964941153,\n",
       " 0.6681610721738844,\n",
       " -0.741693598644515,\n",
       " -0.5644486002400868,\n",
       " 0.9610636182081738,\n",
       " 0.7479893859986246,\n",
       " -0.7110613094205827,\n",
       " -0.6279594303678795,\n",
       " -0.6547122988609337,\n",
       " 0.9362016832146036]"
      ]
     },
     "execution_count": 183,
     "metadata": {},
     "output_type": "execute_result"
    }
   ],
   "source": [
    "sim[:10]"
   ]
  },
  {
   "cell_type": "code",
   "execution_count": 505,
   "metadata": {},
   "outputs": [
    {
     "data": {
      "text/plain": [
       "([-0.3079949964941153,\n",
       "  0.6681610721738844,\n",
       "  -0.741693598644515,\n",
       "  -0.5644486002400868,\n",
       "  0.6053906931950257,\n",
       "  0.7479893859986246,\n",
       "  -0.7722418566066982,\n",
       "  -0.6279594303678795,\n",
       "  -0.6547122988609337,\n",
       "  0.9362016832146036],)"
      ]
     },
     "execution_count": 505,
     "metadata": {},
     "output_type": "execute_result"
    }
   ],
   "source": [
    "tools.mutGaussian(sim[:10], 0.0, .2, 0.7)"
   ]
  }
 ],
 "metadata": {
  "kernelspec": {
   "display_name": "Python 3",
   "language": "python",
   "name": "python3"
  },
  "language_info": {
   "codemirror_mode": {
    "name": "ipython",
    "version": 3
   },
   "file_extension": ".py",
   "mimetype": "text/x-python",
   "name": "python",
   "nbconvert_exporter": "python",
   "pygments_lexer": "ipython3",
   "version": "3.7.2"
  }
 },
 "nbformat": 4,
 "nbformat_minor": 2
}
