{
 "cells": [
  {
   "cell_type": "code",
   "execution_count": 1,
   "metadata": {},
   "outputs": [],
   "source": [
    "from pathlib import Path, PurePath\n",
    "import numpy as np\n",
    "import pandas as pd\n",
    "import os\n",
    "from analysis import read_behaviors, return_genome\n",
    "from utility.util_functions import euclidean_distance\n",
    "from deap import creator, base, tools\n",
    "import pickle"
   ]
  },
  {
   "cell_type": "code",
   "execution_count": 2,
   "metadata": {},
   "outputs": [],
   "source": [
    "behaviors_file = sorted(Path('data/results/')\n",
    "                        .glob('transferability_simulation_*/behavioral_features.dat'))\n",
    "sim_file = 'data/results/transferability_simulation_13/deap_inds/200_genome.pkl'\n",
    "thymio_file = 'data/results/transferability_simulation_13/deap_inds/1_genome_.pkl'\n",
    "\n",
    "behaviors = read_behaviors(behaviors_file)"
   ]
  },
  {
   "cell_type": "code",
   "execution_count": 3,
   "metadata": {},
   "outputs": [],
   "source": [
    "behavior = behaviors[4]\n",
    "\n",
    "columns = [\n",
    "        'avg_left', 'avg_right',\n",
    "        's1', 's2', 's3', 's4', 's5', 's6', 's7',\n",
    "        'area0_percentage',\n",
    "        'area1_percentage',\n",
    "        'area2_percentage',\n",
    "    ]"
   ]
  },
  {
   "cell_type": "code",
   "execution_count": 4,
   "metadata": {},
   "outputs": [],
   "source": [
    "b = behavior.loc[:1, columns]"
   ]
  },
  {
   "cell_type": "code",
   "execution_count": 5,
   "metadata": {},
   "outputs": [
    {
     "data": {
      "text/plain": [
       "0.392718095613648"
      ]
     },
     "execution_count": 5,
     "metadata": {},
     "output_type": "execute_result"
    }
   ],
   "source": [
    "euclidean_distance(b.iloc[0], b.iloc[1])"
   ]
  },
  {
   "cell_type": "code",
   "execution_count": 6,
   "metadata": {},
   "outputs": [],
   "source": [
    "creator.create(\"FitnessMax\", base.Fitness, weights=(1.0, -1.0, 1.0))\n",
    "creator.create(\"Individual\", list,\n",
    "               fitness=creator.FitnessMax, model=None)\n",
    "Individual = creator.Individual"
   ]
  },
  {
   "cell_type": "code",
   "execution_count": 7,
   "metadata": {},
   "outputs": [],
   "source": [
    "with open(sim_file, 'rb') as f:\n",
    "    sim = pickle.load(f)"
   ]
  },
  {
   "cell_type": "code",
   "execution_count": 8,
   "metadata": {},
   "outputs": [
    {
     "data": {
      "text/plain": [
       "array([[0.20800586, 0.22291239],\n",
       "       [0.26775309, 0.22374395],\n",
       "       [0.32660776, 0.2234695 ],\n",
       "       [0.38691896, 0.22266969],\n",
       "       [0.44620156, 0.22187527],\n",
       "       [0.50643313, 0.22124937],\n",
       "       [0.56630123, 0.22037391],\n",
       "       [0.62621266, 0.21904314],\n",
       "       [0.68599969, 0.21759312],\n",
       "       [0.74563944, 0.21411757]])"
      ]
     },
     "execution_count": 8,
     "metadata": {},
     "output_type": "execute_result"
    }
   ],
   "source": [
    "sim.position"
   ]
  },
  {
   "cell_type": "code",
   "execution_count": 9,
   "metadata": {},
   "outputs": [
    {
     "data": {
      "text/plain": [
       "10"
      ]
     },
     "execution_count": 9,
     "metadata": {},
     "output_type": "execute_result"
    }
   ],
   "source": [
    "len(sim.position)"
   ]
  },
  {
   "cell_type": "code",
   "execution_count": 10,
   "metadata": {},
   "outputs": [],
   "source": [
    "with open(thymio_file, 'rb') as f:\n",
    "    thymio = pickle.load(f)"
   ]
  },
  {
   "cell_type": "code",
   "execution_count": 11,
   "metadata": {},
   "outputs": [
    {
     "data": {
      "text/plain": [
       "array([[0.20800586, 0.22291239],\n",
       "       [0.21951637, 0.22825456],\n",
       "       [0.22424963, 0.24143615]])"
      ]
     },
     "execution_count": 11,
     "metadata": {},
     "output_type": "execute_result"
    }
   ],
   "source": [
    "thymio.position"
   ]
  },
  {
   "cell_type": "code",
   "execution_count": 12,
   "metadata": {},
   "outputs": [
    {
     "data": {
      "text/plain": [
       "3"
      ]
     },
     "execution_count": 12,
     "metadata": {},
     "output_type": "execute_result"
    }
   ],
   "source": [
    "len(thymio.position)"
   ]
  },
  {
   "cell_type": "code",
   "execution_count": 13,
   "metadata": {},
   "outputs": [
    {
     "data": {
      "text/plain": [
       "0.11466087222612256"
      ]
     },
     "execution_count": 13,
     "metadata": {},
     "output_type": "execute_result"
    }
   ],
   "source": [
    "euclidean_distance(sim.position, thymio.position)"
   ]
  },
  {
   "cell_type": "code",
   "execution_count": null,
   "metadata": {},
   "outputs": [],
   "source": [
    "np.tile(thymio.position[-1], (len(sim.position)-len(thymio.position),1))"
   ]
  },
  {
   "cell_type": "code",
   "execution_count": null,
   "metadata": {},
   "outputs": [],
   "source": [
    "(len(sim.position)-len(thymio.position))*thymio.position[-1]"
   ]
  },
  {
   "cell_type": "code",
   "execution_count": null,
   "metadata": {},
   "outputs": [],
   "source": [
    "np.append(thymio.position, np.tile(thymio.position[-1], (len(sim.position)-len(thymio.position), 1)), axis=0)"
   ]
  },
  {
   "cell_type": "code",
   "execution_count": null,
   "metadata": {},
   "outputs": [],
   "source": [
    "euclidean_distance(sim.features, thymio.features)"
   ]
  },
  {
   "cell_type": "code",
   "execution_count": null,
   "metadata": {},
   "outputs": [],
   "source": [
    "thymio.position[:len(sim.position)]"
   ]
  },
  {
   "cell_type": "code",
   "execution_count": null,
   "metadata": {},
   "outputs": [],
   "source": [
    "def calc_str_disparity(transfered, simulation):\n",
    "    \n",
    "    if len(transfered) >  len(simulation):\n",
    "        diff = (len(transfered)-len(simulation))\n",
    "        t = np.array(transfered)\n",
    "        s = np.append(simulation, np.tile(simulation[-1], (diff, 1)), axis=0)\n",
    "    \n",
    "    elif len(simulation) > len(transfered):\n",
    "        diff = (len(simulation)-len(transfered))\n",
    "        t = np.append(transfered, np.tile(transfered[-1], (diff, 1)), axis=0)\n",
    "        s = np.array(simulation)\n",
    "\n",
    "    else:\n",
    "        t = np.array(transfered)\n",
    "        s = np.array(simulation)\n",
    "        \n",
    "    t_mean = np.mean(t, axis=0)\n",
    "    s_mean = np.mean(s, axis=0)\n",
    "    \n",
    "    \n",
    "    x = np.sum((np.power(s.T[0]-t.T[0], 2) / (s_mean[0]*t_mean[0])))\n",
    "    y = np.sum((np.power(s.T[1]-t.T[1], 2) / (s_mean[1]*t_mean[1])))\n",
    "    \n",
    "    return x + y"
   ]
  },
  {
   "cell_type": "code",
   "execution_count": null,
   "metadata": {},
   "outputs": [],
   "source": [
    "sim.position"
   ]
  },
  {
   "cell_type": "code",
   "execution_count": null,
   "metadata": {},
   "outputs": [],
   "source": [
    "np.reshape(sim.position, (2, len(sim.position)))"
   ]
  },
  {
   "cell_type": "code",
   "execution_count": null,
   "metadata": {},
   "outputs": [],
   "source": [
    "np.array(sim.position).T"
   ]
  },
  {
   "cell_type": "code",
   "execution_count": null,
   "metadata": {},
   "outputs": [],
   "source": [
    "np.array(sim.position).T[0]"
   ]
  },
  {
   "cell_type": "code",
   "execution_count": null,
   "metadata": {},
   "outputs": [],
   "source": [
    "np.array(thymio.position).T"
   ]
  },
  {
   "cell_type": "code",
   "execution_count": null,
   "metadata": {},
   "outputs": [],
   "source": [
    "calc_str_disparity(thymio.position, sim.position[:1])"
   ]
  },
  {
   "cell_type": "code",
   "execution_count": null,
   "metadata": {},
   "outputs": [],
   "source": []
  }
 ],
 "metadata": {
  "kernelspec": {
   "display_name": "Python 3",
   "language": "python",
   "name": "python3"
  },
  "language_info": {
   "codemirror_mode": {
    "name": "ipython",
    "version": 3
   },
   "file_extension": ".py",
   "mimetype": "text/x-python",
   "name": "python",
   "nbconvert_exporter": "python",
   "pygments_lexer": "ipython3",
   "version": "3.7.2"
  }
 },
 "nbformat": 4,
 "nbformat_minor": 2
}
