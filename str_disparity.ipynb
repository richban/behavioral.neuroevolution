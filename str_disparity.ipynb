{
 "cells": [
  {
   "cell_type": "code",
   "execution_count": 1,
   "metadata": {},
   "outputs": [],
   "source": [
    "from pathlib import Path, PurePath\n",
    "import numpy as np\n",
    "import pandas as pd\n",
    "import os\n",
    "from analysis import read_behaviors, return_genome\n",
    "from utility.util_functions import euclidean_distance\n",
    "from deap import creator, base, tools\n",
    "import pickle"
   ]
  },
  {
   "cell_type": "code",
   "execution_count": 2,
   "metadata": {},
   "outputs": [],
   "source": [
    "behaviors_file = sorted(Path('data/results/')\n",
    "                        .glob('transferability_simulation_*/behavioral_features.dat'))\n",
    "sim_file = 'data/results/transferability_simulation_5/deap_inds/1_genome_.pkl'\n",
    "thymio_file = 'data/results/transferability_simulation_5/deap_inds/1_transformed_genome_.pkl'\n",
    "\n",
    "behaviors = read_behaviors(behaviors_file)"
   ]
  },
  {
   "cell_type": "code",
   "execution_count": 3,
   "metadata": {},
   "outputs": [],
   "source": [
    "behavior = behaviors[4]\n",
    "\n",
    "columns = [\n",
    "        'avg_left', 'avg_right',\n",
    "        's1', 's2', 's3', 's4', 's5', 's6', 's7',\n",
    "        'area0_percentage',\n",
    "        'area1_percentage',\n",
    "        'area2_percentage',\n",
    "    ]"
   ]
  },
  {
   "cell_type": "code",
   "execution_count": 4,
   "metadata": {},
   "outputs": [],
   "source": [
    "b = behavior.loc[:1, columns]"
   ]
  },
  {
   "cell_type": "code",
   "execution_count": 5,
   "metadata": {},
   "outputs": [
    {
     "data": {
      "text/plain": [
       "0.022050881668069677"
      ]
     },
     "execution_count": 5,
     "metadata": {},
     "output_type": "execute_result"
    }
   ],
   "source": [
    "euclidean_distance(b.iloc[0], b.iloc[1])"
   ]
  },
  {
   "cell_type": "code",
   "execution_count": 6,
   "metadata": {},
   "outputs": [],
   "source": [
    "creator.create(\"FitnessMax\", base.Fitness, weights=(1.0, -1.0, 1.0))\n",
    "creator.create(\"Individual\", list,\n",
    "               fitness=creator.FitnessMax, model=None)\n",
    "Individual = creator.Individual"
   ]
  },
  {
   "cell_type": "code",
   "execution_count": 7,
   "metadata": {},
   "outputs": [],
   "source": [
    "with open(sim_file, 'rb') as f:\n",
    "    sim = pickle.load(f)"
   ]
  },
  {
   "cell_type": "code",
   "execution_count": 8,
   "metadata": {},
   "outputs": [
    {
     "data": {
      "text/plain": [
       "array([[0.15927598, 0.22249341],\n",
       "       [0.13696139, 0.22522895],\n",
       "       [0.11506245, 0.22693148]])"
      ]
     },
     "execution_count": 8,
     "metadata": {},
     "output_type": "execute_result"
    }
   ],
   "source": [
    "sim.position"
   ]
  },
  {
   "cell_type": "code",
   "execution_count": 9,
   "metadata": {},
   "outputs": [],
   "source": [
    "with open(thymio_file, 'rb') as f:\n",
    "    thymio = pickle.load(f)"
   ]
  },
  {
   "cell_type": "code",
   "execution_count": 10,
   "metadata": {},
   "outputs": [
    {
     "data": {
      "text/plain": [
       "0.05196160720926865"
      ]
     },
     "execution_count": 10,
     "metadata": {},
     "output_type": "execute_result"
    }
   ],
   "source": [
    "euclidean_distance(sim.position, thymio.position)"
   ]
  },
  {
   "cell_type": "code",
   "execution_count": 11,
   "metadata": {},
   "outputs": [
    {
     "data": {
      "text/plain": [
       "0.022050887733992806"
      ]
     },
     "execution_count": 11,
     "metadata": {},
     "output_type": "execute_result"
    }
   ],
   "source": [
    "euclidean_distance(sim.features, thymio.features)"
   ]
  },
  {
   "cell_type": "code",
   "execution_count": 13,
   "metadata": {},
   "outputs": [
    {
     "data": {
      "text/plain": [
       "[array([0.1498599 , 0.19914965]),\n",
       " array([0.1101361 , 0.20065616]),\n",
       " array([0.10492994, 0.20162676])]"
      ]
     },
     "execution_count": 13,
     "metadata": {},
     "output_type": "execute_result"
    }
   ],
   "source": [
    "thymio.position[:len(sim.position)]"
   ]
  },
  {
   "cell_type": "code",
   "execution_count": 52,
   "metadata": {},
   "outputs": [],
   "source": [
    "def calc_str_disparity(transfered, simulation):\n",
    "    \n",
    "    if len(transfered) >  len(simulation):\n",
    "        t = np.array(transfered[:len(simulation)])\n",
    "        s = np.array(simulation)\n",
    "    elif len(simulation) > len(transfered):\n",
    "        t = np.array(transfered)\n",
    "        s = np.array(simulation[:len(transfered)])\n",
    "    else:\n",
    "        t = np.array(transfered)\n",
    "        s = np.array(simulation)\n",
    "        \n",
    "    t_mean = np.mean(t, axis=0)\n",
    "    s_mean = np.mean(s, axis=0)\n",
    "    \n",
    "    \n",
    "    x = np.sum((np.power(s.T[0]-t.T[0], 2) / (s_mean[0]*t_mean[0])))\n",
    "    y = np.sum((np.power(s.T[1]-t.T[1], 2) / (s_mean[1]*t_mean[1])))\n",
    "    \n",
    "    return x + y"
   ]
  },
  {
   "cell_type": "code",
   "execution_count": 37,
   "metadata": {},
   "outputs": [
    {
     "data": {
      "text/plain": [
       "array([[0.15927598, 0.22249341],\n",
       "       [0.13696139, 0.22522895],\n",
       "       [0.11506245, 0.22693148]])"
      ]
     },
     "execution_count": 37,
     "metadata": {},
     "output_type": "execute_result"
    }
   ],
   "source": [
    "sim.position"
   ]
  },
  {
   "cell_type": "code",
   "execution_count": 36,
   "metadata": {},
   "outputs": [
    {
     "data": {
      "text/plain": [
       "array([[0.15927598, 0.22249341, 0.13696139],\n",
       "       [0.22522895, 0.11506245, 0.22693148]])"
      ]
     },
     "execution_count": 36,
     "metadata": {},
     "output_type": "execute_result"
    }
   ],
   "source": [
    "np.reshape(sim.position, (2, len(sim.position)))"
   ]
  },
  {
   "cell_type": "code",
   "execution_count": 38,
   "metadata": {},
   "outputs": [
    {
     "data": {
      "text/plain": [
       "array([[0.15927598, 0.13696139, 0.11506245],\n",
       "       [0.22249341, 0.22522895, 0.22693148]])"
      ]
     },
     "execution_count": 38,
     "metadata": {},
     "output_type": "execute_result"
    }
   ],
   "source": [
    "np.array(sim.position).T"
   ]
  },
  {
   "cell_type": "code",
   "execution_count": 44,
   "metadata": {},
   "outputs": [
    {
     "data": {
      "text/plain": [
       "array([0.15927598, 0.13696139, 0.11506245])"
      ]
     },
     "execution_count": 44,
     "metadata": {},
     "output_type": "execute_result"
    }
   ],
   "source": [
    "np.array(sim.position).T[0]"
   ]
  },
  {
   "cell_type": "code",
   "execution_count": 43,
   "metadata": {},
   "outputs": [
    {
     "data": {
      "text/plain": [
       "array([[0.1498599 , 0.1101361 , 0.10492994, 0.10492994, 0.10492994,\n",
       "        0.10492994, 0.10492994, 0.10492994, 0.10492994, 0.10492994,\n",
       "        0.10528109, 0.10586636, 0.10586636, 0.10586636, 0.10586636,\n",
       "        0.10586636, 0.10586636, 0.10586636, 0.10584222, 0.10586636,\n",
       "        0.10586636, 0.10586636, 0.10586636, 0.10586636, 0.10584429,\n",
       "        0.10586636, 0.10582774, 0.10586636, 0.10586636],\n",
       "       [0.19914965, 0.20065616, 0.20162676, 0.20162676, 0.20162676,\n",
       "        0.20162676, 0.20162676, 0.20162676, 0.20162676, 0.20162676,\n",
       "        0.20162132, 0.20161227, 0.20161227, 0.20161227, 0.20161227,\n",
       "        0.20161227, 0.20161227, 0.20161227, 0.20105642, 0.20161227,\n",
       "        0.20161227, 0.20161227, 0.20161227, 0.20161227, 0.20110407,\n",
       "        0.20161227, 0.2007229 , 0.20161227, 0.20161227]])"
      ]
     },
     "execution_count": 43,
     "metadata": {},
     "output_type": "execute_result"
    }
   ],
   "source": [
    "np.array(thymio.position).T"
   ]
  },
  {
   "cell_type": "code",
   "execution_count": 49,
   "metadata": {},
   "outputs": [
    {
     "data": {
      "text/plain": [
       "0.09430439663010301"
      ]
     },
     "execution_count": 49,
     "metadata": {},
     "output_type": "execute_result"
    }
   ],
   "source": [
    "str_disparity(sim.position, thymio.position)"
   ]
  },
  {
   "cell_type": "code",
   "execution_count": null,
   "metadata": {},
   "outputs": [],
   "source": []
  }
 ],
 "metadata": {
  "kernelspec": {
   "display_name": "Python 3",
   "language": "python",
   "name": "python3"
  },
  "language_info": {
   "codemirror_mode": {
    "name": "ipython",
    "version": 3
   },
   "file_extension": ".py",
   "mimetype": "text/x-python",
   "name": "python",
   "nbconvert_exporter": "python",
   "pygments_lexer": "ipython3",
   "version": "3.7.2"
  }
 },
 "nbformat": 4,
 "nbformat_minor": 2
}
