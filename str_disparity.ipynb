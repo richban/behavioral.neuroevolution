{
 "cells": [
  {
   "cell_type": "code",
   "execution_count": 182,
   "metadata": {},
   "outputs": [],
   "source": [
    "from pathlib import Path, PurePath\n",
    "import numpy as np\n",
    "import pandas as pd\n",
    "import os\n",
    "from analysis import read_behaviors, return_genome\n",
    "from utility.util_functions import euclidean_distance\n",
    "from deap import creator, base, tools\n",
    "import pickle"
   ]
  },
  {
   "cell_type": "code",
   "execution_count": 35,
   "metadata": {},
   "outputs": [],
   "source": [
    "behaviors_file = sorted(Path('data/results/')\n",
    "                        .glob('transferability_simulation_*/behavioral_features.dat'))\n",
    "sim_file = 'data/results/transferability_simulation_5/deap_inds/1_genome_.pkl'\n",
    "thymio_file = 'data/results/transferability_simulation_5/deap_inds/1_transformed_genome_.pkl'\n",
    "\n",
    "behaviors = read_behaviors(behaviors_file)"
   ]
  },
  {
   "cell_type": "code",
   "execution_count": 36,
   "metadata": {},
   "outputs": [],
   "source": [
    "behavior = behaviors[4]\n",
    "\n",
    "columns = [\n",
    "        'avg_left', 'avg_right',\n",
    "        's1', 's2', 's3', 's4', 's5', 's6', 's7',\n",
    "        'area0_percentage',\n",
    "        'area1_percentage',\n",
    "        'area2_percentage',\n",
    "    ]"
   ]
  },
  {
   "cell_type": "code",
   "execution_count": 37,
   "metadata": {},
   "outputs": [],
   "source": [
    "b = behavior.loc[:1, columns]"
   ]
  },
  {
   "cell_type": "code",
   "execution_count": 38,
   "metadata": {},
   "outputs": [
    {
     "data": {
      "text/plain": [
       "0.022050881668069677"
      ]
     },
     "execution_count": 38,
     "metadata": {},
     "output_type": "execute_result"
    }
   ],
   "source": [
    "euclidean_distance(b.iloc[0], b.iloc[1])"
   ]
  },
  {
   "cell_type": "code",
   "execution_count": 39,
   "metadata": {},
   "outputs": [],
   "source": [
    "creator.create(\"FitnessMax\", base.Fitness, weights=(1.0, -1.0, 1.0))\n",
    "creator.create(\"Individual\", list,\n",
    "               fitness=creator.FitnessMax, model=None)\n",
    "Individual = creator.Individual"
   ]
  },
  {
   "cell_type": "code",
   "execution_count": 40,
   "metadata": {},
   "outputs": [],
   "source": [
    "with open(sim_file, 'rb') as f:\n",
    "    sim = pickle.load(f)"
   ]
  },
  {
   "cell_type": "code",
   "execution_count": 41,
   "metadata": {},
   "outputs": [
    {
     "data": {
      "text/plain": [
       "array([[0.15927598, 0.22249341],\n",
       "       [0.13696139, 0.22522895],\n",
       "       [0.11506245, 0.22693148]])"
      ]
     },
     "execution_count": 41,
     "metadata": {},
     "output_type": "execute_result"
    }
   ],
   "source": [
    "sim.position"
   ]
  },
  {
   "cell_type": "code",
   "execution_count": 42,
   "metadata": {},
   "outputs": [],
   "source": [
    "with open(thymio_file, 'rb') as f:\n",
    "    thymio = pickle.load(f)"
   ]
  },
  {
   "cell_type": "code",
   "execution_count": 44,
   "metadata": {},
   "outputs": [
    {
     "data": {
      "text/plain": [
       "0.05196160720926865"
      ]
     },
     "execution_count": 44,
     "metadata": {},
     "output_type": "execute_result"
    }
   ],
   "source": [
    "euclidean_distance(sim.position, thymio.position)"
   ]
  },
  {
   "cell_type": "code",
   "execution_count": 45,
   "metadata": {},
   "outputs": [
    {
     "data": {
      "text/plain": [
       "0.022050887733992806"
      ]
     },
     "execution_count": 45,
     "metadata": {},
     "output_type": "execute_result"
    }
   ],
   "source": [
    "euclidean_distance(sim.features, thymio.features)"
   ]
  },
  {
   "cell_type": "code",
   "execution_count": 175,
   "metadata": {},
   "outputs": [
    {
     "data": {
      "text/plain": [
       "[-0.24978936549763286, 0.047915910077206414]"
      ]
     },
     "execution_count": 175,
     "metadata": {},
     "output_type": "execute_result"
    }
   ],
   "source": [
    "import random\n",
    "[random.uniform(-1.0, 1.0) for _ in range(2)]"
   ]
  }
 ],
 "metadata": {
  "kernelspec": {
   "display_name": "Python 3",
   "language": "python",
   "name": "python3"
  },
  "language_info": {
   "codemirror_mode": {
    "name": "ipython",
    "version": 3
   },
   "file_extension": ".py",
   "mimetype": "text/x-python",
   "name": "python",
   "nbconvert_exporter": "python",
   "pygments_lexer": "ipython3",
   "version": "3.7.2"
  }
 },
 "nbformat": 4,
 "nbformat_minor": 2
}
