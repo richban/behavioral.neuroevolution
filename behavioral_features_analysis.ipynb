{
 "cells": [
  {
   "cell_type": "code",
   "execution_count": null,
   "metadata": {},
   "outputs": [],
   "source": [
    "!jt -t onedor"
   ]
  },
  {
   "cell_type": "code",
   "execution_count": null,
   "metadata": {},
   "outputs": [],
   "source": [
    "from pathlib import Path, PurePath\n",
    "import plotly.plotly as py\n",
    "import plotly.graph_objs as go\n",
    "import plotly\n",
    "import numpy as np\n",
    "import pandas as pd\n",
    "import os\n",
    "from ipywebrtc import VideoStream\n",
    "plotly.tools.set_credentials_file(username=os.environ['PLOTLY_USERNAME'],                                              \n",
    "                                  api_key=os.environ['PLOTLY_API_KEY'])\n",
    "plotly.offline.init_notebook_mode()"
   ]
  },
  {
   "cell_type": "code",
   "execution_count": null,
   "metadata": {},
   "outputs": [],
   "source": [
    "# get the path for all behavioral features\n",
    "files = sorted(Path('data/results/').glob('vrep_simulation_*/behavioral_features.dat'))"
   ]
  },
  {
   "cell_type": "code",
   "execution_count": null,
   "metadata": {},
   "outputs": [],
   "source": [
    "files"
   ]
  },
  {
   "cell_type": "code",
   "execution_count": null,
   "metadata": {},
   "outputs": [],
   "source": [
    "columns = [\n",
    "           'gen',\n",
    "           'genome_id',\n",
    "           'simulation',\n",
    "           'avg_left', 'avg_right',\n",
    "           's1', 's2', 's3', 's4', 's5', 's6', 's7',\n",
    "           'area0_count', 'area0_percentage', 'area0_total',\n",
    "           'area1_count', 'area1_percentage', 'area1_total',\n",
    "           'area2_count', 'area2_percentage', \n",
    "           'total',\n",
    "          ]\n",
    "\n",
    "converters = {\n",
    "    0: lambda x: int(x),\n",
    "    1: lambda x: int(x),\n",
    "    2: lambda x: str(x),\n",
    "    3: lambda x: float(x),\n",
    "    4: lambda x: float(x),\n",
    "    5: lambda x: float(x),\n",
    "    6: lambda x: float(x),\n",
    "    7: lambda x: float(x),\n",
    "    8: lambda x: float(x),\n",
    "    9: lambda x: float(x),\n",
    "    10: lambda x: float(x),\n",
    "    11: lambda x: float(x),\n",
    "    12: lambda x: int(x),\n",
    "    13: lambda x: float(x),\n",
    "    14: lambda x: int(x),\n",
    "    15: lambda x: int(x),\n",
    "    16: lambda x: float(x),\n",
    "    17: lambda x: int(x),\n",
    "    18: lambda x: int(x),\n",
    "    19: lambda x: float(x),\n",
    "    20: lambda x: int(x),\n",
    "}"
   ]
  },
  {
   "cell_type": "code",
   "execution_count": null,
   "metadata": {},
   "outputs": [],
   "source": [
    "# list of behavioral features run\n",
    "features = [pd.read_csv(f, names=columns, converters=converters,usecols=[0, 1, 2, 3, 4, 5, 6, 7, 8, 9, 10, 11, 13, 16, 19]) for f in files]"
   ]
  },
  {
   "cell_type": "code",
   "execution_count": null,
   "metadata": {},
   "outputs": [],
   "source": [
    "features[0].head()"
   ]
  },
  {
   "cell_type": "code",
   "execution_count": null,
   "metadata": {},
   "outputs": [],
   "source": [
    "best_1 = features[0].set_index('genome_id').loc[features[0].index == 376]\n",
    "best_2 = features[1].set_index('genome_id').loc[features[0].genome_id == 373]\n",
    "\n",
    "best_1"
   ]
  },
  {
   "cell_type": "code",
   "execution_count": null,
   "metadata": {},
   "outputs": [],
   "source": [
    "trace0 = go.Box(\n",
    "    y=best_1[['s1', 's3', 's3', 's4', 's5', 's6', 's7']],\n",
    "    name='Best 1',\n",
    "    marker=dict(\n",
    "        color='#3D9970'\n",
    "    )\n",
    ")\n",
    "trace1 = go.Box(\n",
    "    y=best_2[['s1', 's3', 's3', 's4', 's5', 's6', 's7']],\n",
    "    name='Best 2',\n",
    "    marker=dict(\n",
    "        color='#FF4136'\n",
    "    )\n",
    ")\n",
    "\n",
    "data = [trace0, trace1]\n",
    "layout = go.Layout(\n",
    "    yaxis=dict(\n",
    "        title='Sensors Activations',\n",
    "        zeroline=False\n",
    "    ),\n",
    "    boxmode='group'\n",
    ")\n",
    "fig = go.Figure(data=data, layout=layout)\n",
    "py.iplot(fig)"
   ]
  },
  {
   "cell_type": "code",
   "execution_count": null,
   "metadata": {},
   "outputs": [],
   "source": []
  }
 ],
 "metadata": {
  "kernelspec": {
   "display_name": "Python 3",
   "language": "python",
   "name": "python3"
  },
  "language_info": {
   "codemirror_mode": {
    "name": "ipython",
    "version": 3
   },
   "file_extension": ".py",
   "mimetype": "text/x-python",
   "name": "python",
   "nbconvert_exporter": "python",
   "pygments_lexer": "ipython3",
   "version": "3.7.2"
  }
 },
 "nbformat": 4,
 "nbformat_minor": 2
}
