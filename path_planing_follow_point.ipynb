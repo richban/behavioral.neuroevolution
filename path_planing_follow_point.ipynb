{
 "cells": [
  {
   "cell_type": "code",
   "execution_count": 1,
   "metadata": {},
   "outputs": [],
   "source": [
    "import numpy as np\n",
    "import time\n",
    "import ctypes\n",
    "from utility.path_tracking import search, \\\n",
    "smooth, transform_points_from_image2real, \\\n",
    "transform2robot_frame, is_near, \\\n",
    "get_distance, \\\n",
    "transform_pos_angle, pid, \\\n",
    "send_path_4_drawing, \\\n",
    "pioneer_robot_model\n",
    "from vision.tracker import Tracker, get_marker_object, get_markers, CAM_MAT, CAM_DIST\n",
    "from robot.evolved_robot import EvolvedRobot\n",
    "import vrep.vrep as vrep"
   ]
  },
  {
   "cell_type": "code",
   "execution_count": 2,
   "metadata": {},
   "outputs": [
    {
     "name": "stdout",
     "output_type": "stream",
     "text": [
      "starting Tracker, video source:  -1\n",
      "Last markers len: 8\n",
      "4444444444444445Restore Calibration\n"
     ]
    }
   ],
   "source": [
    "vision_thread = Tracker(mid=5,\n",
    "                    transform=None,\n",
    "                    mid_aux=0,\n",
    "                    video_source=-1,\n",
    "                    capture=False,\n",
    "                    show=True,\n",
    "                    debug=False,\n",
    "                   )\n",
    "vision_thread.start()"
   ]
  },
  {
   "cell_type": "code",
   "execution_count": null,
   "metadata": {},
   "outputs": [],
   "source": [
    "def follow_point():\n",
    "    try:\n",
    "        grid = np.full((880, 1190), 255)\n",
    "        lad = 0.05 # look ahead distance in meters (m)\n",
    "        wheel_axis = 0.11 # wheel axis distance in meters (m)\n",
    "        wheel_radius = 0.02 # wheel radius in meters (m)\n",
    "        indx = 0\n",
    "        theta = 0.0\n",
    "        count = 0\n",
    "        om_sp = 0\n",
    "\n",
    "        d_controller   = pid(kp=0.5, ki=0, kd=0)\n",
    "        omega_controller = pid(kp=0.5, ki=0, kd=0)\n",
    "\n",
    "        robot = EvolvedRobot('thymio-II', -1, None, 1, None)\n",
    "\n",
    "        robot_m = get_marker_object(7)\n",
    "        while robot_m.realxy() is None:\n",
    "            # obtain current position of the robot\n",
    "            robot_m = get_marker_object(7)\n",
    "\n",
    "        goal_m = get_marker_object(8)\n",
    "        while goal_m.realxy() is None:\n",
    "            # obtain goal marker position\n",
    "            goal_m = get_marker_object(8)\n",
    "        \n",
    "        # import pdb; pdb.set_trace();\n",
    "\n",
    "        # transform robot position to grid system\n",
    "        robot_current_position = robot_m.realxy()[:2]\n",
    "\n",
    "        # transform goal position to grid system\n",
    "        goal_position = goal_m.realxy()[:2]\n",
    "\n",
    "        # point to track\n",
    "        path_to_track = np.array([goal_position])\n",
    "\n",
    "        while not is_near(robot_current_position, goal_position, dist_thresh = 0.05):\n",
    "            # get robot marker\n",
    "            robot_m = get_marker_object(7)\n",
    "            if robot_m.realxy() is not None:\n",
    "                # update current position of the robot\n",
    "                robot_current_position = robot_m.realxy()[:2]\n",
    "\n",
    "            # calculate robot orientation\n",
    "            theta = 2*np.pi - robot_m.orientation()\n",
    "            theta = np.arctan2(np.sin(theta), np.cos(theta))\n",
    "            \n",
    "            print('r_t: ', theta)\n",
    "            # path transformation to vehicle coordinates; relative to the robot\n",
    "            path_transformed = transform2robot_frame(robot_current_position, path_to_track, theta)\n",
    "            print('p_t', path_transformed)\n",
    "            # get distance of each carrot point; relative to the robots\n",
    "            dist = get_distance(path_transformed, np.array([0,0]))           \n",
    "\n",
    "            # loop to determine which point will be the carrot/goal point\n",
    "            for i in range(dist.argmin(), dist.shape[0]):\n",
    "                if dist[i] < lad and indx <= i:\n",
    "                    indx = i\n",
    "\n",
    "            # orientation error relative to the robot\n",
    "            orient_error = np.arctan2(path_transformed[indx,1], path_transformed[indx,0])\n",
    "            print('e_t: ', orient_error, '\\n')\n",
    "            # PID controller; desired velocity and rotation\n",
    "            v_sp = d_controller.control(dist[indx])                     \n",
    "            om_sp = omega_controller.control(orient_error)\n",
    "            vr, vl = pioneer_robot_model(v_sp, om_sp, wheel_axis, wheel_radius)\n",
    "            robot.t_set_motors(vl*20, vr*20)\n",
    "            count += 1\n",
    "        else:\n",
    "            print('GOAAAAAAALL !!')\n",
    "            print('robot_position: ', robot_current_position)\n",
    "            print('robot_goal: ', goal_position)\n",
    "            robot.t_stop()   \n",
    "    finally:\n",
    "        time.sleep(0.1)"
   ]
  }
 ],
 "metadata": {
  "kernelspec": {
   "display_name": "Python 3",
   "language": "python",
   "name": "python3"
  },
  "language_info": {
   "codemirror_mode": {
    "name": "ipython",
    "version": 3
   },
   "file_extension": ".py",
   "mimetype": "text/x-python",
   "name": "python",
   "nbconvert_exporter": "python",
   "pygments_lexer": "ipython3",
   "version": "3.7.2"
  }
 },
 "nbformat": 4,
 "nbformat_minor": 2
}
