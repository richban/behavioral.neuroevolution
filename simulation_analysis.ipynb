{
 "cells": [
  {
   "cell_type": "code",
   "execution_count": null,
   "metadata": {},
   "outputs": [],
   "source": [
    "from pathlib import Path, PurePath\n",
    "import plotly.plotly as py\n",
    "import plotly.graph_objs as go\n",
    "import plotly\n",
    "import numpy as np\n",
    "import pandas as pd\n",
    "import os\n",
    "from ipywebrtc import VideoStream\n",
    "plotly.tools.set_credentials_file(username=os.environ['PLOTLY_USERNAME'],                                              \n",
    "                                  api_key=os.environ['PLOTLY_API_KEY'])\n",
    "plotly.offline.init_notebook_mode()\n",
    "\n"
   ]
  },
  {
   "cell_type": "code",
   "execution_count": null,
   "metadata": {},
   "outputs": [],
   "source": [
    "# get the path for all fitness_generation and fitness_population\n",
    "files_vrep = sorted(Path('data/results/').glob('vrep_*/fitness_population'))\n",
    "files_thymio = sorted(Path('data/results/').glob('thymio_*/fitness_population'))\n",
    "f_gen = sorted(Path('data/results/').glob('*/fitness_generation_*'))"
   ]
  },
  {
   "cell_type": "code",
   "execution_count": null,
   "metadata": {},
   "outputs": [],
   "source": [
    "files_vrep"
   ]
  },
  {
   "cell_type": "code",
   "execution_count": null,
   "metadata": {},
   "outputs": [],
   "source": [
    "# list of dataframes of each simulation run\n",
    "f_dt_list_vrep = [pd.read_csv(f, names=['gen','avg','std','max','median']) for f in files_vrep]\n",
    "f_dt_list_thymio = [pd.read_csv(f, names=['gen','avg','std','max','median']) for f in files_thymio]"
   ]
  },
  {
   "cell_type": "code",
   "execution_count": null,
   "metadata": {},
   "outputs": [],
   "source": [
    "f_dt_list_thymio"
   ]
  },
  {
   "cell_type": "code",
   "execution_count": null,
   "metadata": {},
   "outputs": [],
   "source": [
    "# concat all the dataframes into one dataframe\n",
    "f_dt_vrep = pd.concat(tuple(d for d in f_dt_list_vrep))\n",
    "f_dt_thymio = pd.concat(tuple(d for d in f_dt_list_thymio))"
   ]
  },
  {
   "cell_type": "code",
   "execution_count": null,
   "metadata": {},
   "outputs": [],
   "source": [
    "f_dt_thymio.head()"
   ]
  },
  {
   "cell_type": "code",
   "execution_count": null,
   "metadata": {},
   "outputs": [],
   "source": [
    "# average dataframe of simulation runs\n",
    "f_dt_vrep_avg = f_dt_vrep.groupby(f_dt_vrep.gen).mean()\n",
    "f_dt_thymio_avg = f_dt_thymio.groupby(f_dt_thymio.gen).mean()"
   ]
  },
  {
   "cell_type": "code",
   "execution_count": null,
   "metadata": {},
   "outputs": [],
   "source": [
    "f_dt_thymio_avg.head()"
   ]
  },
  {
   "cell_type": "code",
   "execution_count": null,
   "metadata": {},
   "outputs": [],
   "source": [
    "q_dt_vrep = (f_dt_vrep[['max']].groupby(f_dt_vrep.gen)\n",
    "                .quantile([.25, .5, .75])\n",
    "                .rename(index=str, columns={'max': 'fitness'})\n",
    "                .unstack(level=-2)\n",
    "                .T\n",
    "                .reset_index()\n",
    "                .set_index('gen')\n",
    "                .drop(columns='level_0')\n",
    "                .rename(index=str, columns={'0.25': 'q1', '0.5': 'q2', '0.75': 'q3'})\n",
    "             )\n",
    "q_dt_vrep.index = q_dt_vrep.index.astype(int)\n",
    "\n",
    "q_dt_thymio = (f_dt_thymio[['max']].groupby(f_dt_thymio.gen)\n",
    "                    .quantile([.25, .5, .75])\n",
    "                    .rename(index=str, columns={'max': 'fitness'})\n",
    "                    .unstack(level=-2)\n",
    "                    .T\n",
    "                    .reset_index()\n",
    "                    .set_index('gen')\n",
    "                    .drop(columns='level_0')\n",
    "                    .rename(index=str, columns={'0.25': 'q1', '0.5': 'q2', '0.75': 'q3'})\n",
    "              )\n",
    "q_dt_thymio.index = q_dt_thymio.index.astype(int)"
   ]
  },
  {
   "cell_type": "code",
   "execution_count": null,
   "metadata": {},
   "outputs": [],
   "source": [
    "q_dt_vrep.index"
   ]
  },
  {
   "cell_type": "code",
   "execution_count": null,
   "metadata": {},
   "outputs": [],
   "source": [
    "q_vrep = q_dt_vrep.join(f_dt_vrep_avg).sort_values(by='gen')"
   ]
  },
  {
   "cell_type": "code",
   "execution_count": null,
   "metadata": {},
   "outputs": [],
   "source": [
    "q_vrep.head()"
   ]
  },
  {
   "cell_type": "raw",
   "metadata": {},
   "source": [
    "# append all dataframes and add column descriptor given by simulation type and number\n",
    "gen_data = []\n",
    "\n",
    "for f in f_gen:\n",
    "    (_, _, sim, _) = f.parts\n",
    "    df = pd.read_csv(f, names=['gen','genome','fitness'])\n",
    "    df['sim'] = sim\n",
    "    gen_data.append(df)\n",
    "\n",
    "# concat all data into one dataframe\n",
    "gen_data = pd.concat(tuple(d for d in gen_data)).sort_values(by=['gen'])"
   ]
  },
  {
   "cell_type": "code",
   "execution_count": null,
   "metadata": {},
   "outputs": [],
   "source": [
    "fitness_thymio_runs.head()"
   ]
  },
  {
   "cell_type": "code",
   "execution_count": null,
   "metadata": {},
   "outputs": [],
   "source": [
    "gen_data.head()"
   ]
  },
  {
   "cell_type": "code",
   "execution_count": null,
   "metadata": {},
   "outputs": [],
   "source": [
    "plot_runs(f_dt_thymio_avg, 'AVG Fitness of 2 Thymio Simulation Runs')"
   ]
  },
  {
   "cell_type": "code",
   "execution_count": null,
   "metadata": {},
   "outputs": [],
   "source": [
    "plot_runs(f_dt_vrep_avg, 'AVG Fitness of 4 Vrep Simulation Runs')"
   ]
  },
  {
   "cell_type": "code",
   "execution_count": null,
   "metadata": {},
   "outputs": [],
   "source": [
    "# slicing the data frame\n",
    "thymio_0_df = gen_data.loc[gen_data['sim'] == 'thymio_0']\n",
    "vrep_0_df = gen_data.loc[gen_data['sim'] == 'vrep_0']"
   ]
  },
  {
   "cell_type": "code",
   "execution_count": null,
   "metadata": {},
   "outputs": [],
   "source": [
    "sample = thymio_0_df.loc[thymio_0_df['gen'] == 0]"
   ]
  },
  {
   "cell_type": "code",
   "execution_count": null,
   "metadata": {},
   "outputs": [],
   "source": [
    "sample.sort_values(by=['fitness']).head()"
   ]
  },
  {
   "cell_type": "code",
   "execution_count": null,
   "metadata": {},
   "outputs": [],
   "source": [
    "plot_stats(thymio_0_df, 'thymio_0')"
   ]
  },
  {
   "cell_type": "code",
   "execution_count": null,
   "metadata": {},
   "outputs": [],
   "source": [
    "plot_single_run_scatter(thymio_0_df, fitness_thymio[0], 'thymio_0')"
   ]
  },
  {
   "cell_type": "code",
   "execution_count": null,
   "metadata": {},
   "outputs": [],
   "source": [
    "plot_single_run_scatter(vrep_0_df, fitness_vrep[0], 'vrep_0')"
   ]
  },
  {
   "cell_type": "code",
   "execution_count": null,
   "metadata": {},
   "outputs": [],
   "source": [
    "def plot_single_run_scatter(scatter, dt, title):\n",
    "\n",
    "    l = []\n",
    "    y = []\n",
    "\n",
    "    N = len(scatter.gen.unique())\n",
    "\n",
    "    c = ['hsl('+str(h)+',50%'+',50%)' for h in np.linspace(0, 360, N)]\n",
    "\n",
    "    for i in range(int(N)):\n",
    "        subset = scatter.loc[scatter['gen'] == i]\n",
    "\n",
    "        trace0= go.Scatter(\n",
    "            x= subset.loc[:, 'gen'],\n",
    "            y= subset.loc[:, 'fitness'],\n",
    "            mode= 'markers',\n",
    "            marker= dict(size= 7,\n",
    "                        line= dict(width=1),\n",
    "                        color= c[i],\n",
    "                        opacity= 0.5\n",
    "                       ),\n",
    "            name = 'gen {}'.format(i),\n",
    "            text = subset.loc[:, 'genome']\n",
    "        )\n",
    "        l.append(trace0);\n",
    "\n",
    "    trace0 = go.Scatter(\n",
    "        x = dt.loc[:, 'gen'],\n",
    "        y = dt.loc[:, 'max'],\n",
    "        mode = 'lines',\n",
    "        name = 'Max',\n",
    "        line = dict(\n",
    "            color = \"rgb(204, 51, 51)\", \n",
    "            dash = \"solid\", \n",
    "            shape = \"spline\", \n",
    "            smoothing = 0.0, \n",
    "            width= 2\n",
    "        ),\n",
    "    )\n",
    "\n",
    "    trace1 = go.Scatter(\n",
    "        x = dt.loc[:, 'gen'],\n",
    "        y = dt.loc[:, 'median'],\n",
    "        mode = 'lines',\n",
    "        name = 'Median',\n",
    "        line = dict(\n",
    "            color = \"rgb(173, 181, 97)\",\n",
    "            shape = \"spline\",\n",
    "            dash = \"solid\",\n",
    "            smoothing = 0.0, \n",
    "            width= 2\n",
    "        )\n",
    "    )\n",
    "\n",
    "    trace2 = go.Scatter(\n",
    "        x = dt.loc[:, 'gen'],\n",
    "        y = dt.loc[:, 'avg'],\n",
    "        mode = 'lines',\n",
    "        name = 'Average',\n",
    "        line = dict(\n",
    "            color = \"rgb(62, 173, 212)\",\n",
    "            shape = \"spline\",\n",
    "            dash = \"solid\",\n",
    "            smoothing = 0.0, \n",
    "            width= 2\n",
    "        )\n",
    "    )\n",
    "\n",
    "    data = [trace0, trace1, trace2]\n",
    "\n",
    "    layout= go.Layout(\n",
    "        title= 'Fitness of Population Individuals - {}'.format(title),\n",
    "        hovermode= 'closest',\n",
    "        xaxis= dict(\n",
    "            title= 'Generations',\n",
    "            ticklen= 5,\n",
    "            zeroline= False,\n",
    "            gridwidth= 2,\n",
    "        ),\n",
    "        yaxis=dict(\n",
    "            title= 'Fitness',\n",
    "            ticklen= 5,\n",
    "            gridwidth= 1,\n",
    "        ),\n",
    "        showlegend= False\n",
    "    )\n",
    "\n",
    "    fig = go.Figure(data=data+l, layout=layout)\n",
    "    \n",
    "    return py.iplot(fig, filename='single-run-scater-line-plot', layout=layout)"
   ]
  },
  {
   "cell_type": "code",
   "execution_count": null,
   "metadata": {},
   "outputs": [],
   "source": [
    "def plot_runs(dt, title, offline=True):\n",
    "    \"\"\"Plots the Max/Average/Median\"\"\"\n",
    "    trace0 = go.Scatter(\n",
    "        x = dt.loc[:, 'gen'],\n",
    "        y = dt.loc[:, 'max'],\n",
    "        mode = 'lines',\n",
    "        name = 'Max',\n",
    "        line = dict(\n",
    "            color = \"rgb(204, 51, 51)\", \n",
    "            dash = \"solid\", \n",
    "            shape = \"spline\", \n",
    "            smoothing = 0.0, \n",
    "            width= 2\n",
    "        ),\n",
    "    )\n",
    "\n",
    "    trace1 = go.Scatter(\n",
    "        x = dt.loc[:, 'gen'],\n",
    "        y = dt.loc[:, 'median'],\n",
    "        mode = 'lines',\n",
    "        name = 'Median',\n",
    "        line = dict(\n",
    "            color = \"rgb(173, 181, 97)\",\n",
    "            shape = \"spline\",\n",
    "            dash = \"solid\",\n",
    "            smoothing = 0.0, \n",
    "            width= 2\n",
    "        )\n",
    "    )\n",
    "\n",
    "    trace2 = go.Scatter(\n",
    "        x = dt.loc[:, 'gen'],\n",
    "        y = dt.loc[:, 'avg'],\n",
    "        mode = 'lines',\n",
    "        name = 'Average',\n",
    "        line = dict(\n",
    "            color = \"rgb(62, 173, 212)\",\n",
    "            shape = \"spline\",\n",
    "            dash = \"solid\",\n",
    "            smoothing = 0.0, \n",
    "            width= 2\n",
    "        )\n",
    "    )\n",
    "\n",
    "    layout = go.Layout(\n",
    "      showlegend = True,\n",
    "      hovermode= 'closest',\n",
    "      title = title,\n",
    "      xaxis =  dict(\n",
    "        autorange = False,\n",
    "        range = [0, 20],\n",
    "        showspikes = False,\n",
    "        title = \"Generations\",\n",
    "        ticklen= 5,\n",
    "        gridwidth= 1,\n",
    "      ),\n",
    "      yaxis = dict(\n",
    "        autorange = True,\n",
    "        title = \"Fitness\",\n",
    "        ticklen= 5,\n",
    "        gridwidth= 1,\n",
    "      ),\n",
    "    )\n",
    "\n",
    "    data = [trace0, trace1, trace2]\n",
    "    fig = go.Figure(data, layout=layout)\n",
    "    \n",
    "    return py.iplot(fig, filename=title)"
   ]
  },
  {
   "cell_type": "code",
   "execution_count": null,
   "metadata": {},
   "outputs": [],
   "source": [
    "def plot_stats(dt, title):\n",
    "    \"\"\"Plots a Scatter plot of each individual in the population\"\"\"\n",
    "    l = []\n",
    "    y = []\n",
    "\n",
    "    N = len(dt.gen.unique())\n",
    "\n",
    "    c = ['hsl('+str(h)+',50%'+',50%)' for h in np.linspace(0, 360, N)]\n",
    "    for i in range(int(N)):\n",
    "        subset = dt.loc[dt['gen'] == i]\n",
    "\n",
    "        trace0= go.Scatter(\n",
    "            x= subset.loc[:, 'gen'],\n",
    "            y= subset.loc[:, 'fitness'],\n",
    "            mode= 'markers',\n",
    "            marker= dict(size= 14,\n",
    "                        line= dict(width=1),\n",
    "                        color= c[i],\n",
    "                        opacity= 0.3\n",
    "                       ),\n",
    "            name = 'gen {}'.format(i),\n",
    "            text = subset.loc[:, 'genome'],\n",
    "        )\n",
    "        l.append(trace0);\n",
    "\n",
    "    layout= go.Layout(\n",
    "        title= 'Fitness of Population Individuals - {}'.format(title),\n",
    "        hovermode= 'closest',\n",
    "        xaxis= dict(\n",
    "            title= 'Generations',\n",
    "            ticklen= 5,\n",
    "            zeroline= False,\n",
    "            gridwidth= 2,\n",
    "        ),\n",
    "        yaxis=dict(\n",
    "            title= 'Fitness',\n",
    "            ticklen= 5,\n",
    "            gridwidth= 1,\n",
    "        ),\n",
    "        showlegend= False\n",
    "    )\n",
    "    \n",
    "    fig = go.Figure(data=l, layout=layout)\n",
    "    \n",
    "    return py.iplot(fig)"
   ]
  },
  {
   "cell_type": "code",
   "execution_count": null,
   "metadata": {},
   "outputs": [],
   "source": [
    "video2 = VideoStream.from_url('data/results/thymio_to_vrep/thymio_1_best_1.mp4')\n",
    "video2"
   ]
  },
  {
   "cell_type": "code",
   "execution_count": null,
   "metadata": {},
   "outputs": [],
   "source": [
    "video2 = VideoStream.from_url('data/results/thymio_to_vrep/thymio_1_to_vrep_best_1.mp4')\n",
    "video2"
   ]
  },
  {
   "cell_type": "code",
   "execution_count": null,
   "metadata": {},
   "outputs": [],
   "source": [
    "video2 = VideoStream.from_url('data/results/thymio_to_vrep/thymio_1_best_genome_1.mp4')\n",
    "video2"
   ]
  },
  {
   "cell_type": "code",
   "execution_count": null,
   "metadata": {},
   "outputs": [],
   "source": [
    "t_best = './data/results/thymio_to_vrep/thymio_1_best_1_270_hw_simulation.txt'\n",
    "t_v_best = './data/results/thymio_to_vrep/thymio_1_best_1ToVrep_270_simulation.txt'\n",
    "\n",
    "names = ['id', 'net_left', 'net_right',\n",
    "         'normalized_left', 'normalized_right',\n",
    "         'sensor_activation', 'norm_sensor_activation',\n",
    "         'wheel_center', 'straight_movements',\n",
    "         'obstacle_distance', 's_max_activation', 'fitness_t', 'robot_position']\n",
    "\n",
    "converters = {\n",
    "    0: lambda x: int(x),\n",
    "    1: lambda x: float(x),\n",
    "    2: lambda x: float(x),\n",
    "    3: lambda x: float(x),\n",
    "    4: lambda x: float(x),\n",
    "    5: lambda x: np.array(list(map(float, x.replace('[', '').replace(']', '').split())), dtype=float),\n",
    "    6: lambda x: np.array(list(map(float, x.replace('[', '').replace(']', '').split())), dtype=float),\n",
    "    7: lambda x: float(x),\n",
    "    8: lambda x: float(x),\n",
    "    9: lambda x: float(x),\n",
    "    10: lambda x: float(x),\n",
    "    11: lambda x: float(x),\n",
    "    12: lambda x: np.array(list(map(float, x.replace('[', '').replace(']', '').split())), dtype=float),\n",
    "    \n",
    "}\n",
    "\n",
    "t_dt = pd.read_csv(t_best, sep=',', names=names, converters=converters, header=None)\n",
    "v_dt = pd.read_csv(t_v_best, sep=',', names=names, converters=converters, header=None)"
   ]
  },
  {
   "cell_type": "code",
   "execution_count": null,
   "metadata": {},
   "outputs": [],
   "source": [
    "video2 = VideoStream.from_url('data/results/vrep_to_thymio/vrep_0_to_thymio_best_0.mp4')\n",
    "video2"
   ]
  },
  {
   "cell_type": "code",
   "execution_count": null,
   "metadata": {},
   "outputs": [],
   "source": [
    "video2 = VideoStream.from_url('data/results/vrep_to_thymio/vrep_0_to_thymio_best_0_transfered.mp4')\n",
    "video2"
   ]
  },
  {
   "cell_type": "code",
   "execution_count": null,
   "metadata": {},
   "outputs": [],
   "source": [
    "q_dt_vrep.index.values"
   ]
  },
  {
   "cell_type": "code",
   "execution_count": null,
   "metadata": {},
   "outputs": [],
   "source": [
    "upper_bound = go.Scatter(\n",
    "    name='75%',\n",
    "    x=q_vrep.index.values,\n",
    "    y=q_vrep.loc[:, 'q3'],\n",
    "    mode='lines',\n",
    "    marker=dict(color=\"#444\"),\n",
    "    line=dict(width=0),\n",
    "    fillcolor='rgba(68, 68, 68, 0.3)',\n",
    "    fill='tonexty')\n",
    "\n",
    "trace = go.Scatter(\n",
    "    name='Median',\n",
    "    x=q_vrep.index.values,\n",
    "    y=q_vrep.loc[:, 'q2'],\n",
    "    mode='lines',\n",
    "    line=dict(color='rgb(31, 119, 180)'),\n",
    "    fillcolor='rgba(68, 68, 68, 0.3)',\n",
    "    fill='tonexty')\n",
    "\n",
    "lower_bound = go.Scatter(\n",
    "    name='25%',\n",
    "    x=q_vrep.index.values,\n",
    "    y=q_vrep.loc[:, 'q1'],\n",
    "    marker=dict(color=\"#444\"),\n",
    "    line=dict(width=0),\n",
    "    mode='lines')\n",
    "\n",
    "trace_max = go.Scatter(\n",
    "    x = q_vrep.index.values,\n",
    "    y = q_vrep.loc[:, 'max'],\n",
    "    mode = 'lines',\n",
    "    name = 'Max',\n",
    "    line = dict(\n",
    "        color = \"rgb(204, 51, 51)\", \n",
    "        dash = \"solid\", \n",
    "        shape = \"spline\", \n",
    "        smoothing = 0.0, \n",
    "        width= 2\n",
    "    ),\n",
    ")\n",
    "\n",
    "data = [lower_bound, trace, upper_bound, trace_max]\n",
    "\n",
    "layout= go.Layout(\n",
    "    title= 'Fitness of Population Individuals',\n",
    "    hovermode= 'closest',\n",
    "    xaxis= dict(\n",
    "        title= 'Generations',\n",
    "        ticklen= 5,\n",
    "        zeroline= False,\n",
    "        gridwidth= 1,\n",
    "    ),\n",
    "    yaxis=dict(\n",
    "        title= 'Fitness',\n",
    "        ticklen= 5,\n",
    "        gridwidth= 1,\n",
    "    ),\n",
    "    showlegend= True\n",
    ")\n",
    "\n",
    "\n",
    "fig = go.Figure(data=data, layout=layout)\n",
    "py.iplot(fig, filename='pandas-continuous-error-bars')"
   ]
  },
  {
   "cell_type": "code",
   "execution_count": 2,
   "metadata": {},
   "outputs": [],
   "source": [
    "def plot_grid(grid):\n",
    "\n",
    "    trace = go.Heatmap(z=grid, colorscale = 'Viridis')\n",
    "    data=[trace]\n",
    "\n",
    "    layout= go.Layout(\n",
    "        title= 'Environment and obstacles',\n",
    "        showlegend= False\n",
    "    )\n",
    "\n",
    "    return py.iplot(data, filename='grid-heatmap', layout=layout)"
   ]
  },
  {
   "cell_type": "code",
   "execution_count": null,
   "metadata": {},
   "outputs": [],
   "source": []
  }
 ],
 "metadata": {
  "kernelspec": {
   "display_name": "Python 3",
   "language": "python",
   "name": "python3"
  },
  "language_info": {
   "codemirror_mode": {
    "name": "ipython",
    "version": 3
   },
   "file_extension": ".py",
   "mimetype": "text/x-python",
   "name": "python",
   "nbconvert_exporter": "python",
   "pygments_lexer": "ipython3",
   "version": "3.7.2"
  }
 },
 "nbformat": 4,
 "nbformat_minor": 2
}
