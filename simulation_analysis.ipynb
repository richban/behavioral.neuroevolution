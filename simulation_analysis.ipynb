{
 "cells": [
  {
   "cell_type": "code",
   "execution_count": 68,
   "metadata": {},
   "outputs": [],
   "source": [
    "from utility.visualize import plot_fitness_over_gen\n",
    "from pathlib import Path, PurePath\n",
    "import plotly.plotly as py\n",
    "import plotly.graph_objs as go\n",
    "import plotly\n",
    "import pandas as pd"
   ]
  },
  {
   "cell_type": "code",
   "execution_count": 36,
   "metadata": {},
   "outputs": [],
   "source": [
    "files_vrep = sorted(Path('data/results/').glob('vrep_*/fitness_population'))\n",
    "files_thymio = sorted(Path('data/results/').glob('thymio_*/fitness_population'))"
   ]
  },
  {
   "cell_type": "code",
   "execution_count": 37,
   "metadata": {},
   "outputs": [
    {
     "data": {
      "text/plain": [
       "[PosixPath('data/results/vrep_0/fitness_population'),\n",
       " PosixPath('data/results/vrep_1/fitness_population'),\n",
       " PosixPath('data/results/vrep_2/fitness_population'),\n",
       " PosixPath('data/results/vrep_3/fitness_population')]"
      ]
     },
     "execution_count": 37,
     "metadata": {},
     "output_type": "execute_result"
    }
   ],
   "source": [
    "files"
   ]
  },
  {
   "cell_type": "code",
   "execution_count": 45,
   "metadata": {},
   "outputs": [],
   "source": [
    "# list of dataframes of each simulation run\n",
    "fitness_vrep = [pd.read_csv(f, names=['gen','avg','std','max','median']) for f in files_vrep]\n",
    "fitness_thymio = [pd.read_csv(f, names=['gen','avg','std','max','median']) for f in files_thymio]"
   ]
  },
  {
   "cell_type": "code",
   "execution_count": 62,
   "metadata": {},
   "outputs": [],
   "source": [
    "# concat all the dataframes into one dataframe\n",
    "fitness_vrep_runs = pd.concat(tuple(d for d in fitness_vrep))\n",
    "fitness_thymio_runs = pd.concat(tuple(d for d in fitness_thymio))"
   ]
  },
  {
   "cell_type": "code",
   "execution_count": 64,
   "metadata": {},
   "outputs": [],
   "source": [
    "# average dataframe of simulation runs\n",
    "fitness_vrep_runs = fitness_vrep_runs.groupby(fitness_vrep_runs.index).mean()\n",
    "fitness_thymio_runs = fitness_thymio_runs.groupby(fitness_thymio_runs.index).mean()"
   ]
  },
  {
   "cell_type": "code",
   "execution_count": 67,
   "metadata": {},
   "outputs": [
    {
     "data": {
      "text/html": [
       "<div>\n",
       "<style scoped>\n",
       "    .dataframe tbody tr th:only-of-type {\n",
       "        vertical-align: middle;\n",
       "    }\n",
       "\n",
       "    .dataframe tbody tr th {\n",
       "        vertical-align: top;\n",
       "    }\n",
       "\n",
       "    .dataframe thead th {\n",
       "        text-align: right;\n",
       "    }\n",
       "</style>\n",
       "<table border=\"1\" class=\"dataframe\">\n",
       "  <thead>\n",
       "    <tr style=\"text-align: right;\">\n",
       "      <th></th>\n",
       "      <th>gen</th>\n",
       "      <th>avg</th>\n",
       "      <th>std</th>\n",
       "      <th>max</th>\n",
       "      <th>median</th>\n",
       "    </tr>\n",
       "  </thead>\n",
       "  <tbody>\n",
       "    <tr>\n",
       "      <th>0</th>\n",
       "      <td>0</td>\n",
       "      <td>0.349471</td>\n",
       "      <td>0.580646</td>\n",
       "      <td>2.197105</td>\n",
       "      <td>0.069959</td>\n",
       "    </tr>\n",
       "    <tr>\n",
       "      <th>1</th>\n",
       "      <td>1</td>\n",
       "      <td>0.849877</td>\n",
       "      <td>1.182172</td>\n",
       "      <td>3.994666</td>\n",
       "      <td>0.275631</td>\n",
       "    </tr>\n",
       "    <tr>\n",
       "      <th>2</th>\n",
       "      <td>2</td>\n",
       "      <td>0.876803</td>\n",
       "      <td>1.288138</td>\n",
       "      <td>4.214854</td>\n",
       "      <td>0.290703</td>\n",
       "    </tr>\n",
       "    <tr>\n",
       "      <th>3</th>\n",
       "      <td>3</td>\n",
       "      <td>1.309489</td>\n",
       "      <td>1.574527</td>\n",
       "      <td>4.688608</td>\n",
       "      <td>0.367326</td>\n",
       "    </tr>\n",
       "    <tr>\n",
       "      <th>4</th>\n",
       "      <td>4</td>\n",
       "      <td>1.817445</td>\n",
       "      <td>1.889934</td>\n",
       "      <td>5.682438</td>\n",
       "      <td>0.973023</td>\n",
       "    </tr>\n",
       "  </tbody>\n",
       "</table>\n",
       "</div>"
      ],
      "text/plain": [
       "   gen       avg       std       max    median\n",
       "0    0  0.349471  0.580646  2.197105  0.069959\n",
       "1    1  0.849877  1.182172  3.994666  0.275631\n",
       "2    2  0.876803  1.288138  4.214854  0.290703\n",
       "3    3  1.309489  1.574527  4.688608  0.367326\n",
       "4    4  1.817445  1.889934  5.682438  0.973023"
      ]
     },
     "execution_count": 67,
     "metadata": {},
     "output_type": "execute_result"
    }
   ],
   "source": [
    "fitness_thymio_runs.head()"
   ]
  },
  {
   "cell_type": "code",
   "execution_count": 79,
   "metadata": {},
   "outputs": [
    {
     "name": "stdout",
     "output_type": "stream",
     "text": [
      "High five! You successfully sent some data to your account on plotly. View your plot in your browser at https://plot.ly/~richban_/0 or inside your plot.ly account where it is named 'line-mode'\n"
     ]
    },
    {
     "name": "stderr",
     "output_type": "stream",
     "text": [
      "/Users/richban/.local/share/virtualenvs/behavioral.neuroevolution-ViNSkuNA/lib/python3.7/site-packages/IPython/core/display.py:689: UserWarning:\n",
      "\n",
      "Consider using IPython.display.IFrame instead\n",
      "\n"
     ]
    },
    {
     "data": {
      "text/html": [
       "<iframe id=\"igraph\" scrolling=\"no\" style=\"border:none;\" seamless=\"seamless\" src=\"https://plot.ly/~richban_/0.embed\" height=\"525px\" width=\"100%\"></iframe>"
      ],
      "text/plain": [
       "<chart_studio.tools.PlotlyDisplay object>"
      ]
     },
     "execution_count": 79,
     "metadata": {},
     "output_type": "execute_result"
    }
   ],
   "source": [
    "# Authenticate with your account\n",
    "plotly.tools.set_credentials_file(username='richban_',                                              \n",
    "                                  api_key='dq5n0fWfHEaaPGXoJ5td')\n",
    "# Create random data with numpy\n",
    "import numpy as np\n",
    "\n",
    "# Create traces\n",
    "trace0 = go.Scatter(\n",
    "    x = fitness_thymio_runs.loc[:, 'gen'],\n",
    "    y = fitness_thymio_runs.loc[:, 'max'],\n",
    "    mode = 'lines',\n",
    "    name = 'lines',\n",
    "    line = dict(\n",
    "        color = \"rgb(204, 51, 51)\", \n",
    "        dash = \"solid\", \n",
    "        shape = \"spline\", \n",
    "        smoothing = 0.5, \n",
    "        width= 2\n",
    "    ),\n",
    ")\n",
    "\n",
    "trace1 = go.Scatter(\n",
    "    x = fitness_thymio_runs.loc[:, 'gen'],\n",
    "    y = fitness_thymio_runs.loc[:, 'median'],\n",
    "    mode = 'lines+markers',\n",
    "    name = 'lines+markers'\n",
    ")\n",
    "\n",
    "trace2 = go.Scatter(\n",
    "    x = fitness_thymio_runs.loc[:, 'gen'],\n",
    "    y = fitness_thymio_runs.loc[:, 'avg'],\n",
    "    mode = 'lines',\n",
    "    name = 'lines'\n",
    ")\n",
    "data = [trace0, trace1, trace2]\n",
    "\n",
    "py.iplot(data, filename='line-mode0')"
   ]
  },
  {
   "cell_type": "code",
   "execution_count": 145,
   "metadata": {},
   "outputs": [],
   "source": [
    "# get the path for all fitness_generation data\n",
    "f_gen = sorted(Path('data/results/').glob('*/fitness_generation_*'))"
   ]
  },
  {
   "cell_type": "code",
   "execution_count": 146,
   "metadata": {},
   "outputs": [],
   "source": [
    "# append all dataframes and add column descriptor given by simulation type and number\n",
    "sim_data = []\n",
    "for f in f_gen:\n",
    "    (_, _, sim, _) = f.parts\n",
    "    df = pd.read_csv(f, names=['gen','genome','fitness'])\n",
    "    df['sim'] = sim\n",
    "    sim_data.append(df)"
   ]
  },
  {
   "cell_type": "code",
   "execution_count": 160,
   "metadata": {},
   "outputs": [],
   "source": [
    "# concat all data into one dataframe\n",
    "sim_data_concat = pd.concat(tuple(d for d in sim_data)).sort_values(by=['gen'])"
   ]
  },
  {
   "cell_type": "code",
   "execution_count": 165,
   "metadata": {},
   "outputs": [],
   "source": [
    "# slicing the data frame\n",
    "sim_df = sim_data_concat.loc[sim_data_concat['sim'] == 'thymio_0']"
   ]
  },
  {
   "cell_type": "code",
   "execution_count": 168,
   "metadata": {},
   "outputs": [],
   "source": [
    "sample = sim_df.loc[sim_df['gen'] == 0]"
   ]
  },
  {
   "cell_type": "code",
   "execution_count": 170,
   "metadata": {},
   "outputs": [
    {
     "data": {
      "text/html": [
       "<div>\n",
       "<style scoped>\n",
       "    .dataframe tbody tr th:only-of-type {\n",
       "        vertical-align: middle;\n",
       "    }\n",
       "\n",
       "    .dataframe tbody tr th {\n",
       "        vertical-align: top;\n",
       "    }\n",
       "\n",
       "    .dataframe thead th {\n",
       "        text-align: right;\n",
       "    }\n",
       "</style>\n",
       "<table border=\"1\" class=\"dataframe\">\n",
       "  <thead>\n",
       "    <tr style=\"text-align: right;\">\n",
       "      <th></th>\n",
       "      <th>gen</th>\n",
       "      <th>genome</th>\n",
       "      <th>fitness</th>\n",
       "      <th>sim</th>\n",
       "    </tr>\n",
       "  </thead>\n",
       "  <tbody>\n",
       "    <tr>\n",
       "      <th>15</th>\n",
       "      <td>0</td>\n",
       "      <td>16</td>\n",
       "      <td>0.000123</td>\n",
       "      <td>thymio_0</td>\n",
       "    </tr>\n",
       "    <tr>\n",
       "      <th>12</th>\n",
       "      <td>0</td>\n",
       "      <td>13</td>\n",
       "      <td>0.002440</td>\n",
       "      <td>thymio_0</td>\n",
       "    </tr>\n",
       "    <tr>\n",
       "      <th>2</th>\n",
       "      <td>0</td>\n",
       "      <td>3</td>\n",
       "      <td>0.002736</td>\n",
       "      <td>thymio_0</td>\n",
       "    </tr>\n",
       "    <tr>\n",
       "      <th>18</th>\n",
       "      <td>0</td>\n",
       "      <td>19</td>\n",
       "      <td>0.005583</td>\n",
       "      <td>thymio_0</td>\n",
       "    </tr>\n",
       "    <tr>\n",
       "      <th>6</th>\n",
       "      <td>0</td>\n",
       "      <td>7</td>\n",
       "      <td>0.006523</td>\n",
       "      <td>thymio_0</td>\n",
       "    </tr>\n",
       "    <tr>\n",
       "      <th>7</th>\n",
       "      <td>0</td>\n",
       "      <td>8</td>\n",
       "      <td>0.017702</td>\n",
       "      <td>thymio_0</td>\n",
       "    </tr>\n",
       "    <tr>\n",
       "      <th>1</th>\n",
       "      <td>0</td>\n",
       "      <td>2</td>\n",
       "      <td>0.025789</td>\n",
       "      <td>thymio_0</td>\n",
       "    </tr>\n",
       "    <tr>\n",
       "      <th>0</th>\n",
       "      <td>0</td>\n",
       "      <td>1</td>\n",
       "      <td>0.040055</td>\n",
       "      <td>thymio_0</td>\n",
       "    </tr>\n",
       "    <tr>\n",
       "      <th>16</th>\n",
       "      <td>0</td>\n",
       "      <td>17</td>\n",
       "      <td>0.056841</td>\n",
       "      <td>thymio_0</td>\n",
       "    </tr>\n",
       "    <tr>\n",
       "      <th>4</th>\n",
       "      <td>0</td>\n",
       "      <td>5</td>\n",
       "      <td>0.087345</td>\n",
       "      <td>thymio_0</td>\n",
       "    </tr>\n",
       "    <tr>\n",
       "      <th>11</th>\n",
       "      <td>0</td>\n",
       "      <td>12</td>\n",
       "      <td>0.092748</td>\n",
       "      <td>thymio_0</td>\n",
       "    </tr>\n",
       "    <tr>\n",
       "      <th>19</th>\n",
       "      <td>0</td>\n",
       "      <td>20</td>\n",
       "      <td>0.118903</td>\n",
       "      <td>thymio_0</td>\n",
       "    </tr>\n",
       "    <tr>\n",
       "      <th>9</th>\n",
       "      <td>0</td>\n",
       "      <td>10</td>\n",
       "      <td>0.167765</td>\n",
       "      <td>thymio_0</td>\n",
       "    </tr>\n",
       "    <tr>\n",
       "      <th>10</th>\n",
       "      <td>0</td>\n",
       "      <td>11</td>\n",
       "      <td>0.212835</td>\n",
       "      <td>thymio_0</td>\n",
       "    </tr>\n",
       "    <tr>\n",
       "      <th>17</th>\n",
       "      <td>0</td>\n",
       "      <td>18</td>\n",
       "      <td>0.621656</td>\n",
       "      <td>thymio_0</td>\n",
       "    </tr>\n",
       "    <tr>\n",
       "      <th>14</th>\n",
       "      <td>0</td>\n",
       "      <td>15</td>\n",
       "      <td>0.790222</td>\n",
       "      <td>thymio_0</td>\n",
       "    </tr>\n",
       "    <tr>\n",
       "      <th>13</th>\n",
       "      <td>0</td>\n",
       "      <td>14</td>\n",
       "      <td>1.151346</td>\n",
       "      <td>thymio_0</td>\n",
       "    </tr>\n",
       "    <tr>\n",
       "      <th>3</th>\n",
       "      <td>0</td>\n",
       "      <td>4</td>\n",
       "      <td>1.212663</td>\n",
       "      <td>thymio_0</td>\n",
       "    </tr>\n",
       "    <tr>\n",
       "      <th>5</th>\n",
       "      <td>0</td>\n",
       "      <td>6</td>\n",
       "      <td>1.470718</td>\n",
       "      <td>thymio_0</td>\n",
       "    </tr>\n",
       "    <tr>\n",
       "      <th>8</th>\n",
       "      <td>0</td>\n",
       "      <td>9</td>\n",
       "      <td>2.696807</td>\n",
       "      <td>thymio_0</td>\n",
       "    </tr>\n",
       "  </tbody>\n",
       "</table>\n",
       "</div>"
      ],
      "text/plain": [
       "    gen  genome   fitness       sim\n",
       "15    0      16  0.000123  thymio_0\n",
       "12    0      13  0.002440  thymio_0\n",
       "2     0       3  0.002736  thymio_0\n",
       "18    0      19  0.005583  thymio_0\n",
       "6     0       7  0.006523  thymio_0\n",
       "7     0       8  0.017702  thymio_0\n",
       "1     0       2  0.025789  thymio_0\n",
       "0     0       1  0.040055  thymio_0\n",
       "16    0      17  0.056841  thymio_0\n",
       "4     0       5  0.087345  thymio_0\n",
       "11    0      12  0.092748  thymio_0\n",
       "19    0      20  0.118903  thymio_0\n",
       "9     0      10  0.167765  thymio_0\n",
       "10    0      11  0.212835  thymio_0\n",
       "17    0      18  0.621656  thymio_0\n",
       "14    0      15  0.790222  thymio_0\n",
       "13    0      14  1.151346  thymio_0\n",
       "3     0       4  1.212663  thymio_0\n",
       "5     0       6  1.470718  thymio_0\n",
       "8     0       9  2.696807  thymio_0"
      ]
     },
     "execution_count": 170,
     "metadata": {},
     "output_type": "execute_result"
    }
   ],
   "source": [
    "sample.sort_values(by=['fitness'])"
   ]
  },
  {
   "cell_type": "code",
   "execution_count": 203,
   "metadata": {},
   "outputs": [
    {
     "data": {
      "text/html": [
       "<iframe id=\"igraph\" scrolling=\"no\" style=\"border:none;\" seamless=\"seamless\" src=\"https://plot.ly/~richban_/20.embed\" height=\"525px\" width=\"100%\"></iframe>"
      ],
      "text/plain": [
       "<chart_studio.tools.PlotlyDisplay object>"
      ]
     },
     "execution_count": 203,
     "metadata": {},
     "output_type": "execute_result"
    }
   ],
   "source": [
    "l = []\n",
    "y = []\n",
    "\n",
    "N = len(sim_df.gen.unique())\n",
    "\n",
    "c = ['hsl('+str(h)+',50%'+',50%)' for h in np.linspace(0, 360, N)]\n",
    "\n",
    "for i in range(int(N)):\n",
    "    subset = sim_df.loc[sim_df['gen'] == i]\n",
    "\n",
    "    trace0= go.Scatter(\n",
    "        x= subset.loc[:, 'gen'],\n",
    "        y= subset.loc[:, 'fitness'],\n",
    "        mode= 'markers',\n",
    "        marker= dict(size= 14,\n",
    "                    line= dict(width=1),\n",
    "                    color= c[i],\n",
    "                    opacity= 0.3\n",
    "                   ),\n",
    "        name = 'gen {}'.format(i),\n",
    "        text = subset.loc[:, 'genome']\n",
    "    )\n",
    "    l.append(trace0);\n",
    "\n",
    "layout= go.Layout(\n",
    "    title= 'Stats of Individuals',\n",
    "    hovermode= 'closest',\n",
    "    xaxis= dict(\n",
    "        title= 'Generations',\n",
    "        ticklen= 5,\n",
    "        zeroline= False,\n",
    "        gridwidth= 2,\n",
    "    ),\n",
    "    yaxis=dict(\n",
    "        title= 'Fitness',\n",
    "        ticklen= 5,\n",
    "        gridwidth= 1,\n",
    "    ),\n",
    "    showlegend= False\n",
    ")\n",
    "fig = go.Figure(data=l, layout=layout)\n",
    "py.iplot(fig)"
   ]
  },
  {
   "cell_type": "code",
   "execution_count": 225,
   "metadata": {},
   "outputs": [
    {
     "data": {
      "text/html": [
       "<iframe id=\"igraph\" scrolling=\"no\" style=\"border:none;\" seamless=\"seamless\" src=\"https://plot.ly/~richban_/22.embed\" height=\"525px\" width=\"100%\"></iframe>"
      ],
      "text/plain": [
       "<chart_studio.tools.PlotlyDisplay object>"
      ]
     },
     "execution_count": 225,
     "metadata": {},
     "output_type": "execute_result"
    }
   ],
   "source": [
    "# Create random data with numpy\n",
    "import numpy as np\n",
    "\n",
    "l = []\n",
    "y = []\n",
    "\n",
    "N = len(sim_df.gen.unique())\n",
    "\n",
    "c = ['hsl('+str(h)+',50%'+',50%)' for h in np.linspace(0, 360, N)]\n",
    "\n",
    "for i in range(int(N)):\n",
    "    subset = sim_df.loc[sim_df['gen'] == i]\n",
    "\n",
    "    trace0= go.Scatter(\n",
    "        x= subset.loc[:, 'gen'],\n",
    "        y= subset.loc[:, 'fitness'],\n",
    "        mode= 'markers',\n",
    "        marker= dict(size= 14,\n",
    "                    line= dict(width=1),\n",
    "                    color= c[i],\n",
    "                    opacity= 0.3\n",
    "                   ),\n",
    "        name = 'gen {}'.format(i),\n",
    "        text = subset.loc[:, 'genome']\n",
    "    )\n",
    "    l.append(trace0);\n",
    "\n",
    "# Create traces\n",
    "trace0 = go.Scatter(\n",
    "    x = fitness_thymio_runs.loc[:, 'gen'],\n",
    "    y = fitness_thymio_runs.loc[:, 'max'],\n",
    "    mode = 'lines',\n",
    "    name = 'lines',\n",
    "    line = dict(\n",
    "        color = \"rgb(204, 51, 51)\", \n",
    "        dash = \"solid\", \n",
    "        shape = \"spline\", \n",
    "        smoothing = 0.5, \n",
    "        width= 2\n",
    "    ),\n",
    ")\n",
    "\n",
    "trace1 = go.Scatter(\n",
    "    x = fitness_thymio_runs.loc[:, 'gen'],\n",
    "    y = fitness_thymio_runs.loc[:, 'median'],\n",
    "    mode = 'lines',\n",
    "    name = 'lines'\n",
    ")\n",
    "\n",
    "trace2 = go.Scatter(\n",
    "    x = fitness_thymio_runs.loc[:, 'gen'],\n",
    "    y = fitness_thymio_runs.loc[:, 'avg'],\n",
    "    mode = 'lines',\n",
    "    name = 'lines'\n",
    ")\n",
    "\n",
    "data = [trace0, trace1, trace2]\n",
    "\n",
    "layout= go.Layout(\n",
    "    title= 'Stats of Individuals',\n",
    "    hovermode= 'closest',\n",
    "    xaxis= dict(\n",
    "        title= 'Generations',\n",
    "        ticklen= 5,\n",
    "        zeroline= False,\n",
    "        gridwidth= 2,\n",
    "    ),\n",
    "    yaxis=dict(\n",
    "        title= 'Fitness',\n",
    "        ticklen= 5,\n",
    "        gridwidth= 1,\n",
    "    ),\n",
    "    showlegend= False\n",
    ")\n",
    "\n",
    "fig = go.Figure(data=data+l, layout=layout)\n",
    "\n",
    "py.iplot(fig, filename='scater-line-plot', layout=layout)"
   ]
  }
 ],
 "metadata": {
  "kernelspec": {
   "display_name": "Python 3",
   "language": "python",
   "name": "python3"
  },
  "language_info": {
   "codemirror_mode": {
    "name": "ipython",
    "version": 3
   },
   "file_extension": ".py",
   "mimetype": "text/x-python",
   "name": "python",
   "nbconvert_exporter": "python",
   "pygments_lexer": "ipython3",
   "version": "3.7.2"
  }
 },
 "nbformat": 4,
 "nbformat_minor": 2
}
